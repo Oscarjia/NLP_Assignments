{
 "cells": [
  {
   "cell_type": "markdown",
   "metadata": {},
   "source": [
    "# Assignment 10"
   ]
  },
  {
   "cell_type": "markdown",
   "metadata": {},
   "source": [
    "### 1.复习上课内容"
   ]
  },
  {
   "cell_type": "markdown",
   "metadata": {},
   "source": [
    "### 2. 回答一下理论题目"
   ]
  },
  {
   "cell_type": "markdown",
   "metadata": {},
   "source": [
    "#### 1. What is independent assumption in Naive bayes ?"
   ]
  },
  {
   "cell_type": "markdown",
   "metadata": {},
   "source": [
    "朴素贝叶斯是一个生成模型，对于每一种分类，它都可以生成一个后验概率\n",
    "\n",
    "$h_{y=y_0, MAP}\\\\=\\arg\\max_{h\\in H}P(y=y_0|a_1,a_2,a_3,...)\\\\=\\arg\\max_{h\\in H}\\frac{P(a_1,a_2,a_3,...|y=y_0)\\cdot P(y=y_0)}{P(a_1,a_2,...)}\\\\=\\arg\\max_{h\\in H}{P(a_1,a_2,a_3,...|y=y_0)\\cdot P(y=y_0)}\\\\=\\arg\\max_{h\\in H}{P(a_1|y_0)\\cdot P(a_2|y_0)\\cdot P(a_3|y_0)\\cdots P(y=y_0)} (According to \"Naive\"hypothesis)$\n",
    "\n",
    "然后我们同样可以求出$h_{y=y_1}$, $h_{y=y_2}$, ...。最后y的估计值就是使h得到最大值所对于的y值。\n",
    "\n",
    "其中，朴素指的就是变量之间相互独立的假设，简化了模型，使得最后一步可以很容易的求出\n",
    "\n"
   ]
  },
  {
   "cell_type": "markdown",
   "metadata": {},
   "source": [
    "#### 2. What is MAP(maximum a posterior) and ML(maximum likelihood) ?"
   ]
  },
  {
   "cell_type": "markdown",
   "metadata": {},
   "source": [
    "$h_{MAP}=\\arg\\max_{h\\in H}P(h|D)=\\arg\\max_{h\\in H}P(D|h)P(h)$\n",
    "\n",
    "$h_{ML}=\\arg\\max_{h\\in H}P(D|h)$\n",
    "\n",
    "where D is short for Data, H is the set of Hypothesises, h is a particular function in the hypothesises\n",
    "\n",
    "简单解释：\n",
    "\n",
    "- 在极大后验概率情况下，Data已经发生，我们需要求一个最佳h，它对数据的拟合情况最好（生成概率最大），则这个h就是最佳h\n",
    "- 在极大似然的情况下，我们要求一个h，使得在这个h下，我们取得观测数据D的概率最大，则这个h是最佳h"
   ]
  },
  {
   "cell_type": "markdown",
   "metadata": {},
   "source": [
    "#### 3. What is support vector in SVM?"
   ]
  },
  {
   "cell_type": "markdown",
   "metadata": {},
   "source": [
    "在线性可分的情况下，训练数据集的样本点中与分离超平面距离最近的样本点的实例称为支持向量（support vector）。\n",
    "\n",
    "支持向量是使约束条件式 $y_i(w\\cdot x_i + b)-1\\geq 0\\quad i=1,2,\\cdots,N$ 等号成立的点，即：\n",
    "\n",
    "$y_i(w\\cdot x_i + b)-1 = 0$\n",
    "\n",
    "对于$y_i=+1$的正例点，支持向量在超平面 $HyperPlane_1:w\\cdot x+b=1$ 上，\n",
    "\n",
    "对于$y_i=-1$的正例点，支持向量在超平面 $HyperPlane_2:w\\cdot x+b=-1$ 上。"
   ]
  },
  {
   "cell_type": "markdown",
   "metadata": {},
   "source": [
    "#### 4. What is the intuition behind SVM ?"
   ]
  },
  {
   "cell_type": "markdown",
   "metadata": {},
   "source": [
    "SVM的原理是，通过找到一个超平面，把数据中的正例和反例切分开来，并且使得正例和反例中离平面最近的数据点，到平面的距离最大化，则这个切分平面就是最佳分割。\n",
    "\n",
    "如果数据线性不可分，则可通过修改**硬间隔最大化**为**软间隔最大化**，使之能够被线性分割。（软间隔最大化）\n",
    "\n",
    "如果数据的问题是非线性问题，则可通过 **Kernal Trick**，将数据打到高维，然后转换为线性可分的问题。（非线性支持向量机）\n"
   ]
  },
  {
   "cell_type": "markdown",
   "metadata": {},
   "source": [
    "#### 5. Shortly describ what 'random' means in random forest ?"
   ]
  },
  {
   "cell_type": "markdown",
   "metadata": {},
   "source": [
    "- 样本随机取得（bootstrap）\n",
    "- 特征随机取得（每棵树只选取一部分特征来做分类）"
   ]
  },
  {
   "cell_type": "markdown",
   "metadata": {},
   "source": [
    "#### 6. What criterion does XGBoost use to find the best split point in a tree ?"
   ]
  },
  {
   "cell_type": "markdown",
   "metadata": {},
   "source": [
    "**To split：**枚举所有不同树结构，贪心算法\n",
    "\n",
    "**To find best split：**Loss function + Regularization：$Obj=\\sum_{i=1}^{n}l(y_i, \\hat{y}_i)+\\sum_{k=1}^{K}\\Omega(f_k)$\n",
    "\n",
    "其中：$l$为loss；$\\Omega$为正则化项，表示树的复杂度\n",
    "\n",
    "$\\Omega(f)=\\gamma T+\\frac{1}{2}\\lambda\\sum_{j=1}^{T}w_j^{2}$，$T$代表叶子节点的个数，$w$代表叶子节点的分数，分别由$\\gamma$和$\\lambda$控制。"
   ]
  },
  {
   "cell_type": "markdown",
   "metadata": {},
   "source": [
    "### 3. Practical part"
   ]
  },
  {
   "cell_type": "markdown",
   "metadata": {},
   "source": [
    "##### Problem description: In this part you are going to build a classifier to detect if a piece of news is published by the Xinhua news agency (新华社）."
   ]
  },
  {
   "cell_type": "markdown",
   "metadata": {},
   "source": [
    "#### Hints:"
   ]
  },
  {
   "cell_type": "markdown",
   "metadata": {},
   "source": [
    "###### 1. Firstly, you have to come up with a way to represent the news. (Vectorize the sentence, you can find different ways to do so online)  "
   ]
  },
  {
   "cell_type": "markdown",
   "metadata": {},
   "source": [
    "Read data"
   ]
  },
  {
   "cell_type": "code",
   "execution_count": 1,
   "metadata": {},
   "outputs": [],
   "source": [
    "import re\n",
    "import pandas as pd\n",
    "df = pd.read_csv('C:/Users/yihua/学习/开课吧NLP_course/my/Project01/content/raw_news/sqlResult_1558435.csv', encoding=\"ANSI\")"
   ]
  },
  {
   "cell_type": "markdown",
   "metadata": {},
   "source": [
    "**查找后发现新华社新闻有不同标签:**"
   ]
  },
  {
   "cell_type": "code",
   "execution_count": 2,
   "metadata": {},
   "outputs": [
    {
     "name": "stdout",
     "output_type": "stream",
     "text": [
      "新华社@\n",
      "新华社@http://tech.163.com/17/0619/15/CNA7J2EJ00097U7T.html\n",
      "新华社\n",
      "新华社新媒体专线\n",
      "新华社@http://tech.huanqiu.com/intelligent/2017-06/10868069.html?qq-pf-to=pcqq.c2c\n"
     ]
    }
   ],
   "source": [
    "for i in set(df.loc[:, 'source'].dropna()):\n",
    "    if re.findall(r'新华社', i):\n",
    "        print(i)"
   ]
  },
  {
   "cell_type": "markdown",
   "metadata": {},
   "source": [
    "**提取训练数据**"
   ]
  },
  {
   "cell_type": "code",
   "execution_count": 3,
   "metadata": {},
   "outputs": [
    {
     "data": {
      "text/plain": [
       "(87052, 87052, [0, 0, 0, 1, 0, 0, 0, 0, 0, 0])"
      ]
     },
     "execution_count": 3,
     "metadata": {},
     "output_type": "execute_result"
    }
   ],
   "source": [
    "df = df[[\"title\", \"content\", \"source\"]].dropna(axis=0, how='any')\n",
    "X = list(df[\"content\"])\n",
    "y = list(df[\"source\"])\n",
    "y = [re.findall(r'新华社', i) and 1 or 0 for i in y]       # 是新华社就是1，不是就是0\n",
    "len(X), len(y), y[:10]"
   ]
  },
  {
   "cell_type": "markdown",
   "metadata": {},
   "source": [
    "**把y清洗一下，变成one-hot**"
   ]
  },
  {
   "cell_type": "code",
   "execution_count": 4,
   "metadata": {},
   "outputs": [
    {
     "data": {
      "text/plain": [
       "array([[0],\n",
       "       [0],\n",
       "       [0],\n",
       "       ...,\n",
       "       [1],\n",
       "       [1],\n",
       "       [1]])"
      ]
     },
     "execution_count": 4,
     "metadata": {},
     "output_type": "execute_result"
    }
   ],
   "source": [
    "from sklearn.preprocessing import OneHotEncoder\n",
    "import numpy as np\n",
    "\n",
    "y = np.array(y).reshape(-1, 1)\n",
    "y"
   ]
  },
  {
   "cell_type": "code",
   "execution_count": 5,
   "metadata": {},
   "outputs": [
    {
     "name": "stderr",
     "output_type": "stream",
     "text": [
      "C:\\Users\\yihua\\Anaconda3\\lib\\site-packages\\sklearn\\preprocessing\\_encoders.py:415: FutureWarning: The handling of integer data will change in version 0.22. Currently, the categories are determined based on the range [0, max(values)], while in the future they will be determined based on the unique values.\n",
      "If you want the future behaviour and silence this warning, you can specify \"categories='auto'\".\n",
      "In case you used a LabelEncoder before this OneHotEncoder to convert the categories to integers, then you can now use the OneHotEncoder directly.\n",
      "  warnings.warn(msg, FutureWarning)\n"
     ]
    },
    {
     "data": {
      "text/plain": [
       "array([[1., 0.],\n",
       "       [1., 0.],\n",
       "       [1., 0.],\n",
       "       ...,\n",
       "       [0., 1.],\n",
       "       [0., 1.],\n",
       "       [0., 1.]])"
      ]
     },
     "execution_count": 5,
     "metadata": {},
     "output_type": "execute_result"
    }
   ],
   "source": [
    "enc = OneHotEncoder()\n",
    "y = enc.fit_transform(y).toarray()\n",
    "y"
   ]
  },
  {
   "cell_type": "markdown",
   "metadata": {},
   "source": [
    "**可以看到类别不均衡**"
   ]
  },
  {
   "cell_type": "code",
   "execution_count": 6,
   "metadata": {},
   "outputs": [
    {
     "data": {
      "image/png": "[encoded data removed]",
      "text/plain": [
       "<Figure size 432x288 with 1 Axes>"
      ]
     },
     "metadata": {
      "needs_background": "light"
     },
     "output_type": "display_data"
    }
   ],
   "source": [
    "import matplotlib.pyplot as plt\n",
    "plt.hist([int(i[1]) for i in y]);"
   ]
  },
  {
   "cell_type": "markdown",
   "metadata": {},
   "source": [
    "**大部分都是新华社的，少部分不是**"
   ]
  },
  {
   "cell_type": "markdown",
   "metadata": {},
   "source": [
    "**清洗X**"
   ]
  },
  {
   "cell_type": "code",
   "execution_count": 7,
   "metadata": {},
   "outputs": [],
   "source": [
    "from hanziconv import HanziConv\n",
    "import jieba\n",
    "\n",
    "def get_stopwords(path='stopwords.txt', punctuations=True, bookmarks=False, text_stopwords=True):\n",
    "    '''\n",
    "    加载停用词表，去掉一些噪声\n",
    "    punctions是否作为停用词，是停用词为False（不保留），要保留在语料里为True\n",
    "    bookmarks是否作为停用词，是停用词为False（不保留），要保留在语料里为True\n",
    "    text_stopwords是否作为停用词，是停用词为False（不保留）, 要保留在语料里为True\n",
    "    :return: 停用词集合\n",
    "    '''\n",
    "    # 加载停用词表\n",
    "    stopword_set = set()\n",
    "    with open(path, 'r', encoding=\"utf-8\") as stopwords:  # stopwords.txt停用词表，我放在同一目录下\n",
    "        for stopword in stopwords:\n",
    "            stopword_set.add(stopword.strip(\"\\n\"))\n",
    "    stopword_set = set([i.strip() for i in stopword_set])\n",
    "    if punctuations == True: [stopword_set.remove(i) for i in [\"！\",\"!\",\"，\",\",\",\"。\",\".\",\"：\",\"；\",\";\",\":\",\"？\",\"?\"]];\n",
    "    if bookmarks == True: [stopword_set.remove(i) for i in [\"《\",\"》\"]];\n",
    "    if text_stopwords == True: [stopword_set.remove(i) for i in set([\"第二\",\"一番\",\"一直\",\"一个\",\"一些\",\"许多\",\"种\",\"有的是\",\"也就是说\",\"末##末\",\"啊\",\"阿\",\"哎\",\"哎呀\",\"哎哟\",\"唉\",\"俺\",\"俺们\",\"按\",\"按照\",\"吧\",\"吧哒\",\"把\",\"罢了\",\"被\",\"本\",\"本着\",\"比\",\"比方\",\"比如\",\"鄙人\",\"彼\",\"彼此\",\"边\",\"别\",\"别的\",\"别说\",\"并\",\"并且\",\"不比\",\"不成\",\"不单\",\"不但\",\"不独\",\"不管\",\"不光\",\"不过\",\"不仅\",\"不拘\",\"不论\",\"不怕\",\"不然\",\"不如\",\"不特\",\"不惟\",\"不问\",\"不只\",\"朝\",\"朝着\",\"趁\",\"趁着\",\"乘\",\"冲\",\"除\",\"除此之外\",\"除非\",\"除了\",\"此\",\"此间\",\"此外\",\"从\",\"从而\",\"打\",\"待\",\"但\",\"但是\",\"当\",\"当着\",\"到\",\"得\",\"的\",\"的话\",\"等\",\"等等\",\"地\",\"第\",\"叮咚\",\"对\",\"对于\",\"多\",\"多少\",\"而\",\"而况\",\"而且\",\"而是\",\"而外\",\"而言\",\"而已\",\"尔后\",\"反过来\",\"反过来说\",\"反之\",\"非但\",\"非徒\",\"否则\",\"嘎\",\"嘎登\",\"该\",\"赶\",\"个\",\"各\",\"各个\",\"各位\",\"各种\",\"各自\",\"给\",\"根据\",\"跟\",\"故\",\"故此\",\"固然\",\"关于\",\"管\",\"归\",\"果然\",\"果真\",\"过\",\"哈\",\"哈哈\",\"呵\",\"和\",\"何\",\"何处\",\"何况\",\"何时\",\"嘿\",\"哼\",\"哼唷\",\"呼哧\",\"乎\",\"哗\",\"还是\",\"还有\",\"换句话说\",\"换言之\",\"或\",\"或是\",\"或者\",\"极了\",\"及\",\"及其\",\"及至\",\"即\",\"即便\",\"即或\",\"即令\",\"即若\",\"即使\",\"几\",\"几时\",\"己\",\"既\",\"既然\",\"既是\",\"继而\",\"加之\",\"假如\",\"假若\",\"假使\",\"鉴于\",\"将\",\"较\",\"较之\",\"叫\",\"接着\",\"结果\",\"借\",\"紧接着\",\"进而\",\"尽\",\"尽管\",\"经\",\"经过\",\"就\",\"就是\",\"就是说\",\"据\",\"具体地说\",\"具体说来\",\"开始\",\"开外\",\"靠\",\"咳\",\"可\",\"可见\",\"可是\",\"可以\",\"况且\",\"啦\",\"来\",\"来着\",\"离\",\"例如\",\"哩\",\"连\",\"连同\",\"两者\",\"了\",\"临\",\"另\",\"另外\",\"另一方面\",\"论\",\"嘛\",\"吗\",\"慢说\",\"漫说\",\"冒\",\"么\",\"每\",\"每当\",\"们\",\"莫若\",\"某\",\"某个\",\"某些\",\"拿\",\"哪\",\"哪边\",\"哪儿\",\"哪个\",\"哪里\",\"哪年\",\"哪怕\",\"哪天\",\"哪些\",\"哪样\",\"那\",\"那边\",\"那儿\",\"那个\",\"那会儿\",\"那里\",\"那么\",\"那么些\",\"那么样\",\"那时\",\"那些\",\"那样\",\"乃\",\"乃至\",\"呢\",\"能\",\"你\",\"你们\",\"您\",\"宁\",\"宁可\",\"宁肯\",\"宁愿\",\"哦\",\"呕\",\"啪达\",\"旁人\",\"呸\",\"凭\",\"凭借\",\"其\",\"其次\",\"其二\",\"其他\",\"其它\",\"其一\",\"其余\",\"其中\",\"起\",\"起见\",\"起见\",\"岂但\",\"恰恰相反\",\"前后\",\"前者\",\"且\",\"然而\",\"然后\",\"然则\",\"让\",\"人家\",\"任\",\"任何\",\"任凭\",\"如\",\"如此\",\"如果\",\"如何\",\"如其\",\"如若\",\"如上所述\",\"若\",\"若非\",\"若是\",\"啥\",\"上下\",\"尚且\",\"设若\",\"设使\",\"甚而\",\"甚么\",\"甚至\",\"省得\",\"时候\",\"什么\",\"什么样\",\"使得\",\"是\",\"是的\",\"首先\",\"谁\",\"谁知\",\"顺\",\"顺着\",\"似的\",\"虽\",\"虽然\",\"虽说\",\"虽则\",\"随\",\"随着\",\"所\",\"所以\",\"他\",\"他们\",\"他人\",\"它\",\"它们\",\"她\",\"她们\",\"倘\",\"倘或\",\"倘然\",\"倘若\",\"倘使\",\"腾\",\"替\",\"通过\",\"同\",\"同时\",\"哇\",\"万一\",\"往\",\"望\",\"为\",\"为何\",\"为了\",\"为什么\",\"为着\",\"喂\",\"嗡嗡\",\"我\",\"我们\",\"呜\",\"呜呼\",\"乌乎\",\"无论\",\"无宁\",\"毋宁\",\"嘻\",\"吓\",\"相对而言\",\"像\",\"向\",\"向着\",\"嘘\",\"呀\",\"焉\",\"沿\",\"沿着\",\"要\",\"要不\",\"要不然\",\"要不是\",\"要么\",\"要是\",\"也\",\"也罢\",\"也好\",\"一\",\"一般\",\"一旦\",\"一方面\",\"一来\",\"一切\",\"一样\",\"一则\",\"依\",\"依照\",\"矣\",\"以\",\"以便\",\"以及\",\"以免\",\"以至\",\"以至于\",\"以致\",\"抑或\",\"因\",\"因此\",\"因而\",\"因为\",\"哟\",\"用\",\"由\",\"由此可见\",\"由于\",\"有\",\"有的\",\"有关\",\"有些\",\"又\",\"于\",\"于是\",\"于是乎\",\"与\",\"与此同时\",\"与否\",\"与其\",\"越是\",\"云云\",\"哉\",\"再说\",\"再者\",\"在\",\"在下\",\"咱\",\"咱们\",\"则\",\"怎\",\"怎么\",\"怎么办\",\"怎么样\",\"怎样\",\"咋\",\"照\",\"照着\",\"者\",\"这\",\"这边\",\"这儿\",\"这个\",\"这会儿\",\"这就是说\",\"这里\",\"这么\",\"这么点儿\",\"这么些\",\"这么样\",\"这时\",\"这些\",\"这样\",\"正如\",\"吱\",\"之\",\"之类\",\"之所以\",\"之一\",\"只是\",\"只限\",\"只要\",\"只有\",\"至\",\"至于\",\"诸位\",\"着\",\"着呢\",\"自\",\"自从\",\"自个儿\",\"自各儿\",\"自己\",\"自家\",\"自身\",\"综上所述\",\"总的来看\",\"总的来说\",\"总的说来\",\"总而言之\",\"总之\",\"纵\",\"纵令\",\"纵然\",\"纵使\",\"遵照\",\"作为\",\"兮\",\"呃\",\"呗\",\"咚\",\"咦\",\"喏\",\"啐\",\"喔唷\",\"嗬\",\"嗯\",\"嗳\"])];\n",
    "    return stopword_set\n",
    "\n",
    "def split_sentence(document):\n",
    "    '''\n",
    "    this is to split a doc into sentences\n",
    "    分句之前先把\\n，\\r，\\r\\n，\\u3000直接洗掉即可\n",
    "    分句的规则有：1.碰到句号，问号，感叹号，分号还有空格就分，并把标点符号加到前句\n",
    "    '''\n",
    "    document = document.strip().replace(\"\\r\", \"\").replace(\"\\n\", \"\").replace(\"\\\\n\", \"\").replace(\"\\u3000\", \"\").replace(\"\\\\\", \"\")\n",
    "    # 以结尾标点切分\n",
    "    splitted = re.split(r\"([？?。!！；…])\", document)\n",
    "    # 标点符号加回句子\n",
    "    splitted.append(\"\")\n",
    "    splitted = [\"\".join(i) for i in zip(splitted[0::2],splitted[1::2])]\n",
    "    return [i for i in splitted if i != '']\n",
    "\n",
    "def wash_and_split(input_text, punctuations=True, bookmarks=False, text_stopwords=True):\n",
    "    '''\n",
    "    主要的数据预处理函数\n",
    "    输入一篇文章string\n",
    "    输出分词分句并清洗后的句子列表，以备训练word2vec使用\n",
    "    \n",
    "    关于停用词见 get_stopwords 函数的注释\n",
    "    '''\n",
    "    if input_text == \"\": return [[\"\"]]\n",
    "    \n",
    "    sentences = split_sentence(HanziConv.toSimplified(input_text))\n",
    "    cutted = list(map(jieba.lcut, sentences))\n",
    "    \n",
    "    stopwds = get_stopwords(path='stopwords.txt', punctuations=punctuations, bookmarks=bookmarks, text_stopwords=text_stopwords)\n",
    "    \n",
    "    def remove_stopwords_for_each_sentence(list_of_words):\n",
    "        for i, word in enumerate(list_of_words):\n",
    "            if word in stopwds or word == \" \":\n",
    "                list_of_words.remove(list_of_words[i])\n",
    "        return list_of_words\n",
    "    \n",
    "    cutted = map(remove_stopwords_for_each_sentence, cutted)\n",
    "#   cutted = [i for i in list(cutted) if i != []]\n",
    "    return [i for i in list(cutted) if i not in [[], [\"…\"]]]"
   ]
  },
  {
   "cell_type": "code",
   "execution_count": 8,
   "metadata": {},
   "outputs": [
    {
     "name": "stderr",
     "output_type": "stream",
     "text": [
      "Building prefix dict from the default dictionary ...\n",
      "Loading model from cache C:\\Users\\yihua\\AppData\\Local\\Temp\\jieba.cache\n",
      "Loading model cost 1.608 seconds.\n",
      "Prefix dict has been built succesfully.\n"
     ]
    },
    {
     "name": "stdout",
     "output_type": "stream",
     "text": [
      "87052/87052"
     ]
    }
   ],
   "source": [
    "X_splitted = []\n",
    "for i, content in enumerate(X):\n",
    "    X_splitted.append(wash_and_split(content, punctuations=False))\n",
    "    print(\"\\r{}/{}\".format(i+1, len(X)), end='')"
   ]
  },
  {
   "cell_type": "code",
   "execution_count": 9,
   "metadata": {},
   "outputs": [
    {
     "data": {
      "image/png": "[encoded data removed]",
      "text/plain": [
       "<Figure size 432x288 with 1 Axes>"
      ]
     },
     "metadata": {
      "needs_background": "light"
     },
     "output_type": "display_data"
    }
   ],
   "source": [
    "plt.hist([len(text) for text in X_splitted], np.arange(0,101,5), alpha=0.9);\n",
    "plt.xlabel('length of Document');\n",
    "plt.ylabel('Count');\n",
    "plt.title('Distribution of Document Length');"
   ]
  },
  {
   "cell_type": "markdown",
   "metadata": {},
   "source": [
    "有些content里有脏数据，把这些数据删掉"
   ]
  },
  {
   "cell_type": "code",
   "execution_count": 10,
   "metadata": {},
   "outputs": [
    {
     "name": "stdout",
     "output_type": "stream",
     "text": [
      "2304 []\n",
      "5012 []\n",
      "8756 []\n",
      "9735 []\n",
      "13056 []\n",
      "13321 []\n",
      "17463 []\n",
      "17563 []\n",
      "19935 []\n",
      "21358 []\n",
      "21445 []\n",
      "21680 []\n",
      "21697 []\n",
      "22514 []\n",
      "22515 []\n",
      "22566 []\n",
      "22971 []\n",
      "22972 []\n",
      "23199 []\n",
      "23716 []\n",
      "23994 []\n",
      "24196 []\n",
      "24614 []\n",
      "24615 []\n",
      "24842 []\n",
      "24935 []\n",
      "25343 []\n",
      "25350 []\n",
      "25369 []\n",
      "25842 []\n",
      "25889 []\n",
      "26507 []\n",
      "26508 []\n",
      "26601 []\n",
      "26931 []\n",
      "27455 []\n",
      "27464 []\n",
      "28011 []\n",
      "28045 []\n",
      "28813 []\n",
      "29147 []\n",
      "29149 []\n",
      "29150 []\n",
      "29163 []\n",
      "29169 []\n",
      "29170 []\n",
      "29183 []\n",
      "29607 []\n",
      "29888 []\n",
      "30245 []\n",
      "30246 []\n",
      "30247 []\n",
      "30248 []\n",
      "30249 []\n",
      "30250 []\n",
      "30251 []\n",
      "30252 []\n",
      "30276 []\n",
      "30278 []\n",
      "30555 []\n",
      "30776 []\n",
      "31389 []\n",
      "31390 []\n",
      "31499 []\n",
      "31500 []\n",
      "31501 []\n",
      "31502 []\n",
      "31503 []\n",
      "31504 []\n",
      "31505 []\n",
      "31506 []\n",
      "31507 []\n",
      "31508 []\n",
      "31509 []\n",
      "31510 []\n",
      "31511 []\n",
      "32436 []\n",
      "32448 []\n",
      "32697 []\n",
      "32698 []\n",
      "32699 []\n",
      "32700 []\n",
      "32701 []\n",
      "32702 []\n",
      "32707 []\n",
      "32708 []\n",
      "32709 []\n",
      "32711 []\n",
      "32712 []\n",
      "32714 []\n",
      "33408 []\n",
      "33512 []\n",
      "34118 []\n",
      "34120 []\n",
      "34949 []\n",
      "35122 []\n",
      "35237 []\n",
      "35240 []\n",
      "35241 []\n",
      "36257 []\n",
      "37903 []\n",
      "37952 []\n",
      "37953 []\n",
      "37955 []\n",
      "38924 []\n",
      "38931 []\n",
      "38986 []\n",
      "39301 []\n",
      "39341 []\n",
      "39387 []\n",
      "39648 []\n",
      "40444 []\n",
      "40445 []\n",
      "40516 []\n",
      "40914 []\n",
      "41217 []\n",
      "42139 []\n",
      "42522 []\n",
      "42563 []\n",
      "42938 []\n",
      "45650 []\n",
      "46764 []\n",
      "46828 []\n",
      "46829 []\n",
      "46830 []\n",
      "46832 []\n",
      "46833 []\n",
      "46837 []\n",
      "47481 []\n",
      "48421 []\n",
      "49035 []\n",
      "49701 []\n",
      "52345 []\n",
      "52347 []\n",
      "52356 []\n",
      "52357 []\n",
      "52359 []\n",
      "53259 []\n",
      "53622 []\n",
      "53646 []\n",
      "54375 []\n",
      "54875 []\n",
      "54905 []\n",
      "54910 []\n",
      "54912 []\n",
      "54913 []\n",
      "55063 []\n",
      "55927 []\n",
      "55929 []\n",
      "55930 []\n",
      "55981 []\n",
      "55986 []\n",
      "55988 []\n",
      "55989 []\n",
      "57172 []\n",
      "57173 []\n",
      "57174 []\n",
      "57175 []\n",
      "57176 []\n",
      "57201 []\n",
      "57205 []\n",
      "57207 []\n",
      "58424 []\n",
      "58428 []\n",
      "58429 []\n",
      "59704 []\n",
      "60043 []\n",
      "60063 []\n",
      "60570 []\n",
      "61154 []\n",
      "62053 []\n",
      "62457 []\n",
      "63988 []\n",
      "64323 []\n",
      "65418 []\n",
      "65576 []\n",
      "68305 []\n",
      "68312 []\n",
      "68856 []\n",
      "68882 []\n",
      "69316 []\n",
      "71602 []\n",
      "72621 []\n",
      "73573 []\n",
      "73942 []\n",
      "74959 []\n",
      "75703 []\n",
      "75705 []\n",
      "75707 []\n",
      "84615 []\n",
      "85964 []\n"
     ]
    }
   ],
   "source": [
    "for i, text in enumerate(X_splitted):\n",
    "    if len(text) == 0:\n",
    "        print(i, text)"
   ]
  },
  {
   "cell_type": "code",
   "execution_count": 11,
   "metadata": {},
   "outputs": [
    {
     "data": {
      "text/plain": [
       "(86861, 86861)"
      ]
     },
     "execution_count": 11,
     "metadata": {},
     "output_type": "execute_result"
    }
   ],
   "source": [
    "x1, y1 = [], []\n",
    "for a, b in zip(X_splitted, y):\n",
    "    if a:\n",
    "        x1.append(a)\n",
    "        y1.append(b)\n",
    "len(x1), len(y1)"
   ]
  },
  {
   "cell_type": "markdown",
   "metadata": {},
   "source": [
    "**使用SIF构建句向量**"
   ]
  },
  {
   "cell_type": "code",
   "execution_count": 12,
   "metadata": {},
   "outputs": [],
   "source": [
    "from SIF import *"
   ]
  },
  {
   "cell_type": "code",
   "execution_count": 13,
   "metadata": {},
   "outputs": [],
   "source": [
    "model = word2vec.Word2Vec.load('C:/Users/yihua/学习/开课吧NLP_course/my/Project01/model/word2vec_v1.1.model')"
   ]
  },
  {
   "cell_type": "code",
   "execution_count": 14,
   "metadata": {},
   "outputs": [],
   "source": [
    "# 把每篇评论合并成一句长句\n",
    "x2 = []\n",
    "def join(m):\n",
    "    n = []\n",
    "    for i in m:\n",
    "        n.extend(i)\n",
    "    return n\n",
    "x2 = list(map(join, x1))"
   ]
  },
  {
   "cell_type": "code",
   "execution_count": 15,
   "metadata": {},
   "outputs": [
    {
     "ename": "KeyboardInterrupt",
     "evalue": "",
     "output_type": "error",
     "traceback": [
      "\u001b[1;31m---------------------------------------------------------------------------\u001b[0m",
      "\u001b[1;31mKeyboardInterrupt\u001b[0m                         Traceback (most recent call last)",
      "\u001b[1;32m<ipython-input-15-48f637214f11>\u001b[0m in \u001b[0;36m<module>\u001b[1;34m\u001b[0m\n\u001b[1;32m----> 1\u001b[1;33m \u001b[0mx_vectorized\u001b[0m \u001b[1;33m=\u001b[0m \u001b[0mSIF\u001b[0m\u001b[1;33m(\u001b[0m\u001b[0mx2\u001b[0m\u001b[1;33m,\u001b[0m \u001b[0mmodel\u001b[0m\u001b[1;33m)\u001b[0m\u001b[1;33m\u001b[0m\u001b[1;33m\u001b[0m\u001b[0m\n\u001b[0m\u001b[0;32m      2\u001b[0m \u001b[1;31m# x_vectorized = []\u001b[0m\u001b[1;33m\u001b[0m\u001b[1;33m\u001b[0m\u001b[1;33m\u001b[0m\u001b[0m\n\u001b[0;32m      3\u001b[0m \u001b[1;31m# for j, i in enumerate(x2):\u001b[0m\u001b[1;33m\u001b[0m\u001b[1;33m\u001b[0m\u001b[1;33m\u001b[0m\u001b[0m\n\u001b[0;32m      4\u001b[0m \u001b[1;31m#     m = SIF([i], model);\u001b[0m\u001b[1;33m\u001b[0m\u001b[1;33m\u001b[0m\u001b[1;33m\u001b[0m\u001b[0m\n\u001b[0;32m      5\u001b[0m \u001b[1;31m#     x_vectorized.append(m)\u001b[0m\u001b[1;33m\u001b[0m\u001b[1;33m\u001b[0m\u001b[1;33m\u001b[0m\u001b[0m\n",
      "\u001b[1;32m~\\学习\\开课吧NLP_course\\my\\NLP_Assignments\\01_NLP_Main_Course\\Assignment10\\SIF.py\u001b[0m in \u001b[0;36mSIF\u001b[1;34m(sentence_list, model, a, unlisted_word_freq, skip_mode)\u001b[0m\n\u001b[0;32m     51\u001b[0m             \u001b[1;32mif\u001b[0m \u001b[0mword\u001b[0m \u001b[1;32min\u001b[0m \u001b[0mvlookup\u001b[0m\u001b[1;33m:\u001b[0m\u001b[1;33m\u001b[0m\u001b[1;33m\u001b[0m\u001b[0m\n\u001b[0;32m     52\u001b[0m                 \u001b[0ma_value\u001b[0m \u001b[1;33m=\u001b[0m \u001b[0ma\u001b[0m \u001b[1;33m/\u001b[0m \u001b[1;33m(\u001b[0m\u001b[0ma\u001b[0m \u001b[1;33m+\u001b[0m \u001b[0mvlookup\u001b[0m\u001b[1;33m[\u001b[0m\u001b[0mword\u001b[0m\u001b[1;33m]\u001b[0m\u001b[1;33m.\u001b[0m\u001b[0mcount\u001b[0m \u001b[1;33m/\u001b[0m \u001b[0mvocab_count\u001b[0m\u001b[1;33m)\u001b[0m  \u001b[1;31m# smooth inverse frequency, SIF\u001b[0m\u001b[1;33m\u001b[0m\u001b[1;33m\u001b[0m\u001b[0m\n\u001b[1;32m---> 53\u001b[1;33m                 \u001b[0mvs\u001b[0m \u001b[1;33m=\u001b[0m \u001b[0mnp\u001b[0m\u001b[1;33m.\u001b[0m\u001b[0madd\u001b[0m\u001b[1;33m(\u001b[0m\u001b[0mvs\u001b[0m\u001b[1;33m,\u001b[0m \u001b[0mnp\u001b[0m\u001b[1;33m.\u001b[0m\u001b[0mmultiply\u001b[0m\u001b[1;33m(\u001b[0m\u001b[0ma_value\u001b[0m\u001b[1;33m,\u001b[0m \u001b[0mvectors\u001b[0m\u001b[1;33m[\u001b[0m\u001b[0mword\u001b[0m\u001b[1;33m]\u001b[0m\u001b[1;33m)\u001b[0m\u001b[1;33m)\u001b[0m  \u001b[1;31m# vs += sif * word_vector\u001b[0m\u001b[1;33m\u001b[0m\u001b[1;33m\u001b[0m\u001b[0m\n\u001b[0m\u001b[0;32m     54\u001b[0m             \u001b[1;32mif\u001b[0m \u001b[0mword\u001b[0m \u001b[1;32mnot\u001b[0m \u001b[1;32min\u001b[0m \u001b[0mvlookup\u001b[0m\u001b[1;33m:\u001b[0m\u001b[1;33m\u001b[0m\u001b[1;33m\u001b[0m\u001b[0m\n\u001b[0;32m     55\u001b[0m                 \u001b[0ma_value\u001b[0m \u001b[1;33m=\u001b[0m \u001b[0ma\u001b[0m \u001b[1;33m/\u001b[0m \u001b[1;33m(\u001b[0m\u001b[0ma\u001b[0m \u001b[1;33m+\u001b[0m \u001b[0munlisted_word_freq\u001b[0m\u001b[1;33m)\u001b[0m  \u001b[1;31m# smooth inverse frequency, SIF\u001b[0m\u001b[1;33m\u001b[0m\u001b[1;33m\u001b[0m\u001b[0m\n",
      "\u001b[1;31mKeyboardInterrupt\u001b[0m: "
     ]
    }
   ],
   "source": [
    "x_vectorized = SIF(x2, model)\n",
    "# x_vectorized = []\n",
    "# for j, i in enumerate(x2):\n",
    "#     m = SIF([i], model);\n",
    "#     x_vectorized.append(m)\n",
    "#     print('\\r{}/{}'.format(j, len(x2)), end='')"
   ]
  },
  {
   "cell_type": "code",
   "execution_count": 25,
   "metadata": {},
   "outputs": [],
   "source": [
    "y_vectorized = np.array(y1)"
   ]
  },
  {
   "cell_type": "code",
   "execution_count": null,
   "metadata": {},
   "outputs": [],
   "source": [
    "x_vectorized.shape, y_vectorized.shape"
   ]
  },
  {
   "cell_type": "code",
   "execution_count": 23,
   "metadata": {},
   "outputs": [],
   "source": [
    "from sklearn.model_selection import train_test_split"
   ]
  },
  {
   "cell_type": "code",
   "execution_count": null,
   "metadata": {},
   "outputs": [],
   "source": [
    "X_train, X_test, y_train, y_test = train_test_split(x_vectorized, y_vectorized, test_size=0.33, random_state=42)"
   ]
  },
  {
   "cell_type": "code",
   "execution_count": null,
   "metadata": {},
   "outputs": [],
   "source": [
    "plt.hist([int(i[1]) for i in y_train]);\n",
    "plt.hist([int(i[1]) for i in y_test]);"
   ]
  },
  {
   "cell_type": "markdown",
   "metadata": {},
   "source": [
    "**另一种方法：使用词袋模型（TF-IDF）构建特征库**"
   ]
  },
  {
   "cell_type": "code",
   "execution_count": 16,
   "metadata": {},
   "outputs": [],
   "source": [
    "from sklearn.feature_extraction.text import TfidfVectorizer"
   ]
  },
  {
   "cell_type": "code",
   "execution_count": 17,
   "metadata": {},
   "outputs": [],
   "source": [
    "tfidf = TfidfVectorizer()"
   ]
  },
  {
   "cell_type": "code",
   "execution_count": 18,
   "metadata": {},
   "outputs": [],
   "source": [
    "x22 = [\" \".join(i) for i in x2]"
   ]
  },
  {
   "cell_type": "code",
   "execution_count": 19,
   "metadata": {},
   "outputs": [
    {
     "data": {
      "text/plain": [
       "['此外 自 本周 6 月 12 日 起 除 小米 手机 6 等 15 款 机型 外 其余 机型 已 暂停 更新 发布 含 开发 版 体验版 内测 稳定版 暂不受 影响 ， 以 确保 工程师 可以 集中 全部 精力 进行 系统优化 工作 有人 猜测 这 也 是 将 精力 主要 用到 MIUI 9 的 研发 之中 MIUI 8 去年 5 月 发布 距今已有 一年 有余 也 是 时候 更新换代 了 当然 关于 MIUI 9 的 确切 信息 我们 还是 等待 官方消息',\n",
       " '骁龙 835 作为 唯一 通过 Windows 10 桌面 平台 认证 的 ARM 处理器 高通 强调 不会 因为 只 考虑 性能 而 去 屏蔽掉 小 核心 相反 他们 正 联手 微软 找到 一种 适合 桌面 平台 的 兼顾 性能 和 功耗 的 完美 方案 报道 称 微软 已经 拿到 了 一些 新 的 源码 以便 Windows 10 更好 地 理解 big little 架构 资料 显示 骁龙 835 作为 一款 集成 了 CPU GPU 基带 蓝牙 Wi Fi 的 SoC 比 传统 的 Wintel 方案 可以 节省 至少 30% 的 PCB 空间 按计划 今年 Q4 华硕 惠普 联想 将 首发 骁龙 835 Win10 电脑 预计 均 是 二合一 形态 的 产品 当然 高通 骁龙 只是 个 开始 未来 也许 还 能 见到 三星 Exynos 联发科 华为 麒麟 小米 澎湃 等 进入 Windows 10 桌面 平台']"
      ]
     },
     "execution_count": 19,
     "metadata": {},
     "output_type": "execute_result"
    }
   ],
   "source": [
    "x22[:2]"
   ]
  },
  {
   "cell_type": "code",
   "execution_count": 20,
   "metadata": {},
   "outputs": [],
   "source": [
    "x_vectorized_tfidf = tfidf.fit_transform(x22)"
   ]
  },
  {
   "cell_type": "code",
   "execution_count": 21,
   "metadata": {},
   "outputs": [
    {
     "data": {
      "text/plain": [
       "((86861, 244389), <1x244389 sparse matrix of type '<class 'numpy.float64'>'\n",
       " \twith 47 stored elements in Compressed Sparse Row format>)"
      ]
     },
     "execution_count": 21,
     "metadata": {},
     "output_type": "execute_result"
    }
   ],
   "source": [
    "x_vectorized_tfidf.shape, x_vectorized_tfidf[0]"
   ]
  },
  {
   "cell_type": "code",
   "execution_count": 26,
   "metadata": {},
   "outputs": [],
   "source": [
    "X_train_tfidf, X_test_tfidf, y_train_tfidf, y_test_tfidf = train_test_split(x_vectorized_tfidf, y_vectorized, test_size=0.33, random_state=48)"
   ]
  },
  {
   "cell_type": "code",
   "execution_count": 27,
   "metadata": {},
   "outputs": [
    {
     "data": {
      "image/png": "[encoded data removed]",
      "text/plain": [
       "<Figure size 432x288 with 1 Axes>"
      ]
     },
     "metadata": {
      "needs_background": "light"
     },
     "output_type": "display_data"
    }
   ],
   "source": [
    "plt.hist([int(i[1]) for i in y_train_tfidf]);\n",
    "plt.hist([int(i[1]) for i in y_test_tfidf]);"
   ]
  },
  {
   "cell_type": "markdown",
   "metadata": {},
   "source": [
    "# 2. Secondly,  pick a machine learning algorithm that you think is suitable for this task"
   ]
  },
  {
   "cell_type": "code",
   "execution_count": 28,
   "metadata": {},
   "outputs": [],
   "source": [
    "import xgboost as xgb"
   ]
  },
  {
   "cell_type": "code",
   "execution_count": 29,
   "metadata": {},
   "outputs": [
    {
     "ename": "NameError",
     "evalue": "name 'y_test' is not defined",
     "output_type": "error",
     "traceback": [
      "\u001b[1;31m---------------------------------------------------------------------------\u001b[0m",
      "\u001b[1;31mNameError\u001b[0m                                 Traceback (most recent call last)",
      "\u001b[1;32m<ipython-input-29-48177ebefca2>\u001b[0m in \u001b[0;36m<module>\u001b[1;34m\u001b[0m\n\u001b[1;32m----> 1\u001b[1;33m \u001b[0my_test\u001b[0m \u001b[1;33m=\u001b[0m \u001b[0mnp\u001b[0m\u001b[1;33m.\u001b[0m\u001b[0marray\u001b[0m\u001b[1;33m(\u001b[0m\u001b[1;33m[\u001b[0m\u001b[0mint\u001b[0m\u001b[1;33m(\u001b[0m\u001b[0mi\u001b[0m\u001b[1;33m[\u001b[0m\u001b[1;36m1\u001b[0m\u001b[1;33m]\u001b[0m\u001b[1;33m)\u001b[0m \u001b[1;32mfor\u001b[0m \u001b[0mi\u001b[0m \u001b[1;32min\u001b[0m \u001b[0my_test\u001b[0m\u001b[1;33m]\u001b[0m\u001b[1;33m)\u001b[0m\u001b[1;33m\u001b[0m\u001b[1;33m\u001b[0m\u001b[0m\n\u001b[0m\u001b[0;32m      2\u001b[0m \u001b[0my_train\u001b[0m \u001b[1;33m=\u001b[0m \u001b[0mnp\u001b[0m\u001b[1;33m.\u001b[0m\u001b[0marray\u001b[0m\u001b[1;33m(\u001b[0m\u001b[1;33m[\u001b[0m\u001b[0mint\u001b[0m\u001b[1;33m(\u001b[0m\u001b[0mi\u001b[0m\u001b[1;33m[\u001b[0m\u001b[1;36m1\u001b[0m\u001b[1;33m]\u001b[0m\u001b[1;33m)\u001b[0m \u001b[1;32mfor\u001b[0m \u001b[0mi\u001b[0m \u001b[1;32min\u001b[0m \u001b[0my_train\u001b[0m\u001b[1;33m]\u001b[0m\u001b[1;33m)\u001b[0m\u001b[1;33m\u001b[0m\u001b[1;33m\u001b[0m\u001b[0m\n\u001b[0;32m      3\u001b[0m \u001b[0my_test_tfidf\u001b[0m \u001b[1;33m=\u001b[0m \u001b[0mnp\u001b[0m\u001b[1;33m.\u001b[0m\u001b[0marray\u001b[0m\u001b[1;33m(\u001b[0m\u001b[1;33m[\u001b[0m\u001b[0mint\u001b[0m\u001b[1;33m(\u001b[0m\u001b[0mi\u001b[0m\u001b[1;33m[\u001b[0m\u001b[1;36m1\u001b[0m\u001b[1;33m]\u001b[0m\u001b[1;33m)\u001b[0m \u001b[1;32mfor\u001b[0m \u001b[0mi\u001b[0m \u001b[1;32min\u001b[0m \u001b[0my_test_tfidf\u001b[0m\u001b[1;33m]\u001b[0m\u001b[1;33m)\u001b[0m\u001b[1;33m\u001b[0m\u001b[1;33m\u001b[0m\u001b[0m\n\u001b[0;32m      4\u001b[0m \u001b[0my_train_tfidf\u001b[0m \u001b[1;33m=\u001b[0m \u001b[0mnp\u001b[0m\u001b[1;33m.\u001b[0m\u001b[0marray\u001b[0m\u001b[1;33m(\u001b[0m\u001b[1;33m[\u001b[0m\u001b[0mint\u001b[0m\u001b[1;33m(\u001b[0m\u001b[0mi\u001b[0m\u001b[1;33m[\u001b[0m\u001b[1;36m1\u001b[0m\u001b[1;33m]\u001b[0m\u001b[1;33m)\u001b[0m \u001b[1;32mfor\u001b[0m \u001b[0mi\u001b[0m \u001b[1;32min\u001b[0m \u001b[0my_train_tfidf\u001b[0m\u001b[1;33m]\u001b[0m\u001b[1;33m)\u001b[0m\u001b[1;33m\u001b[0m\u001b[1;33m\u001b[0m\u001b[0m\n",
      "\u001b[1;31mNameError\u001b[0m: name 'y_test' is not defined"
     ]
    }
   ],
   "source": [
    "y_test = np.array([int(i[1]) for i in y_test])\n",
    "y_train = np.array([int(i[1]) for i in y_train])"
   ]
  },
  {
   "cell_type": "code",
   "execution_count": 30,
   "metadata": {},
   "outputs": [],
   "source": [
    "y_test_tfidf = np.array([int(i[1]) for i in y_test_tfidf])\n",
    "y_train_tfidf = np.array([int(i[1]) for i in y_train_tfidf])"
   ]
  },
  {
   "cell_type": "code",
   "execution_count": 31,
   "metadata": {},
   "outputs": [
    {
     "ename": "NameError",
     "evalue": "name 'X_train' is not defined",
     "output_type": "error",
     "traceback": [
      "\u001b[1;31m---------------------------------------------------------------------------\u001b[0m",
      "\u001b[1;31mNameError\u001b[0m                                 Traceback (most recent call last)",
      "\u001b[1;32m<ipython-input-31-c9a9f191ad0b>\u001b[0m in \u001b[0;36m<module>\u001b[1;34m\u001b[0m\n\u001b[1;32m----> 1\u001b[1;33m \u001b[0mX_train\u001b[0m\u001b[1;33m.\u001b[0m\u001b[0mshape\u001b[0m\u001b[1;33m,\u001b[0m \u001b[0mX_test\u001b[0m\u001b[1;33m.\u001b[0m\u001b[0mshape\u001b[0m\u001b[1;33m,\u001b[0m \u001b[0my_train\u001b[0m\u001b[1;33m.\u001b[0m\u001b[0mshape\u001b[0m\u001b[1;33m,\u001b[0m \u001b[0my_test\u001b[0m\u001b[1;33m.\u001b[0m\u001b[0mshape\u001b[0m\u001b[1;33m\u001b[0m\u001b[1;33m\u001b[0m\u001b[0m\n\u001b[0m",
      "\u001b[1;31mNameError\u001b[0m: name 'X_train' is not defined"
     ]
    }
   ],
   "source": [
    "X_train.shape, X_test.shape, y_train.shape, y_test.shape"
   ]
  },
  {
   "cell_type": "code",
   "execution_count": 32,
   "metadata": {},
   "outputs": [
    {
     "data": {
      "text/plain": [
       "((58196, 244389), (28665, 244389), (58196,), (28665,))"
      ]
     },
     "execution_count": 32,
     "metadata": {},
     "output_type": "execute_result"
    }
   ],
   "source": [
    "X_train_tfidf.shape, X_test_tfidf.shape, y_train_tfidf.shape, y_test_tfidf.shape"
   ]
  },
  {
   "cell_type": "code",
   "execution_count": 33,
   "metadata": {},
   "outputs": [
    {
     "ename": "NameError",
     "evalue": "name 'X_train' is not defined",
     "output_type": "error",
     "traceback": [
      "\u001b[1;31m---------------------------------------------------------------------------\u001b[0m",
      "\u001b[1;31mNameError\u001b[0m                                 Traceback (most recent call last)",
      "\u001b[1;32m<ipython-input-33-04a5515a0a15>\u001b[0m in \u001b[0;36m<module>\u001b[1;34m\u001b[0m\n\u001b[0;32m      1\u001b[0m \u001b[1;31m# 加载数据为XGBoost的DMatrix类\u001b[0m\u001b[1;33m\u001b[0m\u001b[1;33m\u001b[0m\u001b[1;33m\u001b[0m\u001b[0m\n\u001b[1;32m----> 2\u001b[1;33m \u001b[0mdtrain\u001b[0m \u001b[1;33m=\u001b[0m \u001b[0mxgb\u001b[0m\u001b[1;33m.\u001b[0m\u001b[0mDMatrix\u001b[0m\u001b[1;33m(\u001b[0m\u001b[0mX_train\u001b[0m\u001b[1;33m,\u001b[0m \u001b[0mlabel\u001b[0m\u001b[1;33m=\u001b[0m\u001b[0my_train\u001b[0m\u001b[1;33m)\u001b[0m\u001b[1;33m\u001b[0m\u001b[1;33m\u001b[0m\u001b[0m\n\u001b[0m\u001b[0;32m      3\u001b[0m \u001b[0mdtest\u001b[0m \u001b[1;33m=\u001b[0m \u001b[0mxgb\u001b[0m\u001b[1;33m.\u001b[0m\u001b[0mDMatrix\u001b[0m\u001b[1;33m(\u001b[0m\u001b[0mX_test\u001b[0m\u001b[1;33m,\u001b[0m \u001b[0mlabel\u001b[0m\u001b[1;33m=\u001b[0m\u001b[0my_test\u001b[0m\u001b[1;33m)\u001b[0m\u001b[1;33m\u001b[0m\u001b[1;33m\u001b[0m\u001b[0m\n\u001b[0;32m      4\u001b[0m \u001b[1;33m\u001b[0m\u001b[0m\n\u001b[0;32m      5\u001b[0m \u001b[0mdtrain_tfidf\u001b[0m \u001b[1;33m=\u001b[0m \u001b[0mxgb\u001b[0m\u001b[1;33m.\u001b[0m\u001b[0mDMatrix\u001b[0m\u001b[1;33m(\u001b[0m\u001b[0mX_train_tfidf\u001b[0m\u001b[1;33m,\u001b[0m \u001b[0mlabel\u001b[0m \u001b[1;33m=\u001b[0m \u001b[0my_train_tfidf\u001b[0m\u001b[1;33m)\u001b[0m\u001b[1;33m\u001b[0m\u001b[1;33m\u001b[0m\u001b[0m\n",
      "\u001b[1;31mNameError\u001b[0m: name 'X_train' is not defined"
     ]
    }
   ],
   "source": [
    "# 加载数据为XGBoost的DMatrix类\n",
    "dtrain = xgb.DMatrix(X_train, label=y_train)\n",
    "dtest = xgb.DMatrix(X_test, label=y_test)"
   ]
  },
  {
   "cell_type": "code",
   "execution_count": 34,
   "metadata": {},
   "outputs": [],
   "source": [
    "dtrain_tfidf = xgb.DMatrix(X_train_tfidf, label = y_train_tfidf)\n",
    "dtest_tfidf = xgb.DMatrix(X_test_tfidf, label = y_test_tfidf)"
   ]
  },
  {
   "cell_type": "code",
   "execution_count": 36,
   "metadata": {},
   "outputs": [],
   "source": [
    "# 指标监控：train， test\n",
    "# evallist=[(dtrain, 'train'), (dtest, 'evaluation')]\n",
    "evallist_tfidf=[(dtrain_tfidf, 'train_tfidf'), (dtest_tfidf, 'evaluation_tfidf')]\n",
    "# XGB模型参数\n",
    "param = {'max_depth':2, 'eta':1, 'objective':'binary:logistic', 'tree_method':'gpu_hist'}\n",
    "# 学习次数\n",
    "num_round = 3000"
   ]
  },
  {
   "cell_type": "code",
   "execution_count": 37,
   "metadata": {},
   "outputs": [
    {
     "ename": "NameError",
     "evalue": "name 'dtrain' is not defined",
     "output_type": "error",
     "traceback": [
      "\u001b[1;31m---------------------------------------------------------------------------\u001b[0m",
      "\u001b[1;31mNameError\u001b[0m                                 Traceback (most recent call last)",
      "\u001b[1;32m<ipython-input-37-7e9a7f6d82c4>\u001b[0m in \u001b[0;36m<module>\u001b[1;34m\u001b[0m\n\u001b[1;32m----> 1\u001b[1;33m \u001b[0mbst\u001b[0m \u001b[1;33m=\u001b[0m \u001b[0mxgb\u001b[0m\u001b[1;33m.\u001b[0m\u001b[0mtrain\u001b[0m\u001b[1;33m(\u001b[0m\u001b[0mparam\u001b[0m\u001b[1;33m,\u001b[0m \u001b[0mdtrain\u001b[0m\u001b[1;33m,\u001b[0m \u001b[0mnum_round\u001b[0m\u001b[1;33m,\u001b[0m \u001b[0mevals\u001b[0m\u001b[1;33m=\u001b[0m\u001b[0mevallist\u001b[0m\u001b[1;33m)\u001b[0m\u001b[1;33m\u001b[0m\u001b[1;33m\u001b[0m\u001b[0m\n\u001b[0m",
      "\u001b[1;31mNameError\u001b[0m: name 'dtrain' is not defined"
     ]
    }
   ],
   "source": [
    "bst = xgb.train(param, dtrain, num_round, evals=evallist)"
   ]
  },
  {
   "cell_type": "code",
   "execution_count": null,
   "metadata": {},
   "outputs": [],
   "source": [
    "bst_tfidf = xgb.train(param, dtrain_tfidf, num_round, evals=evallist_tfidf)"
   ]
  },
  {
   "cell_type": "code",
   "execution_count": 56,
   "metadata": {},
   "outputs": [],
   "source": [
    "y_test_pred = bst.predict(dtest)\n",
    "y_train_pred = bst.predict(dtrain)"
   ]
  },
  {
   "cell_type": "markdown",
   "metadata": {},
   "source": [
    "**将阈值设为0.5，计算混淆矩阵**"
   ]
  },
  {
   "cell_type": "code",
   "execution_count": 27,
   "metadata": {},
   "outputs": [],
   "source": [
    "criteria = 0.5\n",
    "y_test_pred_1 = [i>=0.5 and 1 or 0 for i in y_test_pred]\n",
    "y_train_pred_1 = [i>=0.5 and 1 or 0 for i in y_train_pred]"
   ]
  },
  {
   "cell_type": "code",
   "execution_count": 28,
   "metadata": {},
   "outputs": [
    {
     "name": "stdout",
     "output_type": "stream",
     "text": [
      "Confusion Matrix for Training Set: \n",
      " [[ 5634     0]\n",
      " [    0 52690]]\n",
      "Confusion Matrix for Test Set: \n",
      " [[ 2178   566]\n",
      " [  469 25515]]\n"
     ]
    }
   ],
   "source": [
    "from sklearn.metrics import confusion_matrix\n",
    "\n",
    "print(\"Confusion Matrix for Training Set: \\n\", confusion_matrix(y_train, y_train_pred_1))\n",
    "print(\"Confusion Matrix for Test Set: \\n\", confusion_matrix(y_test, y_test_pred_1))"
   ]
  },
  {
   "cell_type": "code",
   "execution_count": 29,
   "metadata": {},
   "outputs": [],
   "source": [
    "(TP, FP), (FN, TN) = confusion_matrix(y_test, y_test_pred_1)"
   ]
  },
  {
   "cell_type": "markdown",
   "metadata": {},
   "source": [
    "**阈值为0.5的基础上，计算四大指标，结果好像还不错**"
   ]
  },
  {
   "cell_type": "code",
   "execution_count": 43,
   "metadata": {},
   "outputs": [
    {
     "name": "stdout",
     "output_type": "stream",
     "text": [
      "Accuracy =  0.96567242281528\n",
      "Precision =  0.7954048140043763\n",
      "Recall =  0.8375576036866359\n",
      "F1 =  0.8159371492704826\n"
     ]
    }
   ],
   "source": [
    "accu = (TP+TN)/(TP+TN+FP+FN)\n",
    "p = TP/(TP+FP)\n",
    "rc = TP/(TP+FN)\n",
    "f1 = 2*p*rc/(p+rc)\n",
    "\n",
    "print(\"Accuracy = \", accu)\n",
    "print(\"Precision = \", p)\n",
    "print(\"Recall = \", rc)\n",
    "print(\"F1 = \", f1)"
   ]
  },
  {
   "cell_type": "code",
   "execution_count": 30,
   "metadata": {},
   "outputs": [
    {
     "name": "stdout",
     "output_type": "stream",
     "text": [
      "Accuracy =  0.9639724310776943\n",
      "Precision =  0.793731778425656\n",
      "Recall =  0.8228182848507745\n",
      "F1 =  0.8080133555926545\n"
     ]
    }
   ],
   "source": [
    "accu = (TP+TN)/(TP+TN+FP+FN)\n",
    "p = TP/(TP+FP)\n",
    "rc = TP/(TP+FN)\n",
    "f1 = 2*p*rc/(p+rc)\n",
    "\n",
    "print(\"Accuracy = \", accu)\n",
    "print(\"Precision = \", p)\n",
    "print(\"Recall = \", rc)\n",
    "print(\"F1 = \", f1)"
   ]
  },
  {
   "cell_type": "markdown",
   "metadata": {},
   "source": [
    "**绘制ROC，好像也不错**"
   ]
  },
  {
   "cell_type": "code",
   "execution_count": 44,
   "metadata": {},
   "outputs": [
    {
     "name": "stdout",
     "output_type": "stream",
     "text": [
      "AUC =  0.984854158923725\n"
     ]
    }
   ],
   "source": [
    "from sklearn.metrics import roc_curve, roc_auc_score, auc\n",
    "fpr, tpr, thresholds = roc_curve(y_test, y_test_pred, pos_label=1)\n",
    "\n",
    "print(\"AUC = \", auc(fpr, tpr))"
   ]
  },
  {
   "cell_type": "code",
   "execution_count": 45,
   "metadata": {},
   "outputs": [
    {
     "data": {
      "image/png": "[encoded data removed]",
      "text/plain": [
       "<Figure size 432x288 with 1 Axes>"
      ]
     },
     "metadata": {
      "needs_background": "light"
     },
     "output_type": "display_data"
    }
   ],
   "source": [
    "plt.plot(fpr, tpr);\n",
    "plt.plot([0,1], [0,1]);\n",
    "plt.title(\"ROC Curve\");\n",
    "plt.xlabel(\"fpr (1-Specificity)\");\n",
    "plt.ylabel(\"tpr (Sensitivity)\");"
   ]
  },
  {
   "cell_type": "markdown",
   "metadata": {},
   "source": [
    "### Congratulations! You have completed all assignments in this week. The question below is optional. If you still have time, why don't try it out."
   ]
  },
  {
   "cell_type": "markdown",
   "metadata": {},
   "source": [
    "## Option:"
   ]
  },
  {
   "cell_type": "markdown",
   "metadata": {},
   "source": [
    "#### Try differnt machine learning algorithms with different combinations of parameters in the practical part, and compare their performances (Better use some visualization techiniques)."
   ]
  },
  {
   "cell_type": "code",
   "execution_count": null,
   "metadata": {},
   "outputs": [],
   "source": []
  },
  {
   "cell_type": "code",
   "execution_count": null,
   "metadata": {},
   "outputs": [],
   "source": []
  },
  {
   "cell_type": "code",
   "execution_count": null,
   "metadata": {},
   "outputs": [],
   "source": []
  },
  {
   "cell_type": "code",
   "execution_count": null,
   "metadata": {},
   "outputs": [],
   "source": []
  },
  {
   "cell_type": "code",
   "execution_count": null,
   "metadata": {},
   "outputs": [],
   "source": []
  },
  {
   "cell_type": "code",
   "execution_count": null,
   "metadata": {},
   "outputs": [],
   "source": []
  },
  {
   "cell_type": "code",
   "execution_count": null,
   "metadata": {},
   "outputs": [],
   "source": []
  },
  {
   "cell_type": "markdown",
   "metadata": {},
   "source": [
    " "
   ]
  }
 ],
 "metadata": {
  "kernelspec": {
   "display_name": "Python 3",
   "language": "python",
   "name": "python3"
  },
  "language_info": {
   "codemirror_mode": {
    "name": "ipython",
    "version": 3
   },
   "file_extension": ".py",
   "mimetype": "text/x-python",
   "name": "python",
   "nbconvert_exporter": "python",
   "pygments_lexer": "ipython3",
   "version": "3.7.3"
  }
 },
 "nbformat": 4,
 "nbformat_minor": 2
}
