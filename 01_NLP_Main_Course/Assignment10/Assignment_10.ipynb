{
 "cells": [
  {
   "cell_type": "markdown",
   "metadata": {},
   "source": [
    "# Assignment 10"
   ]
  },
  {
   "cell_type": "markdown",
   "metadata": {},
   "source": [
    "### 1.复习上课内容"
   ]
  },
  {
   "cell_type": "markdown",
   "metadata": {},
   "source": [
    "### 2. 回答一下理论题目"
   ]
  },
  {
   "cell_type": "markdown",
   "metadata": {},
   "source": [
    "#### 1. What is independent assumption in Naive bayes ?"
   ]
  },
  {
   "cell_type": "markdown",
   "metadata": {},
   "source": [
    "朴素贝叶斯是一个生成模型，对于每一种分类，它都可以生成一个后验概率\n",
    "\n",
    "$h_{y=y_0, MAP}\\\\=\\arg\\max_{h\\in H}P(y=y_0|a_1,a_2,a_3,...)\\\\=\\arg\\max_{h\\in H}\\frac{P(a_1,a_2,a_3,...|y=y_0)\\cdot P(y=y_0)}{P(a_1,a_2,...)}\\\\=\\arg\\max_{h\\in H}{P(a_1,a_2,a_3,...|y=y_0)\\cdot P(y=y_0)}\\\\=\\arg\\max_{h\\in H}{P(a_1|y_0)\\cdot P(a_2|y_0)\\cdot P(a_3|y_0)\\cdots P(y=y_0)} (According to \"Naive\"hypothesis)$\n",
    "\n",
    "然后我们同样可以求出$h_{y=y_1}$, $h_{y=y_2}$, ...。最后y的估计值就是使h得到最大值所对于的y值。\n",
    "\n",
    "其中，朴素指的就是变量之间相互独立的假设，简化了模型，使得最后一步可以很容易的求出\n",
    "\n"
   ]
  },
  {
   "cell_type": "markdown",
   "metadata": {},
   "source": [
    "#### 2. What is MAP(maximum a posterior) and ML(maximum likelihood) ?"
   ]
  },
  {
   "cell_type": "markdown",
   "metadata": {},
   "source": [
    "$h_{MAP}=\\arg\\max_{h\\in H}P(h|D)=\\arg\\max_{h\\in H}P(D|h)P(h)$\n",
    "\n",
    "$h_{ML}=\\arg\\max_{h\\in H}P(D|h)$\n",
    "\n",
    "where D is short for Data, H is the set of Hypothesises, h is a particular function in the hypothesises\n",
    "\n",
    "简单解释：\n",
    "\n",
    "- 在极大后验概率情况下，Data已经发生，我们需要求一个最佳h，它对数据的拟合情况最好（生成概率最大），则这个h就是最佳h\n",
    "- 在极大似然的情况下，我们要求一个h，使得在这个h下，我们取得观测数据D的概率最大，则这个h是最佳h"
   ]
  },
  {
   "cell_type": "markdown",
   "metadata": {},
   "source": [
    "#### 3. What is support vector in SVM?"
   ]
  },
  {
   "cell_type": "markdown",
   "metadata": {},
   "source": [
    "在线性可分的情况下，训练数据集的样本点中与分离超平面距离最近的样本点的实例称为支持向量（support vector）。\n",
    "\n",
    "支持向量是使约束条件式 $y_i(w\\cdot x_i + b)-1\\geq 0\\quad i=1,2,\\cdots,N$ 等号成立的点，即：\n",
    "\n",
    "$y_i(w\\cdot x_i + b)-1 = 0$\n",
    "\n",
    "对于$y_i=+1$的正例点，支持向量在超平面 $HyperPlane_1:w\\cdot x+b=1$ 上，\n",
    "\n",
    "对于$y_i=-1$的正例点，支持向量在超平面 $HyperPlane_2:w\\cdot x+b=-1$ 上。"
   ]
  },
  {
   "cell_type": "markdown",
   "metadata": {},
   "source": [
    "#### 4. What is the intuition behind SVM ?"
   ]
  },
  {
   "cell_type": "markdown",
   "metadata": {},
   "source": [
    "SVM的原理是，通过找到一个超平面，把数据中的正例和反例切分开来，并且使得正例和反例中离平面最近的数据点，到平面的距离最大化，则这个切分平面就是最佳分割。\n",
    "\n",
    "如果数据线性不可分，则可通过修改**硬间隔最大化**为**软间隔最大化**，使之能够被线性分割。（软间隔最大化）\n",
    "\n",
    "如果数据的问题是非线性问题，则可通过 **Kernal Trick**，将数据打到高维，然后转换为线性可分的问题。（非线性支持向量机）\n"
   ]
  },
  {
   "cell_type": "markdown",
   "metadata": {},
   "source": [
    "#### 5. Shortly describ what 'random' means in random forest ?"
   ]
  },
  {
   "cell_type": "markdown",
   "metadata": {},
   "source": []
  },
  {
   "cell_type": "markdown",
   "metadata": {},
   "source": [
    "#### 6. What cariterion does XGBoost use to find the best split point in a tree ?"
   ]
  },
  {
   "cell_type": "markdown",
   "metadata": {},
   "source": []
  },
  {
   "cell_type": "markdown",
   "metadata": {},
   "source": [
    "### 3. Practical part"
   ]
  },
  {
   "cell_type": "markdown",
   "metadata": {},
   "source": [
    "##### Problem description: In this part you are going to build a classifier to detect if a piece of news is published by the Xinhua news agency (新华社）."
   ]
  },
  {
   "cell_type": "markdown",
   "metadata": {},
   "source": [
    "#### Hints:"
   ]
  },
  {
   "cell_type": "markdown",
   "metadata": {},
   "source": [
    "###### 1. Firstly, you have to come up with a way to represent the news. (Vectorize the sentence, you can find different ways to do so online)  "
   ]
  },
  {
   "cell_type": "markdown",
   "metadata": {},
   "source": [
    "Read data"
   ]
  },
  {
   "cell_type": "code",
   "execution_count": 2,
   "metadata": {},
   "outputs": [],
   "source": [
    "import pandas as pd\n",
    "df = pd.read_csv('C:/Users/yihua/学习/开课吧NLP_course/my/Project01/content/raw_news/sqlResult_1558435.csv', encoding=\"ANSI\")"
   ]
  },
  {
   "cell_type": "code",
   "execution_count": 3,
   "metadata": {},
   "outputs": [
    {
     "data": {
      "text/html": [
       "<div>\n",
       "<style scoped>\n",
       "    .dataframe tbody tr th:only-of-type {\n",
       "        vertical-align: middle;\n",
       "    }\n",
       "\n",
       "    .dataframe tbody tr th {\n",
       "        vertical-align: top;\n",
       "    }\n",
       "\n",
       "    .dataframe thead th {\n",
       "        text-align: right;\n",
       "    }\n",
       "</style>\n",
       "<table border=\"1\" class=\"dataframe\">\n",
       "  <thead>\n",
       "    <tr style=\"text-align: right;\">\n",
       "      <th></th>\n",
       "      <th>id</th>\n",
       "      <th>author</th>\n",
       "      <th>source</th>\n",
       "      <th>content</th>\n",
       "      <th>feature</th>\n",
       "      <th>title</th>\n",
       "      <th>url</th>\n",
       "    </tr>\n",
       "  </thead>\n",
       "  <tbody>\n",
       "    <tr>\n",
       "      <th>0</th>\n",
       "      <td>89617</td>\n",
       "      <td>NaN</td>\n",
       "      <td>快科技@http://www.kkj.cn/</td>\n",
       "      <td>此外，自本周（6月12日）起，除小米手机6等15款机型外，其余机型已暂停更新发布（含开发版/...</td>\n",
       "      <td>{\"type\":\"科技\",\"site\":\"cnbeta\",\"commentNum\":\"37\"...</td>\n",
       "      <td>小米MIUI 9首批机型曝光：共计15款</td>\n",
       "      <td>http://www.cnbeta.com/articles/tech/623597.htm</td>\n",
       "    </tr>\n",
       "    <tr>\n",
       "      <th>1</th>\n",
       "      <td>89616</td>\n",
       "      <td>NaN</td>\n",
       "      <td>快科技@http://www.kkj.cn/</td>\n",
       "      <td>骁龙835作为唯一通过Windows 10桌面平台认证的ARM处理器，高通强调，不会因为只考...</td>\n",
       "      <td>{\"type\":\"科技\",\"site\":\"cnbeta\",\"commentNum\":\"15\"...</td>\n",
       "      <td>骁龙835在Windows 10上的性能表现有望改善</td>\n",
       "      <td>http://www.cnbeta.com/articles/tech/623599.htm</td>\n",
       "    </tr>\n",
       "    <tr>\n",
       "      <th>2</th>\n",
       "      <td>89615</td>\n",
       "      <td>NaN</td>\n",
       "      <td>快科技@http://www.kkj.cn/</td>\n",
       "      <td>此前的一加3T搭载的是3400mAh电池，DashCharge快充规格为5V/4A。\\r\\n...</td>\n",
       "      <td>{\"type\":\"科技\",\"site\":\"cnbeta\",\"commentNum\":\"18\"...</td>\n",
       "      <td>一加手机5细节曝光：3300mAh、充半小时用1天</td>\n",
       "      <td>http://www.cnbeta.com/articles/tech/623601.htm</td>\n",
       "    </tr>\n",
       "    <tr>\n",
       "      <th>3</th>\n",
       "      <td>89614</td>\n",
       "      <td>NaN</td>\n",
       "      <td>新华社</td>\n",
       "      <td>这是6月18日在葡萄牙中部大佩德罗冈地区拍摄的被森林大火烧毁的汽车。新华社记者张立云摄\\r\\n</td>\n",
       "      <td>{\"type\":\"国际新闻\",\"site\":\"环球\",\"commentNum\":\"0\",\"j...</td>\n",
       "      <td>葡森林火灾造成至少62人死亡 政府宣布进入紧急状态（组图）</td>\n",
       "      <td>http://world.huanqiu.com/hot/2017-06/10866126....</td>\n",
       "    </tr>\n",
       "    <tr>\n",
       "      <th>4</th>\n",
       "      <td>89613</td>\n",
       "      <td>胡淑丽_MN7479</td>\n",
       "      <td>深圳大件事</td>\n",
       "      <td>（原标题：44岁女子跑深圳约会网友被拒，暴雨中裸身奔走……）\\r\\n@深圳交警微博称：昨日清...</td>\n",
       "      <td>{\"type\":\"新闻\",\"site\":\"网易热门\",\"commentNum\":\"978\",...</td>\n",
       "      <td>44岁女子约网友被拒暴雨中裸奔 交警为其披衣相随</td>\n",
       "      <td>http://news.163.com/17/0618/00/CN617P3Q0001875...</td>\n",
       "    </tr>\n",
       "    <tr>\n",
       "      <th>...</th>\n",
       "      <td>...</td>\n",
       "      <td>...</td>\n",
       "      <td>...</td>\n",
       "      <td>...</td>\n",
       "      <td>...</td>\n",
       "      <td>...</td>\n",
       "      <td>...</td>\n",
       "    </tr>\n",
       "    <tr>\n",
       "      <th>89606</th>\n",
       "      <td>5</td>\n",
       "      <td>邹峥</td>\n",
       "      <td>新华社</td>\n",
       "      <td>新华社照片，多伦多，2017年6月7日\\n（体育）（2）冰球——国家女子冰球队海外选秀在多伦...</td>\n",
       "      <td>{\"type\":\"冰球\",\"site\":\"新华社\",\"url\":\"http://home.x...</td>\n",
       "      <td>（体育）（2）冰球——国家女子冰球队海外选秀在多伦多展开</td>\n",
       "      <td>http://home.xinhua-news.com/gdsdetailxhsnew/22...</td>\n",
       "    </tr>\n",
       "    <tr>\n",
       "      <th>89607</th>\n",
       "      <td>4</td>\n",
       "      <td>王衡</td>\n",
       "      <td>新华社</td>\n",
       "      <td>新华社兰州6月3日电（王衡、徐丹）记者从甘肃省交通运输厅获悉，甘肃近日集中开建高速公路、普通...</td>\n",
       "      <td>{\"type\":\"宏观经济\",\"site\":\"新华社\",\"url\":\"http://home...</td>\n",
       "      <td>（经济）甘肃集中开工35个重点交通建设项目</td>\n",
       "      <td>http://home.xinhua-news.com/gdsdetailxhsnew/22...</td>\n",
       "    </tr>\n",
       "    <tr>\n",
       "      <th>89608</th>\n",
       "      <td>3</td>\n",
       "      <td>张旌</td>\n",
       "      <td>新华社</td>\n",
       "      <td>\\n\\n2017年5月29日，在法国巴黎郊外的凡尔赛宫，法国总统马克龙出席新闻发布会。（新华...</td>\n",
       "      <td>{\"type\":\"其它\",\"site\":\"新华社\",\"url\":\"http://home.x...</td>\n",
       "      <td>法国议会选举　马克龙有望获“压倒性胜利”</td>\n",
       "      <td>http://home.xinhua-news.com/gdsdetailxhsnew/22...</td>\n",
       "    </tr>\n",
       "    <tr>\n",
       "      <th>89609</th>\n",
       "      <td>2</td>\n",
       "      <td>夏文辉</td>\n",
       "      <td>新华社</td>\n",
       "      <td>\\n\\n2017年5月25日，在美国马萨诸塞州剑桥市，哈佛大学毕业生在毕业典礼上欢呼。（新华...</td>\n",
       "      <td>{\"type\":\"其它\",\"site\":\"新华社\",\"url\":\"http://home.x...</td>\n",
       "      <td>哈佛大学为何取消这些新生入选资格？</td>\n",
       "      <td>http://home.xinhua-news.com/gdsdetailxhsnew/22...</td>\n",
       "    </tr>\n",
       "    <tr>\n",
       "      <th>89610</th>\n",
       "      <td>1</td>\n",
       "      <td>王子江 张寒</td>\n",
       "      <td>新华社</td>\n",
       "      <td>新华社德国杜塞尔多夫６月６日电题：乒乓女球迷　\\n　　新华社记者王子江、张寒\\n　　熊老...</td>\n",
       "      <td>{\"type\":\"体育\",\"site\":\"新华社\",\"url\":\"http://home.x...</td>\n",
       "      <td>（体育）题：乒乓女球迷</td>\n",
       "      <td>http://home.xinhua-news.com/gdsdetailxhsnew/22...</td>\n",
       "    </tr>\n",
       "  </tbody>\n",
       "</table>\n",
       "<p>89611 rows × 7 columns</p>\n",
       "</div>"
      ],
      "text/plain": [
       "          id      author                  source  \\\n",
       "0      89617         NaN  快科技@http://www.kkj.cn/   \n",
       "1      89616         NaN  快科技@http://www.kkj.cn/   \n",
       "2      89615         NaN  快科技@http://www.kkj.cn/   \n",
       "3      89614         NaN                     新华社   \n",
       "4      89613  胡淑丽_MN7479                   深圳大件事   \n",
       "...      ...         ...                     ...   \n",
       "89606      5          邹峥                     新华社   \n",
       "89607      4          王衡                     新华社   \n",
       "89608      3          张旌                     新华社   \n",
       "89609      2         夏文辉                     新华社   \n",
       "89610      1      王子江 张寒                     新华社   \n",
       "\n",
       "                                                 content  \\\n",
       "0      此外，自本周（6月12日）起，除小米手机6等15款机型外，其余机型已暂停更新发布（含开发版/...   \n",
       "1      骁龙835作为唯一通过Windows 10桌面平台认证的ARM处理器，高通强调，不会因为只考...   \n",
       "2      此前的一加3T搭载的是3400mAh电池，DashCharge快充规格为5V/4A。\\r\\n...   \n",
       "3        这是6月18日在葡萄牙中部大佩德罗冈地区拍摄的被森林大火烧毁的汽车。新华社记者张立云摄\\r\\n   \n",
       "4      （原标题：44岁女子跑深圳约会网友被拒，暴雨中裸身奔走……）\\r\\n@深圳交警微博称：昨日清...   \n",
       "...                                                  ...   \n",
       "89606  新华社照片，多伦多，2017年6月7日\\n（体育）（2）冰球——国家女子冰球队海外选秀在多伦...   \n",
       "89607  新华社兰州6月3日电（王衡、徐丹）记者从甘肃省交通运输厅获悉，甘肃近日集中开建高速公路、普通...   \n",
       "89608  \\n\\n2017年5月29日，在法国巴黎郊外的凡尔赛宫，法国总统马克龙出席新闻发布会。（新华...   \n",
       "89609  \\n\\n2017年5月25日，在美国马萨诸塞州剑桥市，哈佛大学毕业生在毕业典礼上欢呼。（新华...   \n",
       "89610  　　新华社德国杜塞尔多夫６月６日电题：乒乓女球迷　\\n　　新华社记者王子江、张寒\\n　　熊老...   \n",
       "\n",
       "                                                 feature  \\\n",
       "0      {\"type\":\"科技\",\"site\":\"cnbeta\",\"commentNum\":\"37\"...   \n",
       "1      {\"type\":\"科技\",\"site\":\"cnbeta\",\"commentNum\":\"15\"...   \n",
       "2      {\"type\":\"科技\",\"site\":\"cnbeta\",\"commentNum\":\"18\"...   \n",
       "3      {\"type\":\"国际新闻\",\"site\":\"环球\",\"commentNum\":\"0\",\"j...   \n",
       "4      {\"type\":\"新闻\",\"site\":\"网易热门\",\"commentNum\":\"978\",...   \n",
       "...                                                  ...   \n",
       "89606  {\"type\":\"冰球\",\"site\":\"新华社\",\"url\":\"http://home.x...   \n",
       "89607  {\"type\":\"宏观经济\",\"site\":\"新华社\",\"url\":\"http://home...   \n",
       "89608  {\"type\":\"其它\",\"site\":\"新华社\",\"url\":\"http://home.x...   \n",
       "89609  {\"type\":\"其它\",\"site\":\"新华社\",\"url\":\"http://home.x...   \n",
       "89610  {\"type\":\"体育\",\"site\":\"新华社\",\"url\":\"http://home.x...   \n",
       "\n",
       "                               title  \\\n",
       "0               小米MIUI 9首批机型曝光：共计15款   \n",
       "1         骁龙835在Windows 10上的性能表现有望改善   \n",
       "2          一加手机5细节曝光：3300mAh、充半小时用1天   \n",
       "3      葡森林火灾造成至少62人死亡 政府宣布进入紧急状态（组图）   \n",
       "4           44岁女子约网友被拒暴雨中裸奔 交警为其披衣相随   \n",
       "...                              ...   \n",
       "89606   （体育）（2）冰球——国家女子冰球队海外选秀在多伦多展开   \n",
       "89607          （经济）甘肃集中开工35个重点交通建设项目   \n",
       "89608           法国议会选举　马克龙有望获“压倒性胜利”   \n",
       "89609              哈佛大学为何取消这些新生入选资格？   \n",
       "89610                   （体育）题：乒乓女球迷　   \n",
       "\n",
       "                                                     url  \n",
       "0         http://www.cnbeta.com/articles/tech/623597.htm  \n",
       "1         http://www.cnbeta.com/articles/tech/623599.htm  \n",
       "2         http://www.cnbeta.com/articles/tech/623601.htm  \n",
       "3      http://world.huanqiu.com/hot/2017-06/10866126....  \n",
       "4      http://news.163.com/17/0618/00/CN617P3Q0001875...  \n",
       "...                                                  ...  \n",
       "89606  http://home.xinhua-news.com/gdsdetailxhsnew/22...  \n",
       "89607  http://home.xinhua-news.com/gdsdetailxhsnew/22...  \n",
       "89608  http://home.xinhua-news.com/gdsdetailxhsnew/22...  \n",
       "89609  http://home.xinhua-news.com/gdsdetailxhsnew/22...  \n",
       "89610  http://home.xinhua-news.com/gdsdetailxhsnew/22...  \n",
       "\n",
       "[89611 rows x 7 columns]"
      ]
     },
     "execution_count": 3,
     "metadata": {},
     "output_type": "execute_result"
    }
   ],
   "source": [
    "df"
   ]
  },
  {
   "cell_type": "markdown",
   "metadata": {},
   "source": [
    "###### 2. Secondly,  pick a machine learning algorithm that you think is suitable for this task"
   ]
  },
  {
   "cell_type": "markdown",
   "metadata": {},
   "source": []
  },
  {
   "cell_type": "markdown",
   "metadata": {},
   "source": [
    "### Congratulations! You have completed all assignments in this week. The question below is optional. If you still have time, why don't try it out."
   ]
  },
  {
   "cell_type": "markdown",
   "metadata": {},
   "source": [
    "## Option:"
   ]
  },
  {
   "cell_type": "markdown",
   "metadata": {},
   "source": [
    "#### Try differnt machine learning algorithms with different combinations of parameters in the practical part, and compare their performances (Better use some visualization techiniques)."
   ]
  },
  {
   "cell_type": "markdown",
   "metadata": {},
   "source": []
  }
 ],
 "metadata": {
  "kernelspec": {
   "display_name": "Python 3",
   "language": "python",
   "name": "python3"
  },
  "language_info": {
   "codemirror_mode": {
    "name": "ipython",
    "version": 3
   },
   "file_extension": ".py",
   "mimetype": "text/x-python",
   "name": "python",
   "nbconvert_exporter": "python",
   "pygments_lexer": "ipython3",
   "version": "3.7.3"
  }
 },
 "nbformat": 4,
 "nbformat_minor": 2
}
