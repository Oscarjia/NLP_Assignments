{
 "cells": [
  {
   "cell_type": "markdown",
   "metadata": {},
   "source": [
    "# 切木头最大价值问题"
   ]
  },
  {
   "cell_type": "code",
   "execution_count": 1,
   "metadata": {},
   "outputs": [],
   "source": [
    "original_price = [1, 5, 8, 9, 10, 17, 17, 20, 24, 30, 33]"
   ]
  },
  {
   "cell_type": "code",
   "execution_count": 2,
   "metadata": {},
   "outputs": [],
   "source": [
    "from collections import defaultdict"
   ]
  },
  {
   "cell_type": "code",
   "execution_count": 70,
   "metadata": {},
   "outputs": [],
   "source": [
    "price = defaultdict(int)"
   ]
  },
  {
   "cell_type": "code",
   "execution_count": 71,
   "metadata": {},
   "outputs": [],
   "source": [
    "for i, p in enumerate(original_price): \n",
    "    price[i + 1] = p"
   ]
  },
  {
   "cell_type": "code",
   "execution_count": 72,
   "metadata": {
    "scrolled": true
   },
   "outputs": [
    {
     "data": {
      "text/plain": [
       "defaultdict(int,\n",
       "            {1: 1,\n",
       "             2: 5,\n",
       "             3: 8,\n",
       "             4: 9,\n",
       "             5: 10,\n",
       "             6: 17,\n",
       "             7: 17,\n",
       "             8: 20,\n",
       "             9: 24,\n",
       "             10: 30,\n",
       "             11: 33})"
      ]
     },
     "execution_count": 72,
     "metadata": {},
     "output_type": "execute_result"
    }
   ],
   "source": [
    "price # 长度与价值的对应关系"
   ]
  },
  {
   "cell_type": "code",
   "execution_count": 66,
   "metadata": {},
   "outputs": [
    {
     "data": {
      "text/plain": [
       "(33, 0)"
      ]
     },
     "execution_count": 66,
     "metadata": {},
     "output_type": "execute_result"
    }
   ],
   "source": [
    "# defaultdict，顾名思义，就是带default值的dict。好处：如果keyerror，不会报错而回返回定义值\n",
    "price[11], price[66]"
   ]
  },
  {
   "cell_type": "markdown",
   "metadata": {},
   "source": [
    "## Getting the max-price spliting by enumerate"
   ]
  },
  {
   "cell_type": "code",
   "execution_count": 7,
   "metadata": {},
   "outputs": [],
   "source": [
    "def r(n):\n",
    "    return max(\n",
    "        [price[n]] + [r(i) + r(n-i) for i in range(1, n)]\n",
    "    )"
   ]
  },
  {
   "cell_type": "code",
   "execution_count": 8,
   "metadata": {},
   "outputs": [
    {
     "name": "stdout",
     "output_type": "stream",
     "text": [
      "Wall time: 133 ms\n"
     ]
    },
    {
     "data": {
      "text/plain": [
       "35"
      ]
     },
     "execution_count": 8,
     "metadata": {},
     "output_type": "execute_result"
    }
   ],
   "source": [
    "%time r(12)"
   ]
  },
  {
   "cell_type": "code",
   "execution_count": 9,
   "metadata": {},
   "outputs": [
    {
     "name": "stdout",
     "output_type": "stream",
     "text": [
      "Wall time: 4.31 s\n"
     ]
    },
    {
     "data": {
      "text/plain": [
       "43"
      ]
     },
     "execution_count": 9,
     "metadata": {},
     "output_type": "execute_result"
    }
   ],
   "source": [
    "%time r(15)"
   ]
  },
  {
   "cell_type": "markdown",
   "metadata": {},
   "source": [
    "**指数级算法复杂度，后面变得非常慢**"
   ]
  },
  {
   "cell_type": "markdown",
   "metadata": {},
   "source": [
    "**时间复杂度的估算：**"
   ]
  },
  {
   "cell_type": "markdown",
   "metadata": {},
   "source": [
    "C为常数项：\n",
    "\n",
    "f(n) = C * f(n-1)\n",
    "\n",
    "f(n-1) = C * f(n-2)\n",
    "\n",
    "f(n-2) = C * f(n-3)\n",
    "\n",
    "...\n",
    "\n",
    "f(1) = C\n",
    "\n",
    "连续相乘并消项可得：\n",
    "\n",
    "f(n) = $C^n$"
   ]
  },
  {
   "cell_type": "markdown",
   "metadata": {},
   "source": [
    "T(f(n)) = T(f(n-1)) + T(f(n-2)) + ... + T(f(2))\n",
    "\n",
    "T(f(n-1)) = T(f(n-2)) + ...+ T(f(2))\n",
    "\n",
    "...\n",
    "\n",
    "T(f(n)) = $(n-1)^n$"
   ]
  },
  {
   "cell_type": "markdown",
   "metadata": {},
   "source": [
    "### f(n) = f(n/2) + f(n/2)\n",
    "--> $O(n^2)$\n",
    "### f(n) = f(n-1) + f(n-2) + ... + f(1)\n",
    "--> $O(n!)$\n",
    "### Merge Sort\n",
    "--> $O(nlogn)$"
   ]
  },
  {
   "cell_type": "markdown",
   "metadata": {},
   "source": [
    "### 番外1：递归求解斐波那契数列的例子"
   ]
  },
  {
   "cell_type": "code",
   "execution_count": 10,
   "metadata": {},
   "outputs": [],
   "source": [
    "\"\"\"\n",
    "0 1 1 2 3 5 8 13 21 34 55\n",
    "\n",
    "fib(0) = 0\n",
    "fib(1) = 1\n",
    "fib(2) = 0 + 1 = 1\n",
    "fib(3) = fib(2) + fib(1) = 2\n",
    "fib(4) = fib(3) + fib(2) = 2 + 1 = 3\n",
    "fib(5) = fib(4) + fib(3) = 3 + 2 = 5\n",
    "\"\"\"\n",
    "def fib(n):\n",
    "    if n <= 1: return n   # 第1，2个数就等于它们自己，n\n",
    "    else:\n",
    "        return fib(n-1) + fib(n-2)  # 从后面开始每一个数就等于前两个数之和"
   ]
  },
  {
   "cell_type": "code",
   "execution_count": 11,
   "metadata": {},
   "outputs": [
    {
     "name": "stdout",
     "output_type": "stream",
     "text": [
      "Wall time: 1.07 s\n"
     ]
    },
    {
     "data": {
      "text/plain": [
       "3524578"
      ]
     },
     "execution_count": 11,
     "metadata": {},
     "output_type": "execute_result"
    }
   ],
   "source": [
    "# 33 以后就开始有点慢了\n",
    "%time fib(33)"
   ]
  },
  {
   "cell_type": "markdown",
   "metadata": {},
   "source": [
    "### 番外2：一种更高效的fibonacci算法（带缓存器）"
   ]
  },
  {
   "cell_type": "code",
   "execution_count": 12,
   "metadata": {},
   "outputs": [],
   "source": [
    "'''\n",
    "使用cached缓存已经计算过的数\n",
    "'''\n",
    "cache = {}\n",
    "def cached_fib(n):\n",
    "    if n in cache: return cache[n]    # 如果n在缓存里，直接返回数值即可\n",
    "    else:                             # 下面的话，其实和上面的算法一样，只不过，会把计算过的数放进缓存器而已\n",
    "        if n <= 1:\n",
    "            cache[n] = n                  # *** 缓存操作\n",
    "            return n\n",
    "        else:\n",
    "            result = cached_fib(n-1) + cached_fib(n-2)\n",
    "            cache[n] = result             # *** 缓存操作\n",
    "            return result"
   ]
  },
  {
   "cell_type": "code",
   "execution_count": 13,
   "metadata": {},
   "outputs": [
    {
     "name": "stdout",
     "output_type": "stream",
     "text": [
      "Wall time: 1.99 ms\n"
     ]
    },
    {
     "data": {
      "text/plain": [
       "4224696333392304878706725602341482782579852840250681098010280137314308584370130707224123599639141511088446087538909603607640194711643596029271983312598737326253555802606991585915229492453904998722256795316982874482472992263901833716778060607011615497886719879858311468870876264597369086722884023654422295243347964480139515349562972087652656069529806499841977448720155612802665404554171717881930324025204312082516817125"
      ]
     },
     "execution_count": 13,
     "metadata": {},
     "output_type": "execute_result"
    }
   ],
   "source": [
    "%time cached_fib(2000)"
   ]
  },
  {
   "cell_type": "markdown",
   "metadata": {},
   "source": [
    "**提速效果非常明显**"
   ]
  },
  {
   "cell_type": "code",
   "execution_count": 14,
   "metadata": {},
   "outputs": [
    {
     "name": "stdout",
     "output_type": "stream",
     "text": [
      "113 ns ± 1.37 ns per loop (mean ± std. dev. of 7 runs, 10000000 loops each)\n"
     ]
    }
   ],
   "source": [
    "%%timeit\n",
    "cached_fib(15)"
   ]
  },
  {
   "cell_type": "code",
   "execution_count": 15,
   "metadata": {},
   "outputs": [
    {
     "name": "stdout",
     "output_type": "stream",
     "text": [
      "222 µs ± 41.4 µs per loop (mean ± std. dev. of 7 runs, 10000 loops each)\n"
     ]
    }
   ],
   "source": [
    "%%timeit\n",
    "fib(15)"
   ]
  },
  {
   "cell_type": "markdown",
   "metadata": {},
   "source": [
    "## Decorator"
   ]
  },
  {
   "cell_type": "code",
   "execution_count": 16,
   "metadata": {},
   "outputs": [],
   "source": [
    "import time\n",
    "def complex_f(x):\n",
    "    time.sleep(1)\n",
    "    return x**2"
   ]
  },
  {
   "cell_type": "code",
   "execution_count": 17,
   "metadata": {},
   "outputs": [
    {
     "name": "stdout",
     "output_type": "stream",
     "text": [
      "The Zen of Python, by Tim Peters\n",
      "\n",
      "Beautiful is better than ugly.\n",
      "Explicit is better than implicit.\n",
      "Simple is better than complex.\n",
      "Complex is better than complicated.\n",
      "Flat is better than nested.\n",
      "Sparse is better than dense.\n",
      "Readability counts.\n",
      "Special cases aren't special enough to break the rules.\n",
      "Although practicality beats purity.\n",
      "Errors should never pass silently.\n",
      "Unless explicitly silenced.\n",
      "In the face of ambiguity, refuse the temptation to guess.\n",
      "There should be one-- and preferably only one --obvious way to do it.\n",
      "Although that way may not be obvious at first unless you're Dutch.\n",
      "Now is better than never.\n",
      "Although never is often better than *right* now.\n",
      "If the implementation is hard to explain, it's a bad idea.\n",
      "If the implementation is easy to explain, it may be a good idea.\n",
      "Namespaces are one honking great idea -- let's do more of those!\n"
     ]
    }
   ],
   "source": [
    "import this"
   ]
  },
  {
   "cell_type": "markdown",
   "metadata": {},
   "source": [
    "**问题：如果要对某个函数加一个计时功能**"
   ]
  },
  {
   "cell_type": "markdown",
   "metadata": {},
   "source": [
    "**方法1：**写一个函数，这个函数调用f函数，传入参数，并且可以打印时间"
   ]
  },
  {
   "cell_type": "code",
   "execution_count": 18,
   "metadata": {},
   "outputs": [],
   "source": [
    "def get_time(f, *args, **kwargs):\n",
    "    st = time.time()\n",
    "    result = f(*args, **kwargs)\n",
    "    et = time.time()\n",
    "    print(\"time used: {} seconds\".format(et-st))\n",
    "    return result"
   ]
  },
  {
   "cell_type": "code",
   "execution_count": 19,
   "metadata": {},
   "outputs": [
    {
     "name": "stdout",
     "output_type": "stream",
     "text": [
      "time used: 1.0007662773132324 seconds\n"
     ]
    },
    {
     "data": {
      "text/plain": [
       "400"
      ]
     },
     "execution_count": 19,
     "metadata": {},
     "output_type": "execute_result"
    }
   ],
   "source": [
    "get_time(complex_f, 20)"
   ]
  },
  {
   "cell_type": "markdown",
   "metadata": {},
   "source": [
    "这个方法还是不够好，因为可能还要修改源代码中用到某个函数的内容，所以还是需要修改很多，于是：\n",
    "\n",
    "**方法2：**写一个装饰器函数，这个函数对不调用f函数，而仅仅是对其进行封装然后返回封装后增加了功能的函数，这个函数带有了打印时间的功能"
   ]
  },
  {
   "cell_type": "code",
   "execution_count": 20,
   "metadata": {},
   "outputs": [],
   "source": [
    "def get_time_wrapper(f):\n",
    "    '''对f函数进行一个封装，然后返回这个封装后的函数'''\n",
    "    def wrap(*args, **kwargs):\n",
    "        \"\"\"能够获得时间\"\"\"\n",
    "        st = time.time()\n",
    "        result = f(*args, **kwargs)    # wrap函数实际上传入参数调用的就是f函数\n",
    "        et = time.time()\n",
    "        print(\"time used: {} seconds\".format(et-st))\n",
    "        return result\n",
    "    return wrap"
   ]
  },
  {
   "cell_type": "code",
   "execution_count": 21,
   "metadata": {},
   "outputs": [
    {
     "name": "stdout",
     "output_type": "stream",
     "text": [
      "time used: 1.0004446506500244 seconds\n"
     ]
    },
    {
     "data": {
      "text/plain": [
       "400"
      ]
     },
     "execution_count": 21,
     "metadata": {},
     "output_type": "execute_result"
    }
   ],
   "source": [
    "get_time_wrapper(complex_f)(20)"
   ]
  },
  {
   "cell_type": "code",
   "execution_count": 22,
   "metadata": {},
   "outputs": [],
   "source": [
    "complex_f_new = get_time_wrapper(complex_f)"
   ]
  },
  {
   "cell_type": "code",
   "execution_count": 23,
   "metadata": {},
   "outputs": [
    {
     "name": "stdout",
     "output_type": "stream",
     "text": [
      "time used: 1.0008854866027832 seconds\n"
     ]
    },
    {
     "data": {
      "text/plain": [
       "400"
      ]
     },
     "execution_count": 23,
     "metadata": {},
     "output_type": "execute_result"
    }
   ],
   "source": [
    "complex_f_new(20)"
   ]
  },
  {
   "cell_type": "markdown",
   "metadata": {},
   "source": [
    "最后，终极形式就是："
   ]
  },
  {
   "cell_type": "code",
   "execution_count": 24,
   "metadata": {},
   "outputs": [],
   "source": [
    "@get_time_wrapper\n",
    "def complex_f2(n):\n",
    "    \"\"\"另一个复杂的函数\"\"\"\n",
    "    time.sleep(0.23)\n",
    "    return n**2"
   ]
  },
  {
   "cell_type": "code",
   "execution_count": 25,
   "metadata": {},
   "outputs": [
    {
     "name": "stdout",
     "output_type": "stream",
     "text": [
      "time used: 0.23073840141296387 seconds\n"
     ]
    },
    {
     "data": {
      "text/plain": [
       "36"
      ]
     },
     "execution_count": 25,
     "metadata": {},
     "output_type": "execute_result"
    }
   ],
   "source": [
    "complex_f2(6)"
   ]
  },
  {
   "cell_type": "code",
   "execution_count": 26,
   "metadata": {},
   "outputs": [
    {
     "name": "stdout",
     "output_type": "stream",
     "text": [
      "Help on function wrap in module __main__:\n",
      "\n",
      "wrap(*args, **kwargs)\n",
      "    能够获得时间\n",
      "\n"
     ]
    }
   ],
   "source": [
    "help(complex_f2)"
   ]
  },
  {
   "cell_type": "markdown",
   "metadata": {},
   "source": [
    "## Analysis: How to optimize\n",
    "## A Simpler Problem\n",
    "#### We could make Fib Problem quick very easy!"
   ]
  },
  {
   "cell_type": "code",
   "execution_count": 27,
   "metadata": {},
   "outputs": [],
   "source": [
    "from functools import wraps"
   ]
  },
  {
   "cell_type": "code",
   "execution_count": 31,
   "metadata": {},
   "outputs": [],
   "source": [
    "\"\"\"\n",
    "写一个装饰器，用来暂存\n",
    "\"\"\"\n",
    "def memo(f): \n",
    "    memo.already_computed = {}  \n",
    "    # python 自带的 cache 有 lru_cache 缓存管理功能，会自动删除不常用的缓存，以释放内存空间\n",
    "    @wraps(f)    # 把f的性质，文档等赋予_wrap\n",
    "    def _wrap(arg):\n",
    "        result = None\n",
    "        \n",
    "        if arg in memo.already_computed:              # 如果在缓存里，就从缓存里取\n",
    "            result = memo.already_computed[arg]\n",
    "            # print('hit {}'.format(arg))\n",
    "        else:                                         # 如果不在缓存里，就计算，然后写进缓存\n",
    "            result = f(arg)\n",
    "            memo.already_computed[arg] = result\n",
    "        \n",
    "        return result\n",
    "\n",
    "    return _wrap"
   ]
  },
  {
   "cell_type": "code",
   "execution_count": 32,
   "metadata": {},
   "outputs": [],
   "source": [
    "@memo\n",
    "def r(n):\n",
    "    return max(\n",
    "        [price[n]] + [r(i) + r(n-i) for i in range(1, n)]\n",
    "    )"
   ]
  },
  {
   "cell_type": "code",
   "execution_count": 33,
   "metadata": {},
   "outputs": [
    {
     "data": {
      "text/plain": [
       "43"
      ]
     },
     "execution_count": 33,
     "metadata": {},
     "output_type": "execute_result"
    }
   ],
   "source": [
    "r(15)"
   ]
  },
  {
   "cell_type": "code",
   "execution_count": 43,
   "metadata": {},
   "outputs": [],
   "source": [
    "memo.already_computed = {}"
   ]
  },
  {
   "cell_type": "code",
   "execution_count": 35,
   "metadata": {},
   "outputs": [
    {
     "data": {
      "text/plain": [
       "300"
      ]
     },
     "execution_count": 35,
     "metadata": {},
     "output_type": "execute_result"
    }
   ],
   "source": [
    "r(100)"
   ]
  },
  {
   "cell_type": "code",
   "execution_count": 36,
   "metadata": {},
   "outputs": [],
   "source": [
    "@memo\n",
    "def fib(n):\n",
    "    if n <= 1: return n   # 第1，2个数就等于它们自己，n\n",
    "    else:\n",
    "        return fib(n-1) + fib(n-2)  # 从后面开始每一个数就等于前两个数之和"
   ]
  },
  {
   "cell_type": "code",
   "execution_count": 97,
   "metadata": {},
   "outputs": [
    {
     "name": "stdout",
     "output_type": "stream",
     "text": [
      "hit 1\n",
      "hit 2\n",
      "hit 3\n",
      "hit 4\n",
      "hit 5\n",
      "hit 6\n",
      "hit 7\n",
      "hit 8\n",
      "hit 9\n",
      "hit 10\n",
      "hit 11\n",
      "hit 12\n",
      "hit 13\n",
      "hit 14\n",
      "hit 15\n",
      "hit 16\n",
      "hit 17\n",
      "hit 18\n",
      "hit 19\n",
      "hit 20\n",
      "hit 21\n",
      "hit 22\n",
      "hit 23\n",
      "hit 24\n",
      "hit 25\n",
      "hit 26\n",
      "hit 27\n",
      "hit 28\n",
      "hit 29\n",
      "hit 30\n",
      "hit 31\n",
      "hit 32\n",
      "hit 33\n",
      "hit 34\n",
      "hit 35\n",
      "hit 36\n",
      "hit 37\n",
      "hit 38\n",
      "hit 39\n",
      "hit 40\n",
      "hit 41\n",
      "hit 42\n",
      "hit 43\n",
      "hit 44\n",
      "hit 45\n",
      "hit 46\n",
      "hit 47\n",
      "hit 48\n",
      "hit 49\n",
      "hit 50\n",
      "hit 51\n",
      "hit 52\n",
      "hit 53\n",
      "hit 54\n",
      "hit 55\n",
      "hit 56\n",
      "hit 57\n",
      "hit 58\n",
      "hit 59\n",
      "hit 60\n",
      "hit 61\n",
      "hit 62\n",
      "hit 63\n",
      "hit 64\n",
      "hit 65\n",
      "hit 66\n",
      "hit 67\n",
      "hit 68\n",
      "hit 69\n",
      "hit 70\n",
      "hit 71\n",
      "hit 72\n",
      "hit 73\n",
      "hit 74\n",
      "hit 75\n",
      "hit 76\n",
      "hit 77\n",
      "hit 78\n",
      "hit 79\n",
      "hit 80\n",
      "hit 81\n",
      "hit 82\n",
      "hit 83\n",
      "hit 84\n",
      "hit 85\n",
      "hit 86\n",
      "hit 87\n",
      "hit 88\n",
      "hit 89\n",
      "hit 90\n",
      "hit 91\n",
      "hit 92\n",
      "hit 93\n",
      "hit 94\n",
      "hit 95\n",
      "hit 96\n",
      "hit 97\n",
      "hit 98\n",
      "hit 99\n",
      "hit 100\n",
      "hit 101\n",
      "hit 102\n",
      "hit 103\n",
      "hit 104\n",
      "hit 105\n",
      "hit 106\n",
      "hit 107\n",
      "hit 108\n",
      "hit 109\n",
      "hit 110\n",
      "hit 111\n",
      "hit 112\n",
      "hit 113\n",
      "hit 114\n",
      "hit 115\n",
      "hit 116\n",
      "hit 117\n",
      "hit 118\n",
      "hit 119\n",
      "hit 120\n",
      "hit 121\n",
      "hit 122\n",
      "hit 123\n",
      "hit 124\n",
      "hit 125\n",
      "hit 126\n",
      "hit 127\n",
      "hit 128\n",
      "hit 129\n",
      "hit 130\n",
      "hit 131\n",
      "hit 132\n",
      "hit 133\n",
      "hit 134\n",
      "hit 135\n",
      "hit 136\n",
      "hit 137\n",
      "hit 138\n",
      "hit 139\n",
      "hit 140\n",
      "hit 141\n",
      "hit 142\n",
      "hit 143\n",
      "hit 144\n",
      "hit 145\n",
      "hit 146\n",
      "hit 147\n",
      "hit 148\n",
      "hit 149\n",
      "hit 150\n",
      "hit 151\n",
      "hit 152\n",
      "hit 153\n",
      "hit 154\n",
      "hit 155\n",
      "hit 156\n",
      "hit 157\n",
      "hit 158\n",
      "hit 159\n",
      "hit 160\n",
      "hit 161\n",
      "hit 162\n",
      "hit 163\n",
      "hit 164\n",
      "hit 165\n",
      "hit 166\n",
      "hit 167\n",
      "hit 168\n",
      "hit 169\n",
      "hit 170\n",
      "hit 171\n",
      "hit 172\n",
      "hit 173\n",
      "hit 174\n",
      "hit 175\n",
      "hit 176\n",
      "hit 177\n",
      "hit 178\n",
      "hit 179\n",
      "hit 180\n",
      "hit 181\n",
      "hit 182\n",
      "hit 183\n",
      "hit 184\n",
      "hit 185\n",
      "hit 186\n",
      "hit 187\n",
      "hit 188\n",
      "hit 189\n",
      "hit 190\n",
      "hit 191\n",
      "hit 192\n",
      "hit 193\n",
      "hit 194\n",
      "hit 195\n",
      "hit 196\n",
      "hit 197\n",
      "hit 198\n"
     ]
    },
    {
     "data": {
      "text/plain": [
       "280571172992510140037611932413038677189525"
      ]
     },
     "execution_count": 97,
     "metadata": {},
     "output_type": "execute_result"
    }
   ],
   "source": [
    "fib(200)"
   ]
  },
  {
   "cell_type": "markdown",
   "metadata": {},
   "source": [
    "### Dynamic Programming\n",
    "1940s Bellman 数学家\n",
    "通过把中间结果存起来，然后不断查询，加快计算速度的方法（不断查表法）\n",
    "\n",
    "Programming：写表，查表\n",
    "\n",
    "Dynamic Programming：动态写表查表"
   ]
  },
  {
   "cell_type": "markdown",
   "metadata": {},
   "source": [
    "### 上面我们已经解决了最大价值切分木头问题，可以计算出最大价值，可是具体怎么切分呢？"
   ]
  },
  {
   "cell_type": "markdown",
   "metadata": {},
   "source": [
    "简单修改一下："
   ]
  },
  {
   "cell_type": "code",
   "execution_count": 73,
   "metadata": {},
   "outputs": [],
   "source": [
    "solutions = {}"
   ]
  },
  {
   "cell_type": "code",
   "execution_count": 74,
   "metadata": {},
   "outputs": [],
   "source": [
    "@memo\n",
    "def r(n):\n",
    "    \n",
    "    notes = [(price[n], 0, n)] # 初始化一个notes\n",
    "    for i in range(1, n):\n",
    "        notes.append((r(i)+r(n-i), i, n-i)) # 对于每一个切分情况，计算最大价值\n",
    "    \n",
    "    max_price, left, right = max(notes, key=lambda x: x[0])\n",
    "    \n",
    "    solutions[n] = (left, right) # 由于递归，所以每一种情况都会append进去\n",
    "    \n",
    "    return max_price"
   ]
  },
  {
   "cell_type": "code",
   "execution_count": 75,
   "metadata": {},
   "outputs": [],
   "source": [
    "memo.already_computed = {}"
   ]
  },
  {
   "cell_type": "code",
   "execution_count": 76,
   "metadata": {},
   "outputs": [
    {
     "data": {
      "text/plain": [
       "60"
      ]
     },
     "execution_count": 76,
     "metadata": {},
     "output_type": "execute_result"
    }
   ],
   "source": [
    "r(20)"
   ]
  },
  {
   "cell_type": "code",
   "execution_count": 77,
   "metadata": {},
   "outputs": [
    {
     "data": {
      "text/plain": [
       "{1: (0, 1),\n",
       " 2: (0, 2),\n",
       " 3: (0, 3),\n",
       " 4: (2, 2),\n",
       " 5: (2, 3),\n",
       " 6: (0, 6),\n",
       " 7: (1, 6),\n",
       " 8: (2, 6),\n",
       " 9: (3, 6),\n",
       " 10: (0, 10),\n",
       " 11: (0, 11),\n",
       " 12: (2, 10),\n",
       " 13: (2, 11),\n",
       " 14: (3, 11),\n",
       " 15: (2, 13),\n",
       " 16: (6, 10),\n",
       " 17: (6, 11),\n",
       " 18: (2, 16),\n",
       " 19: (2, 17),\n",
       " 20: (10, 10)}"
      ]
     },
     "execution_count": 77,
     "metadata": {},
     "output_type": "execute_result"
    }
   ],
   "source": [
    "solutions"
   ]
  },
  {
   "cell_type": "code",
   "execution_count": 78,
   "metadata": {},
   "outputs": [
    {
     "data": {
      "text/plain": [
       "90"
      ]
     },
     "execution_count": 78,
     "metadata": {},
     "output_type": "execute_result"
    }
   ],
   "source": [
    "r(30)"
   ]
  },
  {
   "cell_type": "code",
   "execution_count": 79,
   "metadata": {},
   "outputs": [
    {
     "data": {
      "text/plain": [
       "{1: (0, 1),\n",
       " 2: (0, 2),\n",
       " 3: (0, 3),\n",
       " 4: (2, 2),\n",
       " 5: (2, 3),\n",
       " 6: (0, 6),\n",
       " 7: (1, 6),\n",
       " 8: (2, 6),\n",
       " 9: (3, 6),\n",
       " 10: (0, 10),\n",
       " 11: (0, 11),\n",
       " 12: (2, 10),\n",
       " 13: (2, 11),\n",
       " 14: (3, 11),\n",
       " 15: (2, 13),\n",
       " 16: (6, 10),\n",
       " 17: (6, 11),\n",
       " 18: (2, 16),\n",
       " 19: (2, 17),\n",
       " 20: (10, 10),\n",
       " 21: (10, 11),\n",
       " 22: (11, 11),\n",
       " 23: (2, 21),\n",
       " 24: (2, 22),\n",
       " 25: (3, 22),\n",
       " 26: (6, 20),\n",
       " 27: (6, 21),\n",
       " 28: (6, 22),\n",
       " 29: (2, 27),\n",
       " 30: (10, 20)}"
      ]
     },
     "execution_count": 79,
     "metadata": {},
     "output_type": "execute_result"
    }
   ],
   "source": [
    "solutions"
   ]
  },
  {
   "cell_type": "code",
   "execution_count": 89,
   "metadata": {},
   "outputs": [
    {
     "data": {
      "text/plain": [
       "600"
      ]
     },
     "execution_count": 89,
     "metadata": {},
     "output_type": "execute_result"
    }
   ],
   "source": [
    "r(200)"
   ]
  },
  {
   "cell_type": "markdown",
   "metadata": {},
   "source": [
    "Then we try to parse the solution:"
   ]
  },
  {
   "cell_type": "code",
   "execution_count": 85,
   "metadata": {},
   "outputs": [],
   "source": [
    "def parse_solution(n):\n",
    "    left_split, right_split = solutions[n]\n",
    "    \n",
    "    if left_split == 0: return [right_split]\n",
    "    \n",
    "    return parse_solution(left_split) + parse_solution(right_split)"
   ]
  },
  {
   "cell_type": "code",
   "execution_count": 88,
   "metadata": {},
   "outputs": [
    {
     "data": {
      "text/plain": [
       "'10 ⊙ 10 ⊙ 10'"
      ]
     },
     "execution_count": 88,
     "metadata": {},
     "output_type": "execute_result"
    }
   ],
   "source": [
    "\" ⊙ \".join(map(str, parse_solution(30)))"
   ]
  },
  {
   "cell_type": "code",
   "execution_count": 94,
   "metadata": {},
   "outputs": [
    {
     "data": {
      "text/plain": [
       "'10 ⊙ 10 ⊙ 10 ⊙ 10 ⊙ 10 ⊙ 10 ⊙ 10 ⊙ 10 ⊙ 10 ⊙ 10 ⊙ 11 ⊙ 11 ⊙ 11 ⊙ 11 ⊙ 11 ⊙ 11 ⊙ 11 ⊙ 11 ⊙ 11'"
      ]
     },
     "execution_count": 94,
     "metadata": {},
     "output_type": "execute_result"
    }
   ],
   "source": [
    "\" ⊙ \".join(map(str, parse_solution(199)))"
   ]
  },
  {
   "cell_type": "markdown",
   "metadata": {},
   "source": [
    "### --> 动态规划解决问题的3个步骤\n",
    "#### 1. 识别并拆分子问题\n",
    "#### 2. 去除子问题的重复\n",
    "#### 3. 解析问题求解过程"
   ]
  },
  {
   "cell_type": "markdown",
   "metadata": {},
   "source": [
    "# Edit Distance 编辑距离\n",
    "\n",
    "## Edit Distance"
   ]
  },
  {
   "cell_type": "markdown",
   "metadata": {},
   "source": [
    "通过**编辑操作**来衡量两段文字的距离，本质上也是**距离算法**。"
   ]
  },
  {
   "cell_type": "markdown",
   "metadata": {},
   "source": [
    "### 编辑操作包括\n",
    "- 插入操作 Insertion\n",
    "- 删除操作 Deletion\n",
    "- 替换操作 Substitution"
   ]
  },
  {
   "cell_type": "markdown",
   "metadata": {},
   "source": [
    "### 应用领域\n",
    "#### 1. 拼写纠错 Spell Correction\n",
    "- e.g. Typed \"Biejing\" - Shoud be \"Biejie\"? or \"Beijing\"? or \"Beijin\"? or others?\n",
    "\n",
    "#### 2. 评估/改进 机器翻译或者语音识别的结果\n",
    "- e.g. Result \"The salesman said  he   made a big   fortunate.\" -> \"The salesman said he made a big fortunate.\""
   ]
  },
  {
   "cell_type": "code",
   "execution_count": 96,
   "metadata": {},
   "outputs": [],
   "source": [
    "from functools import lru_cache"
   ]
  },
  {
   "cell_type": "code",
   "execution_count": 99,
   "metadata": {},
   "outputs": [],
   "source": [
    "solution={}"
   ]
  },
  {
   "cell_type": "code",
   "execution_count": 100,
   "metadata": {},
   "outputs": [],
   "source": [
    "@lru_cache(maxsize=2**10)\n",
    "def edit_distance(string1, string2):\n",
    "    '''\n",
    "    D(i,j) = min(D)\n",
    "    '''\n",
    "    \n",
    "    if len(string1) == 0: return len(string2)\n",
    "    if len(string2) == 0: return len(string1)\n",
    "    \n",
    "    tail_s1 = string1[-1]\n",
    "    tail_s2 = string2[-1]\n",
    "    \n",
    "    candidates = [\n",
    "        (edit_distance(string1[:-1], string2) + 1, 'DEL {}'.format(tail_s1)),  \n",
    "        # string 1 delete tail\n",
    "        (edit_distance(string1, string2[:-1]) + 1, 'ADD {}'.format(tail_s2)),  \n",
    "        # string 1 add tail of string2\n",
    "    ]\n",
    "    \n",
    "    if tail_s1 == tail_s2:\n",
    "        both_forward = (edit_distance(string1[:-1], string2[:-1]) + 0, '')\n",
    "    else:\n",
    "        both_forward = (edit_distance(string1[:-1], string2[:-1]) + 1, 'SUB {} => {}'.format(tail_s1, tail_s2))\n",
    "\n",
    "    candidates.append(both_forward)\n",
    "    \n",
    "    min_distance, operation = min(candidates, key=lambda x: x[0])\n",
    "    \n",
    "    solution[(string1, string2)] = operation\n",
    "    \n",
    "    return min_distance"
   ]
  },
  {
   "cell_type": "code",
   "execution_count": 101,
   "metadata": {},
   "outputs": [
    {
     "data": {
      "text/plain": [
       "2"
      ]
     },
     "execution_count": 101,
     "metadata": {},
     "output_type": "execute_result"
    }
   ],
   "source": [
    "edit_distance('ABCDE', 'ABCCEF')"
   ]
  },
  {
   "cell_type": "code",
   "execution_count": 102,
   "metadata": {},
   "outputs": [
    {
     "data": {
      "text/plain": [
       "{('A', 'A'): '',\n",
       " ('A', 'AB'): 'ADD B',\n",
       " ('A', 'ABC'): 'ADD C',\n",
       " ('A', 'ABCC'): 'ADD C',\n",
       " ('A', 'ABCCE'): 'ADD E',\n",
       " ('A', 'ABCCEF'): 'ADD F',\n",
       " ('AB', 'A'): 'DEL B',\n",
       " ('AB', 'AB'): '',\n",
       " ('AB', 'ABC'): 'ADD C',\n",
       " ('AB', 'ABCC'): 'ADD C',\n",
       " ('AB', 'ABCCE'): 'ADD E',\n",
       " ('AB', 'ABCCEF'): 'ADD F',\n",
       " ('ABC', 'A'): 'DEL C',\n",
       " ('ABC', 'AB'): 'DEL C',\n",
       " ('ABC', 'ABC'): '',\n",
       " ('ABC', 'ABCC'): 'ADD C',\n",
       " ('ABC', 'ABCCE'): 'ADD E',\n",
       " ('ABC', 'ABCCEF'): 'ADD F',\n",
       " ('ABCD', 'A'): 'DEL D',\n",
       " ('ABCD', 'AB'): 'DEL D',\n",
       " ('ABCD', 'ABC'): 'DEL D',\n",
       " ('ABCD', 'ABCC'): 'SUB D => C',\n",
       " ('ABCD', 'ABCCE'): 'ADD E',\n",
       " ('ABCD', 'ABCCEF'): 'ADD F',\n",
       " ('ABCDE', 'A'): 'DEL E',\n",
       " ('ABCDE', 'AB'): 'DEL E',\n",
       " ('ABCDE', 'ABC'): 'DEL E',\n",
       " ('ABCDE', 'ABCC'): 'DEL E',\n",
       " ('ABCDE', 'ABCCE'): '',\n",
       " ('ABCDE', 'ABCCEF'): 'ADD F'}"
      ]
     },
     "execution_count": 102,
     "metadata": {},
     "output_type": "execute_result"
    }
   ],
   "source": [
    "solution"
   ]
  },
  {
   "cell_type": "code",
   "execution_count": 103,
   "metadata": {},
   "outputs": [
    {
     "data": {
      "text/plain": [
       "2"
      ]
     },
     "execution_count": 103,
     "metadata": {},
     "output_type": "execute_result"
    }
   ],
   "source": [
    "edit_distance(\"beijing\", \"biejing\")"
   ]
  },
  {
   "cell_type": "code",
   "execution_count": 104,
   "metadata": {},
   "outputs": [
    {
     "data": {
      "text/plain": [
       "{('A', 'A'): '',\n",
       " ('A', 'AB'): 'ADD B',\n",
       " ('A', 'ABC'): 'ADD C',\n",
       " ('A', 'ABCC'): 'ADD C',\n",
       " ('A', 'ABCCE'): 'ADD E',\n",
       " ('A', 'ABCCEF'): 'ADD F',\n",
       " ('AB', 'A'): 'DEL B',\n",
       " ('AB', 'AB'): '',\n",
       " ('AB', 'ABC'): 'ADD C',\n",
       " ('AB', 'ABCC'): 'ADD C',\n",
       " ('AB', 'ABCCE'): 'ADD E',\n",
       " ('AB', 'ABCCEF'): 'ADD F',\n",
       " ('ABC', 'A'): 'DEL C',\n",
       " ('ABC', 'AB'): 'DEL C',\n",
       " ('ABC', 'ABC'): '',\n",
       " ('ABC', 'ABCC'): 'ADD C',\n",
       " ('ABC', 'ABCCE'): 'ADD E',\n",
       " ('ABC', 'ABCCEF'): 'ADD F',\n",
       " ('ABCD', 'A'): 'DEL D',\n",
       " ('ABCD', 'AB'): 'DEL D',\n",
       " ('ABCD', 'ABC'): 'DEL D',\n",
       " ('ABCD', 'ABCC'): 'SUB D => C',\n",
       " ('ABCD', 'ABCCE'): 'ADD E',\n",
       " ('ABCD', 'ABCCEF'): 'ADD F',\n",
       " ('ABCDE', 'A'): 'DEL E',\n",
       " ('ABCDE', 'AB'): 'DEL E',\n",
       " ('ABCDE', 'ABC'): 'DEL E',\n",
       " ('ABCDE', 'ABCC'): 'DEL E',\n",
       " ('ABCDE', 'ABCCE'): '',\n",
       " ('ABCDE', 'ABCCEF'): 'ADD F',\n",
       " ('b', 'b'): '',\n",
       " ('b', 'bi'): 'ADD i',\n",
       " ('b', 'bie'): 'ADD e',\n",
       " ('b', 'biej'): 'ADD j',\n",
       " ('b', 'bieji'): 'ADD i',\n",
       " ('b', 'biejin'): 'ADD n',\n",
       " ('b', 'biejing'): 'ADD g',\n",
       " ('be', 'b'): 'DEL e',\n",
       " ('be', 'bi'): 'SUB e => i',\n",
       " ('be', 'bie'): '',\n",
       " ('be', 'biej'): 'ADD j',\n",
       " ('be', 'bieji'): 'ADD i',\n",
       " ('be', 'biejin'): 'ADD n',\n",
       " ('be', 'biejing'): 'ADD g',\n",
       " ('bei', 'b'): 'DEL i',\n",
       " ('bei', 'bi'): '',\n",
       " ('bei', 'bie'): 'DEL i',\n",
       " ('bei', 'biej'): 'SUB i => j',\n",
       " ('bei', 'bieji'): '',\n",
       " ('bei', 'biejin'): 'ADD n',\n",
       " ('bei', 'biejing'): 'ADD g',\n",
       " ('beij', 'b'): 'DEL j',\n",
       " ('beij', 'bi'): 'DEL j',\n",
       " ('beij', 'bie'): 'SUB j => e',\n",
       " ('beij', 'biej'): '',\n",
       " ('beij', 'bieji'): 'DEL j',\n",
       " ('beij', 'biejin'): 'SUB j => n',\n",
       " ('beij', 'biejing'): 'ADD g',\n",
       " ('beiji', 'b'): 'DEL i',\n",
       " ('beiji', 'bi'): 'DEL i',\n",
       " ('beiji', 'bie'): 'DEL i',\n",
       " ('beiji', 'biej'): 'DEL i',\n",
       " ('beiji', 'bieji'): '',\n",
       " ('beiji', 'biejin'): 'ADD n',\n",
       " ('beiji', 'biejing'): 'ADD g',\n",
       " ('beijin', 'b'): 'DEL n',\n",
       " ('beijin', 'bi'): 'DEL n',\n",
       " ('beijin', 'bie'): 'DEL n',\n",
       " ('beijin', 'biej'): 'DEL n',\n",
       " ('beijin', 'bieji'): 'DEL n',\n",
       " ('beijin', 'biejin'): '',\n",
       " ('beijin', 'biejing'): 'ADD g',\n",
       " ('beijing', 'b'): 'DEL g',\n",
       " ('beijing', 'bi'): 'DEL g',\n",
       " ('beijing', 'bie'): 'DEL g',\n",
       " ('beijing', 'biej'): 'DEL g',\n",
       " ('beijing', 'bieji'): 'DEL g',\n",
       " ('beijing', 'biejin'): 'DEL g',\n",
       " ('beijing', 'biejing'): ''}"
      ]
     },
     "execution_count": 104,
     "metadata": {},
     "output_type": "execute_result"
    }
   ],
   "source": [
    "solution"
   ]
  },
  {
   "cell_type": "code",
   "execution_count": 105,
   "metadata": {},
   "outputs": [
    {
     "data": {
      "text/plain": [
       "2"
      ]
     },
     "execution_count": 105,
     "metadata": {},
     "output_type": "execute_result"
    }
   ],
   "source": [
    "edit_distance(\"1abcd11\", \"11abcd1\")"
   ]
  },
  {
   "cell_type": "code",
   "execution_count": 106,
   "metadata": {},
   "outputs": [
    {
     "data": {
      "text/plain": [
       "{('A', 'A'): '',\n",
       " ('A', 'AB'): 'ADD B',\n",
       " ('A', 'ABC'): 'ADD C',\n",
       " ('A', 'ABCC'): 'ADD C',\n",
       " ('A', 'ABCCE'): 'ADD E',\n",
       " ('A', 'ABCCEF'): 'ADD F',\n",
       " ('AB', 'A'): 'DEL B',\n",
       " ('AB', 'AB'): '',\n",
       " ('AB', 'ABC'): 'ADD C',\n",
       " ('AB', 'ABCC'): 'ADD C',\n",
       " ('AB', 'ABCCE'): 'ADD E',\n",
       " ('AB', 'ABCCEF'): 'ADD F',\n",
       " ('ABC', 'A'): 'DEL C',\n",
       " ('ABC', 'AB'): 'DEL C',\n",
       " ('ABC', 'ABC'): '',\n",
       " ('ABC', 'ABCC'): 'ADD C',\n",
       " ('ABC', 'ABCCE'): 'ADD E',\n",
       " ('ABC', 'ABCCEF'): 'ADD F',\n",
       " ('ABCD', 'A'): 'DEL D',\n",
       " ('ABCD', 'AB'): 'DEL D',\n",
       " ('ABCD', 'ABC'): 'DEL D',\n",
       " ('ABCD', 'ABCC'): 'SUB D => C',\n",
       " ('ABCD', 'ABCCE'): 'ADD E',\n",
       " ('ABCD', 'ABCCEF'): 'ADD F',\n",
       " ('ABCDE', 'A'): 'DEL E',\n",
       " ('ABCDE', 'AB'): 'DEL E',\n",
       " ('ABCDE', 'ABC'): 'DEL E',\n",
       " ('ABCDE', 'ABCC'): 'DEL E',\n",
       " ('ABCDE', 'ABCCE'): '',\n",
       " ('ABCDE', 'ABCCEF'): 'ADD F',\n",
       " ('b', 'b'): '',\n",
       " ('b', 'bi'): 'ADD i',\n",
       " ('b', 'bie'): 'ADD e',\n",
       " ('b', 'biej'): 'ADD j',\n",
       " ('b', 'bieji'): 'ADD i',\n",
       " ('b', 'biejin'): 'ADD n',\n",
       " ('b', 'biejing'): 'ADD g',\n",
       " ('be', 'b'): 'DEL e',\n",
       " ('be', 'bi'): 'SUB e => i',\n",
       " ('be', 'bie'): '',\n",
       " ('be', 'biej'): 'ADD j',\n",
       " ('be', 'bieji'): 'ADD i',\n",
       " ('be', 'biejin'): 'ADD n',\n",
       " ('be', 'biejing'): 'ADD g',\n",
       " ('bei', 'b'): 'DEL i',\n",
       " ('bei', 'bi'): '',\n",
       " ('bei', 'bie'): 'DEL i',\n",
       " ('bei', 'biej'): 'SUB i => j',\n",
       " ('bei', 'bieji'): '',\n",
       " ('bei', 'biejin'): 'ADD n',\n",
       " ('bei', 'biejing'): 'ADD g',\n",
       " ('beij', 'b'): 'DEL j',\n",
       " ('beij', 'bi'): 'DEL j',\n",
       " ('beij', 'bie'): 'SUB j => e',\n",
       " ('beij', 'biej'): '',\n",
       " ('beij', 'bieji'): 'DEL j',\n",
       " ('beij', 'biejin'): 'SUB j => n',\n",
       " ('beij', 'biejing'): 'ADD g',\n",
       " ('beiji', 'b'): 'DEL i',\n",
       " ('beiji', 'bi'): 'DEL i',\n",
       " ('beiji', 'bie'): 'DEL i',\n",
       " ('beiji', 'biej'): 'DEL i',\n",
       " ('beiji', 'bieji'): '',\n",
       " ('beiji', 'biejin'): 'ADD n',\n",
       " ('beiji', 'biejing'): 'ADD g',\n",
       " ('beijin', 'b'): 'DEL n',\n",
       " ('beijin', 'bi'): 'DEL n',\n",
       " ('beijin', 'bie'): 'DEL n',\n",
       " ('beijin', 'biej'): 'DEL n',\n",
       " ('beijin', 'bieji'): 'DEL n',\n",
       " ('beijin', 'biejin'): '',\n",
       " ('beijin', 'biejing'): 'ADD g',\n",
       " ('beijing', 'b'): 'DEL g',\n",
       " ('beijing', 'bi'): 'DEL g',\n",
       " ('beijing', 'bie'): 'DEL g',\n",
       " ('beijing', 'biej'): 'DEL g',\n",
       " ('beijing', 'bieji'): 'DEL g',\n",
       " ('beijing', 'biejin'): 'DEL g',\n",
       " ('beijing', 'biejing'): '',\n",
       " ('1', '1'): '',\n",
       " ('1', '11'): 'ADD 1',\n",
       " ('1', '11a'): 'ADD a',\n",
       " ('1', '11ab'): 'ADD b',\n",
       " ('1', '11abc'): 'ADD c',\n",
       " ('1', '11abcd'): 'ADD d',\n",
       " ('1', '11abcd1'): 'ADD 1',\n",
       " ('1a', '1'): 'DEL a',\n",
       " ('1a', '11'): 'SUB a => 1',\n",
       " ('1a', '11a'): '',\n",
       " ('1a', '11ab'): 'ADD b',\n",
       " ('1a', '11abc'): 'ADD c',\n",
       " ('1a', '11abcd'): 'ADD d',\n",
       " ('1a', '11abcd1'): 'ADD 1',\n",
       " ('1ab', '1'): 'DEL b',\n",
       " ('1ab', '11'): 'DEL b',\n",
       " ('1ab', '11a'): 'DEL b',\n",
       " ('1ab', '11ab'): '',\n",
       " ('1ab', '11abc'): 'ADD c',\n",
       " ('1ab', '11abcd'): 'ADD d',\n",
       " ('1ab', '11abcd1'): 'ADD 1',\n",
       " ('1abc', '1'): 'DEL c',\n",
       " ('1abc', '11'): 'DEL c',\n",
       " ('1abc', '11a'): 'DEL c',\n",
       " ('1abc', '11ab'): 'DEL c',\n",
       " ('1abc', '11abc'): '',\n",
       " ('1abc', '11abcd'): 'ADD d',\n",
       " ('1abc', '11abcd1'): 'ADD 1',\n",
       " ('1abcd', '1'): 'DEL d',\n",
       " ('1abcd', '11'): 'DEL d',\n",
       " ('1abcd', '11a'): 'DEL d',\n",
       " ('1abcd', '11ab'): 'DEL d',\n",
       " ('1abcd', '11abc'): 'DEL d',\n",
       " ('1abcd', '11abcd'): '',\n",
       " ('1abcd', '11abcd1'): 'ADD 1',\n",
       " ('1abcd1', '1'): 'DEL 1',\n",
       " ('1abcd1', '11'): '',\n",
       " ('1abcd1', '11a'): 'DEL 1',\n",
       " ('1abcd1', '11ab'): 'DEL 1',\n",
       " ('1abcd1', '11abc'): 'DEL 1',\n",
       " ('1abcd1', '11abcd'): 'DEL 1',\n",
       " ('1abcd1', '11abcd1'): '',\n",
       " ('1abcd11', '1'): 'DEL 1',\n",
       " ('1abcd11', '11'): 'DEL 1',\n",
       " ('1abcd11', '11a'): 'SUB 1 => a',\n",
       " ('1abcd11', '11ab'): 'DEL 1',\n",
       " ('1abcd11', '11abc'): 'DEL 1',\n",
       " ('1abcd11', '11abcd'): 'DEL 1',\n",
       " ('1abcd11', '11abcd1'): 'DEL 1'}"
      ]
     },
     "execution_count": 106,
     "metadata": {},
     "output_type": "execute_result"
    }
   ],
   "source": [
    "solution"
   ]
  },
  {
   "cell_type": "code",
   "execution_count": 110,
   "metadata": {},
   "outputs": [
    {
     "data": {
      "text/plain": [
       "{('A', 'A'): '',\n",
       " ('A', 'AB'): 'ADD B',\n",
       " ('A', 'ABC'): 'ADD C',\n",
       " ('A', 'ABCC'): 'ADD C',\n",
       " ('A', 'ABCCE'): 'ADD E',\n",
       " ('A', 'ABCCEF'): 'ADD F',\n",
       " ('AB', 'A'): 'DEL B',\n",
       " ('AB', 'AB'): '',\n",
       " ('AB', 'ABC'): 'ADD C',\n",
       " ('AB', 'ABCC'): 'ADD C',\n",
       " ('AB', 'ABCCE'): 'ADD E',\n",
       " ('AB', 'ABCCEF'): 'ADD F',\n",
       " ('ABC', 'A'): 'DEL C',\n",
       " ('ABC', 'AB'): 'DEL C',\n",
       " ('ABC', 'ABC'): '',\n",
       " ('ABC', 'ABCC'): 'ADD C',\n",
       " ('ABC', 'ABCCE'): 'ADD E',\n",
       " ('ABC', 'ABCCEF'): 'ADD F',\n",
       " ('ABCD', 'A'): 'DEL D',\n",
       " ('ABCD', 'AB'): 'DEL D',\n",
       " ('ABCD', 'ABC'): 'DEL D',\n",
       " ('ABCD', 'ABCC'): 'SUB D => C',\n",
       " ('ABCD', 'ABCCE'): 'ADD E',\n",
       " ('ABCD', 'ABCCEF'): 'ADD F',\n",
       " ('ABCDE', 'A'): 'DEL E',\n",
       " ('ABCDE', 'AB'): 'DEL E',\n",
       " ('ABCDE', 'ABC'): 'DEL E',\n",
       " ('ABCDE', 'ABCC'): 'DEL E',\n",
       " ('ABCDE', 'ABCCE'): '',\n",
       " ('ABCDE', 'ABCCEF'): 'ADD F',\n",
       " ('b', 'b'): '',\n",
       " ('b', 'bi'): 'ADD i',\n",
       " ('b', 'bie'): 'ADD e',\n",
       " ('b', 'biej'): 'ADD j',\n",
       " ('b', 'bieji'): 'ADD i',\n",
       " ('b', 'biejin'): 'ADD n',\n",
       " ('b', 'biejing'): 'ADD g',\n",
       " ('be', 'b'): 'DEL e',\n",
       " ('be', 'bi'): 'SUB e => i',\n",
       " ('be', 'bie'): '',\n",
       " ('be', 'biej'): 'ADD j',\n",
       " ('be', 'bieji'): 'ADD i',\n",
       " ('be', 'biejin'): 'ADD n',\n",
       " ('be', 'biejing'): 'ADD g',\n",
       " ('bei', 'b'): 'DEL i',\n",
       " ('bei', 'bi'): '',\n",
       " ('bei', 'bie'): 'DEL i',\n",
       " ('bei', 'biej'): 'SUB i => j',\n",
       " ('bei', 'bieji'): '',\n",
       " ('bei', 'biejin'): 'ADD n',\n",
       " ('bei', 'biejing'): 'ADD g',\n",
       " ('beij', 'b'): 'DEL j',\n",
       " ('beij', 'bi'): 'DEL j',\n",
       " ('beij', 'bie'): 'SUB j => e',\n",
       " ('beij', 'biej'): '',\n",
       " ('beij', 'bieji'): 'DEL j',\n",
       " ('beij', 'biejin'): 'SUB j => n',\n",
       " ('beij', 'biejing'): 'ADD g',\n",
       " ('beiji', 'b'): 'DEL i',\n",
       " ('beiji', 'bi'): 'DEL i',\n",
       " ('beiji', 'bie'): 'DEL i',\n",
       " ('beiji', 'biej'): 'DEL i',\n",
       " ('beiji', 'bieji'): '',\n",
       " ('beiji', 'biejin'): 'ADD n',\n",
       " ('beiji', 'biejing'): 'ADD g',\n",
       " ('beijin', 'b'): 'DEL n',\n",
       " ('beijin', 'bi'): 'DEL n',\n",
       " ('beijin', 'bie'): 'DEL n',\n",
       " ('beijin', 'biej'): 'DEL n',\n",
       " ('beijin', 'bieji'): 'DEL n',\n",
       " ('beijin', 'biejin'): '',\n",
       " ('beijin', 'biejing'): 'ADD g',\n",
       " ('beijing', 'b'): 'DEL g',\n",
       " ('beijing', 'bi'): 'DEL g',\n",
       " ('beijing', 'bie'): 'DEL g',\n",
       " ('beijing', 'biej'): 'DEL g',\n",
       " ('beijing', 'bieji'): 'DEL g',\n",
       " ('beijing', 'biejin'): 'DEL g',\n",
       " ('beijing', 'biejing'): '',\n",
       " ('1', '1'): '',\n",
       " ('1', '11'): 'ADD 1',\n",
       " ('1', '11a'): 'ADD a',\n",
       " ('1', '11ab'): 'ADD b',\n",
       " ('1', '11abc'): 'ADD c',\n",
       " ('1', '11abcd'): 'ADD d',\n",
       " ('1', '11abcd1'): 'ADD 1',\n",
       " ('1a', '1'): 'DEL a',\n",
       " ('1a', '11'): 'SUB a => 1',\n",
       " ('1a', '11a'): '',\n",
       " ('1a', '11ab'): 'ADD b',\n",
       " ('1a', '11abc'): 'ADD c',\n",
       " ('1a', '11abcd'): 'ADD d',\n",
       " ('1a', '11abcd1'): 'ADD 1',\n",
       " ('1ab', '1'): 'DEL b',\n",
       " ('1ab', '11'): 'DEL b',\n",
       " ('1ab', '11a'): 'DEL b',\n",
       " ('1ab', '11ab'): '',\n",
       " ('1ab', '11abc'): 'ADD c',\n",
       " ('1ab', '11abcd'): 'ADD d',\n",
       " ('1ab', '11abcd1'): 'ADD 1',\n",
       " ('1abc', '1'): 'DEL c',\n",
       " ('1abc', '11'): 'DEL c',\n",
       " ('1abc', '11a'): 'DEL c',\n",
       " ('1abc', '11ab'): 'DEL c',\n",
       " ('1abc', '11abc'): '',\n",
       " ('1abc', '11abcd'): 'ADD d',\n",
       " ('1abc', '11abcd1'): 'ADD 1',\n",
       " ('1abcd', '1'): 'DEL d',\n",
       " ('1abcd', '11'): 'DEL d',\n",
       " ('1abcd', '11a'): 'DEL d',\n",
       " ('1abcd', '11ab'): 'DEL d',\n",
       " ('1abcd', '11abc'): 'DEL d',\n",
       " ('1abcd', '11abcd'): '',\n",
       " ('1abcd', '11abcd1'): 'ADD 1',\n",
       " ('1abcd1', '1'): 'DEL 1',\n",
       " ('1abcd1', '11'): '',\n",
       " ('1abcd1', '11a'): 'DEL 1',\n",
       " ('1abcd1', '11ab'): 'DEL 1',\n",
       " ('1abcd1', '11abc'): 'DEL 1',\n",
       " ('1abcd1', '11abcd'): 'DEL 1',\n",
       " ('1abcd1', '11abcd1'): '',\n",
       " ('1abcd11', '1'): 'DEL 1',\n",
       " ('1abcd11', '11'): 'DEL 1',\n",
       " ('1abcd11', '11a'): 'SUB 1 => a',\n",
       " ('1abcd11', '11ab'): 'DEL 1',\n",
       " ('1abcd11', '11abc'): 'DEL 1',\n",
       " ('1abcd11', '11abcd'): 'DEL 1',\n",
       " ('1abcd11', '11abcd1'): 'DEL 1',\n",
       " ('A', 'B'): 'SUB A => B',\n",
       " ('1', '11B'): 'ADD B',\n",
       " ('11', '1'): 'DEL 1',\n",
       " ('11', '11'): '',\n",
       " ('11', '11B'): 'ADD B',\n",
       " ('11A', '1'): 'DEL A',\n",
       " ('11A', '11'): 'DEL A',\n",
       " ('11A', '11B'): 'SUB A => B',\n",
       " ('1', '1B'): 'ADD B',\n",
       " ('1', '1B1'): 'ADD 1',\n",
       " ('1A', '1'): 'DEL A',\n",
       " ('1A', '1B'): 'SUB A => B',\n",
       " ('1A', '1B1'): 'ADD 1',\n",
       " ('1A1', '1'): 'DEL 1',\n",
       " ('1A1', '1B'): 'DEL 1',\n",
       " ('1A1', '1B1'): ''}"
      ]
     },
     "execution_count": 110,
     "metadata": {},
     "output_type": "execute_result"
    }
   ],
   "source": [
    "solution"
   ]
  },
  {
   "cell_type": "code",
   "execution_count": 111,
   "metadata": {},
   "outputs": [
    {
     "data": {
      "text/plain": [
       "4"
      ]
     },
     "execution_count": 111,
     "metadata": {},
     "output_type": "execute_result"
    }
   ],
   "source": [
    "edit_distance('5678', '')"
   ]
  },
  {
   "cell_type": "code",
   "execution_count": 112,
   "metadata": {},
   "outputs": [
    {
     "data": {
      "text/plain": [
       "{('A', 'A'): '',\n",
       " ('A', 'AB'): 'ADD B',\n",
       " ('A', 'ABC'): 'ADD C',\n",
       " ('A', 'ABCC'): 'ADD C',\n",
       " ('A', 'ABCCE'): 'ADD E',\n",
       " ('A', 'ABCCEF'): 'ADD F',\n",
       " ('AB', 'A'): 'DEL B',\n",
       " ('AB', 'AB'): '',\n",
       " ('AB', 'ABC'): 'ADD C',\n",
       " ('AB', 'ABCC'): 'ADD C',\n",
       " ('AB', 'ABCCE'): 'ADD E',\n",
       " ('AB', 'ABCCEF'): 'ADD F',\n",
       " ('ABC', 'A'): 'DEL C',\n",
       " ('ABC', 'AB'): 'DEL C',\n",
       " ('ABC', 'ABC'): '',\n",
       " ('ABC', 'ABCC'): 'ADD C',\n",
       " ('ABC', 'ABCCE'): 'ADD E',\n",
       " ('ABC', 'ABCCEF'): 'ADD F',\n",
       " ('ABCD', 'A'): 'DEL D',\n",
       " ('ABCD', 'AB'): 'DEL D',\n",
       " ('ABCD', 'ABC'): 'DEL D',\n",
       " ('ABCD', 'ABCC'): 'SUB D => C',\n",
       " ('ABCD', 'ABCCE'): 'ADD E',\n",
       " ('ABCD', 'ABCCEF'): 'ADD F',\n",
       " ('ABCDE', 'A'): 'DEL E',\n",
       " ('ABCDE', 'AB'): 'DEL E',\n",
       " ('ABCDE', 'ABC'): 'DEL E',\n",
       " ('ABCDE', 'ABCC'): 'DEL E',\n",
       " ('ABCDE', 'ABCCE'): '',\n",
       " ('ABCDE', 'ABCCEF'): 'ADD F',\n",
       " ('b', 'b'): '',\n",
       " ('b', 'bi'): 'ADD i',\n",
       " ('b', 'bie'): 'ADD e',\n",
       " ('b', 'biej'): 'ADD j',\n",
       " ('b', 'bieji'): 'ADD i',\n",
       " ('b', 'biejin'): 'ADD n',\n",
       " ('b', 'biejing'): 'ADD g',\n",
       " ('be', 'b'): 'DEL e',\n",
       " ('be', 'bi'): 'SUB e => i',\n",
       " ('be', 'bie'): '',\n",
       " ('be', 'biej'): 'ADD j',\n",
       " ('be', 'bieji'): 'ADD i',\n",
       " ('be', 'biejin'): 'ADD n',\n",
       " ('be', 'biejing'): 'ADD g',\n",
       " ('bei', 'b'): 'DEL i',\n",
       " ('bei', 'bi'): '',\n",
       " ('bei', 'bie'): 'DEL i',\n",
       " ('bei', 'biej'): 'SUB i => j',\n",
       " ('bei', 'bieji'): '',\n",
       " ('bei', 'biejin'): 'ADD n',\n",
       " ('bei', 'biejing'): 'ADD g',\n",
       " ('beij', 'b'): 'DEL j',\n",
       " ('beij', 'bi'): 'DEL j',\n",
       " ('beij', 'bie'): 'SUB j => e',\n",
       " ('beij', 'biej'): '',\n",
       " ('beij', 'bieji'): 'DEL j',\n",
       " ('beij', 'biejin'): 'SUB j => n',\n",
       " ('beij', 'biejing'): 'ADD g',\n",
       " ('beiji', 'b'): 'DEL i',\n",
       " ('beiji', 'bi'): 'DEL i',\n",
       " ('beiji', 'bie'): 'DEL i',\n",
       " ('beiji', 'biej'): 'DEL i',\n",
       " ('beiji', 'bieji'): '',\n",
       " ('beiji', 'biejin'): 'ADD n',\n",
       " ('beiji', 'biejing'): 'ADD g',\n",
       " ('beijin', 'b'): 'DEL n',\n",
       " ('beijin', 'bi'): 'DEL n',\n",
       " ('beijin', 'bie'): 'DEL n',\n",
       " ('beijin', 'biej'): 'DEL n',\n",
       " ('beijin', 'bieji'): 'DEL n',\n",
       " ('beijin', 'biejin'): '',\n",
       " ('beijin', 'biejing'): 'ADD g',\n",
       " ('beijing', 'b'): 'DEL g',\n",
       " ('beijing', 'bi'): 'DEL g',\n",
       " ('beijing', 'bie'): 'DEL g',\n",
       " ('beijing', 'biej'): 'DEL g',\n",
       " ('beijing', 'bieji'): 'DEL g',\n",
       " ('beijing', 'biejin'): 'DEL g',\n",
       " ('beijing', 'biejing'): '',\n",
       " ('1', '1'): '',\n",
       " ('1', '11'): 'ADD 1',\n",
       " ('1', '11a'): 'ADD a',\n",
       " ('1', '11ab'): 'ADD b',\n",
       " ('1', '11abc'): 'ADD c',\n",
       " ('1', '11abcd'): 'ADD d',\n",
       " ('1', '11abcd1'): 'ADD 1',\n",
       " ('1a', '1'): 'DEL a',\n",
       " ('1a', '11'): 'SUB a => 1',\n",
       " ('1a', '11a'): '',\n",
       " ('1a', '11ab'): 'ADD b',\n",
       " ('1a', '11abc'): 'ADD c',\n",
       " ('1a', '11abcd'): 'ADD d',\n",
       " ('1a', '11abcd1'): 'ADD 1',\n",
       " ('1ab', '1'): 'DEL b',\n",
       " ('1ab', '11'): 'DEL b',\n",
       " ('1ab', '11a'): 'DEL b',\n",
       " ('1ab', '11ab'): '',\n",
       " ('1ab', '11abc'): 'ADD c',\n",
       " ('1ab', '11abcd'): 'ADD d',\n",
       " ('1ab', '11abcd1'): 'ADD 1',\n",
       " ('1abc', '1'): 'DEL c',\n",
       " ('1abc', '11'): 'DEL c',\n",
       " ('1abc', '11a'): 'DEL c',\n",
       " ('1abc', '11ab'): 'DEL c',\n",
       " ('1abc', '11abc'): '',\n",
       " ('1abc', '11abcd'): 'ADD d',\n",
       " ('1abc', '11abcd1'): 'ADD 1',\n",
       " ('1abcd', '1'): 'DEL d',\n",
       " ('1abcd', '11'): 'DEL d',\n",
       " ('1abcd', '11a'): 'DEL d',\n",
       " ('1abcd', '11ab'): 'DEL d',\n",
       " ('1abcd', '11abc'): 'DEL d',\n",
       " ('1abcd', '11abcd'): '',\n",
       " ('1abcd', '11abcd1'): 'ADD 1',\n",
       " ('1abcd1', '1'): 'DEL 1',\n",
       " ('1abcd1', '11'): '',\n",
       " ('1abcd1', '11a'): 'DEL 1',\n",
       " ('1abcd1', '11ab'): 'DEL 1',\n",
       " ('1abcd1', '11abc'): 'DEL 1',\n",
       " ('1abcd1', '11abcd'): 'DEL 1',\n",
       " ('1abcd1', '11abcd1'): '',\n",
       " ('1abcd11', '1'): 'DEL 1',\n",
       " ('1abcd11', '11'): 'DEL 1',\n",
       " ('1abcd11', '11a'): 'SUB 1 => a',\n",
       " ('1abcd11', '11ab'): 'DEL 1',\n",
       " ('1abcd11', '11abc'): 'DEL 1',\n",
       " ('1abcd11', '11abcd'): 'DEL 1',\n",
       " ('1abcd11', '11abcd1'): 'DEL 1',\n",
       " ('A', 'B'): 'SUB A => B',\n",
       " ('1', '11B'): 'ADD B',\n",
       " ('11', '1'): 'DEL 1',\n",
       " ('11', '11'): '',\n",
       " ('11', '11B'): 'ADD B',\n",
       " ('11A', '1'): 'DEL A',\n",
       " ('11A', '11'): 'DEL A',\n",
       " ('11A', '11B'): 'SUB A => B',\n",
       " ('1', '1B'): 'ADD B',\n",
       " ('1', '1B1'): 'ADD 1',\n",
       " ('1A', '1'): 'DEL A',\n",
       " ('1A', '1B'): 'SUB A => B',\n",
       " ('1A', '1B1'): 'ADD 1',\n",
       " ('1A1', '1'): 'DEL 1',\n",
       " ('1A1', '1B'): 'DEL 1',\n",
       " ('1A1', '1B1'): ''}"
      ]
     },
     "execution_count": 112,
     "metadata": {},
     "output_type": "execute_result"
    }
   ],
   "source": [
    "solution"
   ]
  },
  {
   "cell_type": "markdown",
   "metadata": {},
   "source": [
    "### 课后作业1：解析编辑方法"
   ]
  },
  {
   "cell_type": "code",
   "execution_count": 117,
   "metadata": {},
   "outputs": [],
   "source": [
    "def parse_editting_method(X, Y):\n",
    "    '''\n",
    "    分析一下：\n",
    "    -1. 如果X, Y 都为空，那么返回None\n",
    "    0. 如果X, Y其中有一个为 '': 那么返回一个操作，然后尝试返回parse(X[:-1], Y[:-1])\n",
    "    1. 如果X，Y找到的答案是 '': 那么就尝试返回parse(X[:-1], Y[:-1])，如果报\n",
    "    2. 如果X，Y找到的答案是 'SUB ...': 那么就返回替换操作，然后返回parse(X[:-1], Y[:-1])\n",
    "    3. 如果X，Y找到的答案是 'ADD...' or 'DEL...'，那么就做相应操作，然后返回parse(X+操作, Y)\n",
    "    '''\n",
    "    if X == Y: return []\n",
    "    if X == '' and Y == '': return []\n",
    "    if X == '': return [\"ADD {}\".format(Y[-1])] + parse_editting_method(X[:-1], Y[:-1])\n",
    "    if Y == '': return [\"DEL {}\".format(X[-1])] + parse_editting_method(X[:-1], Y[:-1])\n",
    "    if solution[(X, Y)] == '': return parse_editting_method(X[:-1], Y[:-1])\n",
    "    if solution[(X, Y)].split()[0] == 'SUB': return [solution[(X, Y)]] + parse_editting_method(X[:-1], Y[:-1])\n",
    "    if solution[(X, Y)].split()[0] == 'ADD': return [solution[(X, Y)]] + parse_editting_method(X+solution[(X, Y)].split()[1], Y)\n",
    "    if solution[(X, Y)].split()[0] == 'DEL': return [solution[(X, Y)]] + parse_editting_method(X[:-1], Y)"
   ]
  },
  {
   "cell_type": "code",
   "execution_count": 118,
   "metadata": {},
   "outputs": [
    {
     "data": {
      "text/plain": [
       "['SUB A => B']"
      ]
     },
     "execution_count": 118,
     "metadata": {},
     "output_type": "execute_result"
    }
   ],
   "source": [
    "parse_editting_method('A', 'B')"
   ]
  },
  {
   "cell_type": "code",
   "execution_count": 119,
   "metadata": {},
   "outputs": [
    {
     "data": {
      "text/plain": [
       "['DEL i', 'ADD i']"
      ]
     },
     "execution_count": 119,
     "metadata": {},
     "output_type": "execute_result"
    }
   ],
   "source": [
    "parse_editting_method('beijing', 'biejing')"
   ]
  },
  {
   "cell_type": "code",
   "execution_count": 120,
   "metadata": {},
   "outputs": [
    {
     "data": {
      "text/plain": [
       "['DEL 1', 'ADD 1']"
      ]
     },
     "execution_count": 120,
     "metadata": {},
     "output_type": "execute_result"
    }
   ],
   "source": [
    "parse_editting_method(\"1abcd11\", \"11abcd1\")"
   ]
  },
  {
   "cell_type": "code",
   "execution_count": 121,
   "metadata": {},
   "outputs": [
    {
     "data": {
      "text/plain": [
       "['DEL d', 'DEL c', 'DEL b', 'DEL a']"
      ]
     },
     "execution_count": 121,
     "metadata": {},
     "output_type": "execute_result"
    }
   ],
   "source": [
    "parse_editting_method(\"abcd\", \"\")"
   ]
  },
  {
   "cell_type": "code",
   "execution_count": 122,
   "metadata": {},
   "outputs": [
    {
     "data": {
      "text/plain": [
       "['ADD d', 'ADD c', 'ADD b', 'ADD a']"
      ]
     },
     "execution_count": 122,
     "metadata": {},
     "output_type": "execute_result"
    }
   ],
   "source": [
    "parse_editting_method(\"\", \"abcd\")"
   ]
  },
  {
   "cell_type": "code",
   "execution_count": 130,
   "metadata": {},
   "outputs": [
    {
     "data": {
      "text/plain": [
       "['ADD d', 'ADD c', 'ADD b', 'ADD a']"
      ]
     },
     "execution_count": 130,
     "metadata": {},
     "output_type": "execute_result"
    }
   ],
   "source": [
    "parse_editting_method(\"\", \"abcd\")"
   ]
  },
  {
   "cell_type": "markdown",
   "metadata": {},
   "source": [
    "### 课后作业2：拼音自动纠错"
   ]
  },
  {
   "cell_type": "code",
   "execution_count": 131,
   "metadata": {},
   "outputs": [],
   "source": [
    "import pinyin"
   ]
  },
  {
   "cell_type": "code",
   "execution_count": 132,
   "metadata": {},
   "outputs": [],
   "source": [
    "CHN_CHAR_SET = open(\"article_9k.txt\", encoding='utf-8').read()"
   ]
  },
  {
   "cell_type": "code",
   "execution_count": 134,
   "metadata": {},
   "outputs": [
    {
     "data": {
      "text/plain": [
       "'此外自本周6月12日起除小米手机6等15款机型外其余机型已暂停更新发布含开发版体验版内测稳定版暂不受影响以确保工程师可以集中全部精力进行系统优化工作有人猜测这也是将精力主要用到MIUI9的研发之中MIUI8去年5月发布距今已有一年有余也是时候更新换代了当然关于MIUI9的确切信息我们还是等待官方消息\\n骁龙835作为唯一通过Windows10桌面平台认证的ARM处理器高通强调不会因为只考虑性能而去屏蔽掉小核心相反他们正联手微软找到一种适合桌面平台的兼顾性能和功耗的完美方案报道称微软已经拿到了一些新的源码以便Windows10更好地理解biglittle架构资料显示骁龙835作为一款集成了CPUGPU基带蓝牙WiFi的SoC比传统的Wintel方案可以节省至少30的PCB空间按计划今年Q4华硕惠普联想将首发骁龙835Win10电脑预计均是二合一形态的产品当然高通骁龙只是个开始未来也许还能见到三星Exynos联发科华为麒麟小米澎湃等进入Windows10桌面平台\\n此前的一加3T搭载的是3400mAh电池DashCharge快充规格为5V4A至于电池缩水可能与刘作虎所说一加手机5要做市面最轻薄大屏旗舰的设定有关按照目前掌握的资料一加手机5拥有55寸1080P三星AMOLED显示屏6G8GBRAM64GB128GBROM双1600万摄像头备货量惊喜根据京东泄露的信息一加5起售价是xx99元应该是在279928992999中的某个\\n这是6月18日在葡萄牙中部大佩德罗冈地区拍摄的被森林大火烧毁的汽车新华社记者张立云摄\\n原标题44岁女子跑深圳约会网友被拒暴雨中裸身奔走深圳交警微博称昨日清晨交警发现有一女子赤裸上身行走在南坪快速上期间还起了轻生年头一辅警发现后赶紧为其披上黄衣并一路劝说她那么事发时到底都发生了些什么呢南都记者带您一起还原现场南都记者在龙岗大队坂田中队见到了辅警刘青发现女生的辅警一位外表高大帅气说话略带些腼腆的90后青年刘青介绍6月16日早上7时36分他正在环城南路附近值勤接到中队关于一位女子裸身进入机动车可能有危险的警情随后骑着小铁骑开始沿路寻找大概花了十多分钟在南坪大道坂田出口往龙岗方向的逆行辅道上发现该女子女子身上一丝不挂地逆车流而行时走时停时坐时躺险象环生刘青停好小铁骑和另外一名巡防员追了上去发现女子的情绪很低落话不多刘青尝试和女子交流劝说女子离开可女子并不愿意'"
      ]
     },
     "execution_count": 134,
     "metadata": {},
     "output_type": "execute_result"
    }
   ],
   "source": [
    "CHN_CHAR_SET[:1000]"
   ]
  },
  {
   "cell_type": "code",
   "execution_count": 139,
   "metadata": {},
   "outputs": [],
   "source": [
    "def chn_to_py(character):\n",
    "    return pinyin.get(character, format='strip', delimiter=' ')"
   ]
  },
  {
   "cell_type": "code",
   "execution_count": 140,
   "metadata": {},
   "outputs": [
    {
     "data": {
      "text/plain": [
       "'wo shi shui'"
      ]
     },
     "execution_count": 140,
     "metadata": {},
     "output_type": "execute_result"
    }
   ],
   "source": [
    "chn_to_py(\"我是谁\")"
   ]
  },
  {
   "cell_type": "code",
   "execution_count": 141,
   "metadata": {},
   "outputs": [],
   "source": [
    "CHN_PY_SET = chn_to_py(CHN_CHAR_SET)"
   ]
  },
  {
   "cell_type": "code",
   "execution_count": 142,
   "metadata": {},
   "outputs": [
    {
     "data": {
      "text/plain": [
       "129433034"
      ]
     },
     "execution_count": 142,
     "metadata": {},
     "output_type": "execute_result"
    }
   ],
   "source": [
    "len(CHN_PY_SET)"
   ]
  },
  {
   "cell_type": "code",
   "execution_count": 144,
   "metadata": {},
   "outputs": [],
   "source": [
    "import re\n",
    "def token(text):\n",
    "    return re.findall('[a-z]+', text.lower())"
   ]
  },
  {
   "cell_type": "code",
   "execution_count": 145,
   "metadata": {},
   "outputs": [
    {
     "data": {
      "text/plain": [
       "['ci',\n",
       " 'wai',\n",
       " 'zi',\n",
       " 'ben',\n",
       " 'zhou',\n",
       " 'yue',\n",
       " 'ri',\n",
       " 'qi',\n",
       " 'chu',\n",
       " 'xiao',\n",
       " 'mi',\n",
       " 'shou',\n",
       " 'ji',\n",
       " 'deng',\n",
       " 'kuan',\n",
       " 'ji',\n",
       " 'xing',\n",
       " 'wai',\n",
       " 'qi',\n",
       " 'yu',\n",
       " 'ji',\n",
       " 'xing',\n",
       " 'yi']"
      ]
     },
     "execution_count": 145,
     "metadata": {},
     "output_type": "execute_result"
    }
   ],
   "source": [
    "token(CHN_PY_SET[:100])"
   ]
  },
  {
   "cell_type": "code",
   "execution_count": 146,
   "metadata": {},
   "outputs": [],
   "source": [
    "from collections import Counter, defaultdict"
   ]
  },
  {
   "cell_type": "code",
   "execution_count": 147,
   "metadata": {},
   "outputs": [],
   "source": [
    "PINYIN_COUNT = Counter(token(CHN_PY_SET))"
   ]
  },
  {
   "cell_type": "code",
   "execution_count": 148,
   "metadata": {},
   "outputs": [
    {
     "data": {
      "text/plain": [
       "Counter({'ci': 95927,\n",
       "         'wai': 131353,\n",
       "         'zi': 192620,\n",
       "         'ben': 55466,\n",
       "         'zhou': 80326,\n",
       "         'yue': 258519,\n",
       "         'ri': 278379,\n",
       "         'qi': 251164,\n",
       "         'chu': 156005,\n",
       "         'xiao': 126736,\n",
       "         'mi': 40857,\n",
       "         'shou': 175635,\n",
       "         'ji': 645276,\n",
       "         'deng': 77672,\n",
       "         'kuan': 13631,\n",
       "         'xing': 241741,\n",
       "         'yu': 302949,\n",
       "         'yi': 682478,\n",
       "         'zan': 6671,\n",
       "         'ting': 31732,\n",
       "         'geng': 35528,\n",
       "         'xin': 359619,\n",
       "         'fa': 233137,\n",
       "         'bu': 281533,\n",
       "         'han': 39849,\n",
       "         'kai': 94310,\n",
       "         'ban': 83215,\n",
       "         'ti': 176853,\n",
       "         'yan': 125085,\n",
       "         'nei': 55595,\n",
       "         'ce': 30897,\n",
       "         'wen': 121636,\n",
       "         'ding': 60586,\n",
       "         'ying': 140068,\n",
       "         'xiang': 196711,\n",
       "         'que': 26243,\n",
       "         'bao': 132256,\n",
       "         'gong': 259593,\n",
       "         'cheng': 210265,\n",
       "         'shi': 860634,\n",
       "         'ke': 173705,\n",
       "         'zhong': 409418,\n",
       "         'quan': 122983,\n",
       "         'jing': 220462,\n",
       "         'li': 355441,\n",
       "         'jin': 278141,\n",
       "         'xi': 217848,\n",
       "         'tong': 166443,\n",
       "         'you': 277726,\n",
       "         'hua': 304941,\n",
       "         'zuo': 143828,\n",
       "         'ren': 257321,\n",
       "         'cai': 61649,\n",
       "         'zhe': 205224,\n",
       "         'ye': 197406,\n",
       "         'jiang': 139873,\n",
       "         'zhu': 191577,\n",
       "         'yao': 113571,\n",
       "         'yong': 84428,\n",
       "         'dao': 167050,\n",
       "         'm': 9553,\n",
       "         'i': 18582,\n",
       "         'u': 5749,\n",
       "         'de': 809887,\n",
       "         'zhi': 398612,\n",
       "         'qu': 134248,\n",
       "         'nian': 231398,\n",
       "         'ju': 173114,\n",
       "         'hou': 81943,\n",
       "         'huan': 85167,\n",
       "         'dai': 171074,\n",
       "         'le': 166313,\n",
       "         'dang': 97034,\n",
       "         'ran': 31255,\n",
       "         'guan': 164991,\n",
       "         'qie': 19339,\n",
       "         'wo': 64661,\n",
       "         'men': 85361,\n",
       "         'fang': 161433,\n",
       "         'long': 24681,\n",
       "         'wei': 326301,\n",
       "         'guo': 430042,\n",
       "         'w': 3392,\n",
       "         'n': 691114,\n",
       "         'd': 7013,\n",
       "         'o': 15167,\n",
       "         's': 11952,\n",
       "         'zhuo': 3423,\n",
       "         'mian': 63247,\n",
       "         'ping': 79401,\n",
       "         'tai': 76995,\n",
       "         'zheng': 160688,\n",
       "         'a': 56097,\n",
       "         'r': 9789,\n",
       "         'gao': 103450,\n",
       "         'qiang': 49757,\n",
       "         'diao': 33303,\n",
       "         'hui': 187634,\n",
       "         'yin': 91363,\n",
       "         'kao': 23915,\n",
       "         'lv': 58491,\n",
       "         'neng': 73153,\n",
       "         'er': 208539,\n",
       "         'bi': 131887,\n",
       "         'he': 285689,\n",
       "         'fan': 56555,\n",
       "         'ta': 94143,\n",
       "         'lian': 102755,\n",
       "         'ruan': 3579,\n",
       "         'zhao': 125457,\n",
       "         'jian': 248173,\n",
       "         'gu': 71739,\n",
       "         'hao': 64391,\n",
       "         'wan': 97245,\n",
       "         'mei': 145101,\n",
       "         'an': 90356,\n",
       "         'na': 50163,\n",
       "         'xie': 70147,\n",
       "         'yuan': 248823,\n",
       "         'ma': 61893,\n",
       "         'bian': 55446,\n",
       "         'di': 221266,\n",
       "         'jie': 208675,\n",
       "         'b': 11759,\n",
       "         'g': 6150,\n",
       "         'l': 6926,\n",
       "         't': 11825,\n",
       "         'e': 47625,\n",
       "         'jia': 239795,\n",
       "         'gou': 43841,\n",
       "         'liao': 23609,\n",
       "         'xian': 269047,\n",
       "         'c': 15442,\n",
       "         'p': 12319,\n",
       "         'lan': 49977,\n",
       "         'ya': 77529,\n",
       "         'f': 4848,\n",
       "         'chuan': 45328,\n",
       "         'sheng': 211580,\n",
       "         'shao': 34721,\n",
       "         'kong': 44384,\n",
       "         'q': 854,\n",
       "         'shuo': 58205,\n",
       "         'pu': 35531,\n",
       "         'dian': 125203,\n",
       "         'nao': 5209,\n",
       "         'jun': 55519,\n",
       "         'chan': 67157,\n",
       "         'pin': 72590,\n",
       "         'ge': 191779,\n",
       "         'lai': 104997,\n",
       "         'xu': 81654,\n",
       "         'san': 42992,\n",
       "         'x': 2464,\n",
       "         'y': 2408,\n",
       "         'lin': 34671,\n",
       "         'peng': 13337,\n",
       "         'pai': 42251,\n",
       "         'ru': 77086,\n",
       "         'qian': 107612,\n",
       "         'da': 247785,\n",
       "         'zai': 334106,\n",
       "         'h': 7299,\n",
       "         'chi': 48563,\n",
       "         'kuai': 22115,\n",
       "         'chong': 16869,\n",
       "         'gui': 51986,\n",
       "         'v': 2696,\n",
       "         'suo': 47392,\n",
       "         'shui': 50990,\n",
       "         'liu': 54770,\n",
       "         'hu': 88138,\n",
       "         'zui': 52532,\n",
       "         'qing': 95699,\n",
       "         'bo': 54349,\n",
       "         'she': 293312,\n",
       "         'mu': 98791,\n",
       "         'zhang': 54556,\n",
       "         'cun': 39815,\n",
       "         'shuang': 18391,\n",
       "         'tou': 62353,\n",
       "         'bei': 133864,\n",
       "         'huo': 105711,\n",
       "         'liang': 101795,\n",
       "         'gen': 18393,\n",
       "         'dong': 142750,\n",
       "         'lu': 103611,\n",
       "         'gai': 54883,\n",
       "         'mou': 11153,\n",
       "         'tao': 23543,\n",
       "         'pei': 24575,\n",
       "         'luo': 70710,\n",
       "         'gang': 42651,\n",
       "         'sen': 9157,\n",
       "         'che': 51184,\n",
       "         'yun': 47373,\n",
       "         'biao': 87671,\n",
       "         'sui': 31407,\n",
       "         'nv': 24378,\n",
       "         'pao': 9251,\n",
       "         'shen': 82053,\n",
       "         'zhen': 52175,\n",
       "         'wang': 106302,\n",
       "         'zou': 20935,\n",
       "         'jiao': 114201,\n",
       "         'chen': 22240,\n",
       "         'shang': 178941,\n",
       "         'nan': 73866,\n",
       "         'su': 56942,\n",
       "         'fu': 194850,\n",
       "         'gan': 40076,\n",
       "         'pi': 22168,\n",
       "         'huang': 23291,\n",
       "         'bing': 62256,\n",
       "         'du': 125547,\n",
       "         'ni': 41237,\n",
       "         'nin': 737,\n",
       "         'chang': 193611,\n",
       "         'dui': 182885,\n",
       "         'tian': 64685,\n",
       "         'shuai': 3948,\n",
       "         'lve': 9851,\n",
       "         'zao': 45572,\n",
       "         'fen': 105101,\n",
       "         'qin': 18027,\n",
       "         'tie': 18972,\n",
       "         'xun': 38827,\n",
       "         'duo': 94887,\n",
       "         'kou': 24597,\n",
       "         'si': 175066,\n",
       "         'gua': 5745,\n",
       "         'tang': 13190,\n",
       "         'ling': 58903,\n",
       "         'ming': 101077,\n",
       "         'zhui': 6638,\n",
       "         'hen': 21310,\n",
       "         'man': 29201,\n",
       "         'min': 75446,\n",
       "         'qun': 14543,\n",
       "         'cong': 43473,\n",
       "         'xue': 90928,\n",
       "         'bai': 39411,\n",
       "         'se': 19140,\n",
       "         'ku': 14978,\n",
       "         'feng': 50140,\n",
       "         'zu': 89641,\n",
       "         'dan': 85678,\n",
       "         'xia': 76389,\n",
       "         'kan': 30486,\n",
       "         'yang': 79502,\n",
       "         'kuang': 19987,\n",
       "         'pa': 5395,\n",
       "         'bie': 18958,\n",
       "         'niu': 13444,\n",
       "         'jue': 49487,\n",
       "         'ga': 649,\n",
       "         'rang': 22941,\n",
       "         'tu': 58771,\n",
       "         'tiao': 24246,\n",
       "         'mang': 4776,\n",
       "         'la': 48821,\n",
       "         'ai': 28530,\n",
       "         'ba': 68917,\n",
       "         'reng': 8160,\n",
       "         'nai': 6184,\n",
       "         'duan': 43754,\n",
       "         'tuo': 23502,\n",
       "         'jiu': 92105,\n",
       "         'shun': 6373,\n",
       "         'bang': 16868,\n",
       "         'mao': 28512,\n",
       "         'pian': 74571,\n",
       "         'pang': 8421,\n",
       "         'niang': 1904,\n",
       "         'shu': 110081,\n",
       "         'lao': 29267,\n",
       "         'cuo': 10467,\n",
       "         'song': 19461,\n",
       "         'kang': 14053,\n",
       "         'shan': 54211,\n",
       "         'nuan': 2504,\n",
       "         'z': 909,\n",
       "         'piao': 12301,\n",
       "         'lang': 19944,\n",
       "         'sa': 11606,\n",
       "         'mo': 49000,\n",
       "         'dun': 19333,\n",
       "         'cha': 48661,\n",
       "         'j': 1181,\n",
       "         'hai': 77075,\n",
       "         'wu': 194660,\n",
       "         'huai': 6450,\n",
       "         'guai': 1021,\n",
       "         'rong': 38777,\n",
       "         'pan': 18978,\n",
       "         'hong': 24568,\n",
       "         'zhuang': 43810,\n",
       "         'xiu': 25777,\n",
       "         'fei': 69077,\n",
       "         'chao': 31798,\n",
       "         'die': 9410,\n",
       "         'xuan': 63887,\n",
       "         'zhan': 155206,\n",
       "         'tuan': 24587,\n",
       "         'zeng': 33555,\n",
       "         'guang': 47297,\n",
       "         're': 14518,\n",
       "         'teng': 3659,\n",
       "         'nuo': 13496,\n",
       "         'qiao': 12691,\n",
       "         'po': 20933,\n",
       "         'tui': 39023,\n",
       "         'zen': 2746,\n",
       "         'k': 2860,\n",
       "         'qiu': 129226,\n",
       "         'chuai': 161,\n",
       "         'sha': 22362,\n",
       "         'xiong': 11973,\n",
       "         'chou': 10792,\n",
       "         'hei': 8962,\n",
       "         'lei': 34697,\n",
       "         'hang': 24149,\n",
       "         'zong': 61540,\n",
       "         'zhai': 15281,\n",
       "         'zhun': 19159,\n",
       "         'lou': 7060,\n",
       "         'cao': 12233,\n",
       "         'suan': 9509,\n",
       "         'zhuan': 50099,\n",
       "         'chuang': 40373,\n",
       "         'ruo': 5375,\n",
       "         'ze': 37238,\n",
       "         'cui': 3759,\n",
       "         'luan': 3281,\n",
       "         'lun': 47136,\n",
       "         'mai': 23530,\n",
       "         'beng': 846,\n",
       "         'cu': 9712,\n",
       "         'fou': 5574,\n",
       "         'ao': 26680,\n",
       "         'tan': 41650,\n",
       "         'shua': 1871,\n",
       "         'heng': 8216,\n",
       "         'gei': 17653,\n",
       "         'chun': 14420,\n",
       "         'run': 2850,\n",
       "         'cang': 9186,\n",
       "         'zhua': 6147,\n",
       "         'kua': 5927,\n",
       "         'hun': 9059,\n",
       "         'ou': 35066,\n",
       "         'bin': 10709,\n",
       "         'ceng': 19486,\n",
       "         'zha': 12523,\n",
       "         'ne': 567,\n",
       "         'qia': 20841,\n",
       "         'te': 64610,\n",
       "         'sun': 8415,\n",
       "         'sao': 3887,\n",
       "         'rao': 4722,\n",
       "         'keng': 785,\n",
       "         'meng': 30042,\n",
       "         'ka': 3334,\n",
       "         'ca': 522,\n",
       "         'nong': 25686,\n",
       "         'chai': 2512,\n",
       "         'kuo': 15644,\n",
       "         'ning': 12436,\n",
       "         'chui': 1747,\n",
       "         'en': 5109,\n",
       "         'can': 39732,\n",
       "         'lie': 24859,\n",
       "         'leng': 3030,\n",
       "         'miao': 8525,\n",
       "         'nu': 6476,\n",
       "         'za': 3646,\n",
       "         'dou': 8805,\n",
       "         'zun': 3286,\n",
       "         'sai': 158317,\n",
       "         'kun': 13378,\n",
       "         'sang': 3927,\n",
       "         'sou': 1795,\n",
       "         'ha': 11032,\n",
       "         'rui': 8843,\n",
       "         'wa': 14877,\n",
       "         'shai': 1172,\n",
       "         'gun': 1171,\n",
       "         'fo': 2970,\n",
       "         'diu': 843,\n",
       "         'juan': 5569,\n",
       "         'nie': 1358,\n",
       "         'cou': 197,\n",
       "         'ken': 4838,\n",
       "         'kui': 2256,\n",
       "         'niao': 2981,\n",
       "         'rou': 3992,\n",
       "         'miu': 40,\n",
       "         'qiong': 2279,\n",
       "         'weng': 966,\n",
       "         'mie': 1117,\n",
       "         'nang': 580,\n",
       "         'pen': 2318,\n",
       "         'zuan': 1616,\n",
       "         'zang': 3421,\n",
       "         'ang': 3089,\n",
       "         'lia': 539,\n",
       "         'zei': 74,\n",
       "         'jiong': 213,\n",
       "         'nve': 612,\n",
       "         'cuan': 207,\n",
       "         'tun': 1824,\n",
       "         'yo': 14,\n",
       "         'chuo': 242,\n",
       "         'pie': 151,\n",
       "         'pou': 204,\n",
       "         'shuan': 171,\n",
       "         'nen': 933,\n",
       "         'seng': 211,\n",
       "         'cen': 259,\n",
       "         'dia': 34})"
      ]
     },
     "execution_count": 148,
     "metadata": {},
     "output_type": "execute_result"
    }
   ],
   "source": [
    "PINYIN_COUNT"
   ]
  },
  {
   "cell_type": "code",
   "execution_count": 191,
   "metadata": {},
   "outputs": [],
   "source": [
    "def correct_pinyin(word):\n",
    "    candidates = (known(edits0(word)) or \n",
    "                 known(edits1(word)) or\n",
    "                 known(edits2(word)) or\n",
    "                 [word])\n",
    "                \n",
    "    return max(candidates, key=lambda x: PINYIN_COUNT.get(x))"
   ]
  },
  {
   "cell_type": "code",
   "execution_count": 178,
   "metadata": {},
   "outputs": [],
   "source": [
    "def known(words):\n",
    "    '''\n",
    "    判断某个近词是否在list中\n",
    "    '''\n",
    "    return [w for w in words if w in PINYIN_COUNT]\n",
    "    \n",
    "def edits0(word):\n",
    "    return [word]\n",
    "\n",
    "def edits2(word):\n",
    "    '''编辑距离为2的词，就是所有那些与目标词编辑距离为1的词 编辑距离为1的词'''\n",
    "    return [e2 for e1 in edits1(word) for e2 in edits1(e1)]"
   ]
  },
  {
   "cell_type": "code",
   "execution_count": 161,
   "metadata": {},
   "outputs": [],
   "source": [
    "def edits1(word):\n",
    "    pairs      = splits(word)\n",
    "    deletes    = [a+b[1:]           for (a, b) in pairs if b]\n",
    "    transposes = [a+b[1]+b[0]+b[2:] for (a, b) in pairs if len(b) > 1]\n",
    "    replaces   = [a+c+b[1:]         for (a, b) in pairs for c in alphabet if b]\n",
    "    inserts    = [a+c+b             for (a, b) in pairs for c in alphabet]\n",
    "    return set(deletes + transposes + replaces + inserts)\n",
    "    \n",
    "def splits(word):\n",
    "    '''Return a list of all possible (first, rest) pairs that comprise pinyin'''\n",
    "    return [(word[:i], word[i:])\n",
    "             for i in range(len(word)+1)]\n",
    "\n",
    "alphabet = 'abcdefghijklmnopqrstuvwxyz'"
   ]
  },
  {
   "cell_type": "code",
   "execution_count": 162,
   "metadata": {},
   "outputs": [
    {
     "data": {
      "text/plain": [
       "[('', 'zhongwen'),\n",
       " ('z', 'hongwen'),\n",
       " ('zh', 'ongwen'),\n",
       " ('zho', 'ngwen'),\n",
       " ('zhon', 'gwen'),\n",
       " ('zhong', 'wen'),\n",
       " ('zhongw', 'en'),\n",
       " ('zhongwe', 'n'),\n",
       " ('zhongwen', '')]"
      ]
     },
     "execution_count": 162,
     "metadata": {},
     "output_type": "execute_result"
    }
   ],
   "source": [
    "splits('zhongwen')"
   ]
  },
  {
   "cell_type": "code",
   "execution_count": 163,
   "metadata": {},
   "outputs": [
    {
     "name": "stdout",
     "output_type": "stream",
     "text": [
      "['zhongguo']\n"
     ]
    }
   ],
   "source": [
    "print(edits0('zhongguo'))"
   ]
  },
  {
   "cell_type": "code",
   "execution_count": 164,
   "metadata": {},
   "outputs": [
    {
     "name": "stdout",
     "output_type": "stream",
     "text": [
      "{'zhongouo', 'zhonggur', 'zhonggqo', 'zhsongguo', 'gzhongguo', 'mhongguo', 'zbhongguo', 'zhongguoy', 'zhomgguo', 'zhopgguo', 'zhonmgguo', 'zhongguo', 'zhonggto', 'zhonghuo', 'zhonggquo', 'zkhongguo', 'zhonggvo', 'zhonrguo', 'zhoigguo', 'zhongjguo', 'jzhongguo', 'zhongmguo', 'zhongduo', 'znongguo', 'whongguo', 'zhonggun', 'zhongguof', 'ztongguo', 'zhontguo', 'zhosngguo', 'zhlngguo', 'zhongsuo', 'zhoniguo', 'zhonggul', 'zhonmguo', 'zhongguoc', 'ihongguo', 'zhongwuo', 'xzhongguo', 'xhongguo', 'zhongguu', 'pzhongguo', 'shongguo', 'zjongguo', 'zhongguqo', 'dhongguo', 'zzhongguo', 'yzhongguo', 'zhonggupo', 'zhongyuo', 'zhongguxo', 'zihongguo', 'azhongguo', 'zhongugo', 'zhmngguo', 'zhoxgguo', 'zhonwgguo', 'hhongguo', 'zhkongguo', 'zphongguo', 'zhongxguo', 'zhonygguo', 'zhgongguo', 'zhonggko', 'zhdongguo', 'zhoangguo', 'zhongluo', 'zhongguq', 'zgongguo', 'zhofgguo', 'zhongqguo', 'zhongjuo', 'zhobngguo', 'zhlongguo', 'zhonggumo', 'zhongguuo', 'jhongguo', 'zhonggut', 'zbongguo', 'zhowngguo', 'zhocngguo', 'zhonggsuo', 'zhongtguo', 'zhongguko', 'ziongguo', 'zhonggeuo', 'zhonggzuo', 'zhgngguo', 'zhonggud', 'zhoyngguo', 'ahongguo', 'zhongkuo', 'zchongguo', 'zhongwguo', 'zhongaguo', 'zhonrgguo', 'zhondguo', 'zhonggugo', 'zhonggzo', 'zhongguop', 'qhongguo', 'zhonggxo', 'zvongguo', 'zhozgguo', 'zhongzguo', 'zhonggux', 'zhiongguo', 'zhongguf', 'zhondgguo', 'zhpongguo', 'hzhongguo', 'zwhongguo', 'zhorngguo', 'zhkngguo', 'zmongguo', 'zhonggwo', 'zhongrguo', 'zhangguo', 'zhonlgguo', 'zhongguc', 'zhosgguo', 'zhongguwo', 'kzhongguo', 'zhongguow', 'zhonsgguo', 'zholgguo', 'zhoncguo', 'zvhongguo', 'vzhongguo', 'zhongpguo', 'zhongguoj', 'zhonpguo', 'zhonlguo', 'zhonkguo', 'zhonaguo', 'zhdngguo', 'zhbongguo', 'zhonggyuo', 'zhoongguo', 'zhongfuo', 'zhonggduo', 'zhonggho', 'zhongbguo', 'zhngguo', 'zhonggco', 'zhotgguo', 'zhognguo', 'ehongguo', 'zhonfgguo', 'zhonggfo', 'zhonggua', 'zhongdguo', 'ohongguo', 'szhongguo', 'zhongzuo', 'zhonggubo', 'zhonggbuo', 'zhongquo', 'zhongguno', 'zhonggo', 'zhonvguo', 'zhongguoo', 'czhongguo', 'ezhongguo', 'zhowgguo', 'zhonggujo', 'zhongguyo', 'zhongnuo', 'zhonggjuo', 'zhoagguo', 'zhoxngguo', 'zhonzguo', 'zhoqngguo', 'zhonyguo', 'zhongguw', 'zhongguco', 'zhongguso', 'zhotngguo', 'zhonggdo', 'zhongiuo', 'zhonggtuo', 'zhongguoz', 'zhonbguo', 'zohongguo', 'zhongguoh', 'zhongoguo', 'zongguo', 'zhqongguo', 'zhongguov', 'zhvngguo', 'zhonuguo', 'zyongguo', 'zhoengguo', 'zhonngguo', 'zhonwguo', 'zhohngguo', 'zhtongguo', 'zdongguo', 'zhonogguo', 'zhonggwuo', 'zhonggmuo', 'zhonigguo', 'zhonggao', 'zhonggum', 'zhongauo', 'zhonggnuo', 'bzhongguo', 'zhjongguo', 'zhongguy', 'zhoncgguo', 'zhwngguo', 'zhonggug', 'zhonggauo', 'zohngguo', 'zhhngguo', 'zhonggub', 'zhonagguo', 'ghongguo', 'zhongguz', 'zhongguvo', 'bhongguo', 'zhonglguo', 'zhwongguo', 'zhongpuo', 'uhongguo', 'zhonnguo', 'zhoogguo', 'zhingguo', 'zhodngguo', 'zhrongguo', 'zhonggeo', 'zhongguk', 'zhongghuo', 'zhongguoa', 'hzongguo', 'zhvongguo', 'uzhongguo', 'zhonghguo', 'zhonggpuo', 'zpongguo', 'hongguo', 'zhonxguo', 'zhongeuo', 'zhyngguo', 'fzhongguo', 'zhonguguo', 'khongguo', 'zhonvgguo', 'zhbngguo', 'zhengguo', 'zhongkguo', 'zhonhgguo', 'zhongguol', 'zhongguor', 'zhogguo', 'zhuongguo', 'zhonggup', 'zhonggueo', 'zhonggno', 'zahongguo', 'zhopngguo', 'zhongguog', 'zhovngguo', 'zhfngguo', 'lhongguo', 'zhongcguo', 'zhonggvuo', 'zyhongguo', 'zfongguo', 'zhonggkuo', 'zhonggou', 'zhonggfuo', 'zhfongguo', 'zhongguv', 'zhonzgguo', 'zhoungguo', 'zhongguou', 'zhyongguo', 'zjhongguo', 'zhojgguo', 'zhmongguo', 'zhonxgguo', 'zhongmuo', 'zzongguo', 'zuongguo', 'zhsngguo', 'rhongguo', 'nhongguo', 'zehongguo', 'zoongguo', 'zhongguto', 'zhongguoq', 'zhnongguo', 'zeongguo', 'zhonggufo', 'zhongguob', 'vhongguo', 'zhonggu', 'zhorgguo', 'zholngguo', 'zhonggue', 'zhonggudo', 'zhocgguo', 'tzhongguo', 'zhobgguo', 'zhonugguo', 'zhongvuo', 'zaongguo', 'zhozngguo', 'lzhongguo', 'fhongguo', 'ozhongguo', 'zhojngguo', 'zxongguo', 'zhonjgguo', 'zhongguot', 'zhonggoo', 'zhonggui', 'zhonfguo', 'zhongguro', 'zhpngguo', 'zhongcuo', 'zhonggxuo', 'thongguo', 'zhongguj', 'zhonkgguo', 'zhongvguo', 'zthongguo', 'zhungguo', 'zhonggcuo', 'zxhongguo', 'zqhongguo', 'zrongguo', 'zhtngguo', 'zhongguio', 'zhoingguo', 'zhofngguo', 'zhonggiuo', 'zhonggruo', 'zcongguo', 'zhongglo', 'zhnogguo', 'zhonggulo', 'zhonggio', 'zhzngguo', 'zhcongguo', 'zhongyguo', 'zhongguos', 'zhoygguo', 'zhonggouo', 'zhongguzo', 'zhonhguo', 'zhongbuo', 'zhongguho', 'zhokgguo', 'zhongggo', 'zhcngguo', 'znhongguo', 'zhoggguo', 'zhonqgguo', 'zhongnguo', 'zhonegguo', 'zhonggguo', 'zfhongguo', 'zhougguo', 'zhonoguo', 'zhogngguo', 'nzhongguo', 'zhongguh', 'zhohgguo', 'zshongguo', 'zhoegguo', 'zhonggro', 'zhongsguo', 'zhovgguo', 'zhongiguo', 'zdhongguo', 'zhongguod', 'zhongguok', 'zrhongguo', 'phongguo', 'zlongguo', 'zhontgguo', 'zhongfguo', 'zhaongguo', 'zhzongguo', 'zuhongguo', 'zhonqguo', 'zhongguom', 'zhqngguo', 'zhxngguo', 'yhongguo', 'zhokngguo', 'zhonbgguo', 'zhjngguo', 'zhonggyo', 'zhonpgguo', 'zhongruo', 'zhongxuo', 'zhonggjo', 'zhonggluo', 'mzhongguo', 'zhonggpo', 'zhongguon', 'zhongeguo', 'zhongguox', 'zhongguoi', 'zhonguuo', 'zhonggus', 'zwongguo', 'zsongguo', 'rzhongguo', 'zhonggmo', 'zhhongguo', 'zhoqgguo', 'zhonjguo', 'zghongguo', 'zhodgguo', 'zhongtuo', 'wzhongguo', 'zhonggbo', 'zhxongguo', 'zhrngguo', 'zhongguoe', 'chongguo', 'zheongguo', 'zhoneguo', 'zmhongguo', 'zhonguo', 'zhomngguo', 'izhongguo', 'zhonsguo', 'qzhongguo', 'zhonggso', 'zqongguo', 'zhongguao', 'zhnngguo', 'dzhongguo', 'zlhongguo', 'zkongguo'}\n"
     ]
    }
   ],
   "source": [
    "print(edits1('zhongguo'))"
   ]
  },
  {
   "cell_type": "code",
   "execution_count": 171,
   "metadata": {},
   "outputs": [],
   "source": [
    "def get_deletes(word):\n",
    "    pairs      = splits(word)\n",
    "    deletes    = [a+b[1:]           for (a, b) in pairs if b]\n",
    "    return deletes\n",
    "\n",
    "def get_transposes(word):\n",
    "    pairs      = splits(word)\n",
    "    transposes = [a+b[1]+b[0]+b[2:] for (a, b) in pairs if len(b) > 1]\n",
    "    return transposes\n",
    "\n",
    "def get_replaces(word):\n",
    "    pairs      = splits(word)\n",
    "    replaces   = [a+c+b[1:]         for (a, b) in pairs for c in alphabet if b]\n",
    "    return replaces\n",
    "    \n",
    "def get_inserts(word):\n",
    "    pairs      = splits(word)\n",
    "    inserts    = [a+c+b             for (a, b) in pairs for c in alphabet]\n",
    "    return inserts"
   ]
  },
  {
   "cell_type": "code",
   "execution_count": 170,
   "metadata": {},
   "outputs": [
    {
     "name": "stdout",
     "output_type": "stream",
     "text": [
      "['hongguo', 'zongguo', 'zhngguo', 'zhogguo', 'zhonguo', 'zhonguo', 'zhonggo', 'zhonggu']\n"
     ]
    }
   ],
   "source": [
    "print(get_deletes('zhongguo'))"
   ]
  },
  {
   "cell_type": "code",
   "execution_count": 172,
   "metadata": {},
   "outputs": [
    {
     "name": "stdout",
     "output_type": "stream",
     "text": [
      "['hzongguo', 'zohngguo', 'zhnogguo', 'zhognguo', 'zhongguo', 'zhongugo', 'zhonggou']\n"
     ]
    }
   ],
   "source": [
    "print(get_transposes('zhongguo'))"
   ]
  },
  {
   "cell_type": "code",
   "execution_count": 173,
   "metadata": {},
   "outputs": [
    {
     "name": "stdout",
     "output_type": "stream",
     "text": [
      "['ahongguo', 'bhongguo', 'chongguo', 'dhongguo', 'ehongguo', 'fhongguo', 'ghongguo', 'hhongguo', 'ihongguo', 'jhongguo', 'khongguo', 'lhongguo', 'mhongguo', 'nhongguo', 'ohongguo', 'phongguo', 'qhongguo', 'rhongguo', 'shongguo', 'thongguo', 'uhongguo', 'vhongguo', 'whongguo', 'xhongguo', 'yhongguo', 'zhongguo', 'zaongguo', 'zbongguo', 'zcongguo', 'zdongguo', 'zeongguo', 'zfongguo', 'zgongguo', 'zhongguo', 'ziongguo', 'zjongguo', 'zkongguo', 'zlongguo', 'zmongguo', 'znongguo', 'zoongguo', 'zpongguo', 'zqongguo', 'zrongguo', 'zsongguo', 'ztongguo', 'zuongguo', 'zvongguo', 'zwongguo', 'zxongguo', 'zyongguo', 'zzongguo', 'zhangguo', 'zhbngguo', 'zhcngguo', 'zhdngguo', 'zhengguo', 'zhfngguo', 'zhgngguo', 'zhhngguo', 'zhingguo', 'zhjngguo', 'zhkngguo', 'zhlngguo', 'zhmngguo', 'zhnngguo', 'zhongguo', 'zhpngguo', 'zhqngguo', 'zhrngguo', 'zhsngguo', 'zhtngguo', 'zhungguo', 'zhvngguo', 'zhwngguo', 'zhxngguo', 'zhyngguo', 'zhzngguo', 'zhoagguo', 'zhobgguo', 'zhocgguo', 'zhodgguo', 'zhoegguo', 'zhofgguo', 'zhoggguo', 'zhohgguo', 'zhoigguo', 'zhojgguo', 'zhokgguo', 'zholgguo', 'zhomgguo', 'zhongguo', 'zhoogguo', 'zhopgguo', 'zhoqgguo', 'zhorgguo', 'zhosgguo', 'zhotgguo', 'zhougguo', 'zhovgguo', 'zhowgguo', 'zhoxgguo', 'zhoygguo', 'zhozgguo', 'zhonaguo', 'zhonbguo', 'zhoncguo', 'zhondguo', 'zhoneguo', 'zhonfguo', 'zhongguo', 'zhonhguo', 'zhoniguo', 'zhonjguo', 'zhonkguo', 'zhonlguo', 'zhonmguo', 'zhonnguo', 'zhonoguo', 'zhonpguo', 'zhonqguo', 'zhonrguo', 'zhonsguo', 'zhontguo', 'zhonuguo', 'zhonvguo', 'zhonwguo', 'zhonxguo', 'zhonyguo', 'zhonzguo', 'zhongauo', 'zhongbuo', 'zhongcuo', 'zhongduo', 'zhongeuo', 'zhongfuo', 'zhongguo', 'zhonghuo', 'zhongiuo', 'zhongjuo', 'zhongkuo', 'zhongluo', 'zhongmuo', 'zhongnuo', 'zhongouo', 'zhongpuo', 'zhongquo', 'zhongruo', 'zhongsuo', 'zhongtuo', 'zhonguuo', 'zhongvuo', 'zhongwuo', 'zhongxuo', 'zhongyuo', 'zhongzuo', 'zhonggao', 'zhonggbo', 'zhonggco', 'zhonggdo', 'zhonggeo', 'zhonggfo', 'zhongggo', 'zhonggho', 'zhonggio', 'zhonggjo', 'zhonggko', 'zhongglo', 'zhonggmo', 'zhonggno', 'zhonggoo', 'zhonggpo', 'zhonggqo', 'zhonggro', 'zhonggso', 'zhonggto', 'zhongguo', 'zhonggvo', 'zhonggwo', 'zhonggxo', 'zhonggyo', 'zhonggzo', 'zhonggua', 'zhonggub', 'zhongguc', 'zhonggud', 'zhonggue', 'zhongguf', 'zhonggug', 'zhongguh', 'zhonggui', 'zhongguj', 'zhongguk', 'zhonggul', 'zhonggum', 'zhonggun', 'zhongguo', 'zhonggup', 'zhongguq', 'zhonggur', 'zhonggus', 'zhonggut', 'zhongguu', 'zhongguv', 'zhongguw', 'zhonggux', 'zhongguy', 'zhongguz']\n"
     ]
    }
   ],
   "source": [
    "print(get_replaces('zhongguo'))"
   ]
  },
  {
   "cell_type": "code",
   "execution_count": 176,
   "metadata": {},
   "outputs": [
    {
     "name": "stdout",
     "output_type": "stream",
     "text": [
      "['azhongguo', 'bzhongguo', 'czhongguo', 'dzhongguo', 'ezhongguo', 'fzhongguo', 'gzhongguo', 'hzhongguo', 'izhongguo', 'jzhongguo', 'kzhongguo', 'lzhongguo', 'mzhongguo', 'nzhongguo', 'ozhongguo', 'pzhongguo', 'qzhongguo', 'rzhongguo', 'szhongguo', 'tzhongguo', 'uzhongguo', 'vzhongguo', 'wzhongguo', 'xzhongguo', 'yzhongguo', 'zzhongguo', 'zahongguo', 'zbhongguo', 'zchongguo', 'zdhongguo', 'zehongguo', 'zfhongguo', 'zghongguo', 'zhhongguo', 'zihongguo', 'zjhongguo', 'zkhongguo', 'zlhongguo', 'zmhongguo', 'znhongguo', 'zohongguo', 'zphongguo', 'zqhongguo', 'zrhongguo', 'zshongguo', 'zthongguo', 'zuhongguo', 'zvhongguo', 'zwhongguo', 'zxhongguo', 'zyhongguo', 'zzhongguo', 'zhaongguo', 'zhbongguo', 'zhcongguo', 'zhdongguo', 'zheongguo', 'zhfongguo', 'zhgongguo', 'zhhongguo', 'zhiongguo', 'zhjongguo', 'zhkongguo', 'zhlongguo', 'zhmongguo', 'zhnongguo', 'zhoongguo', 'zhpongguo', 'zhqongguo', 'zhrongguo', 'zhsongguo', 'zhtongguo', 'zhuongguo', 'zhvongguo', 'zhwongguo', 'zhxongguo', 'zhyongguo', 'zhzongguo', 'zhoangguo', 'zhobngguo', 'zhocngguo', 'zhodngguo', 'zhoengguo', 'zhofngguo', 'zhogngguo', 'zhohngguo', 'zhoingguo', 'zhojngguo', 'zhokngguo', 'zholngguo', 'zhomngguo', 'zhonngguo', 'zhoongguo', 'zhopngguo', 'zhoqngguo', 'zhorngguo', 'zhosngguo', 'zhotngguo', 'zhoungguo', 'zhovngguo', 'zhowngguo', 'zhoxngguo', 'zhoyngguo', 'zhozngguo', 'zhonagguo', 'zhonbgguo', 'zhoncgguo', 'zhondgguo', 'zhonegguo', 'zhonfgguo', 'zhonggguo', 'zhonhgguo', 'zhonigguo', 'zhonjgguo', 'zhonkgguo', 'zhonlgguo', 'zhonmgguo', 'zhonngguo', 'zhonogguo', 'zhonpgguo', 'zhonqgguo', 'zhonrgguo', 'zhonsgguo', 'zhontgguo', 'zhonugguo', 'zhonvgguo', 'zhonwgguo', 'zhonxgguo', 'zhonygguo', 'zhonzgguo', 'zhongaguo', 'zhongbguo', 'zhongcguo', 'zhongdguo', 'zhongeguo', 'zhongfguo', 'zhonggguo', 'zhonghguo', 'zhongiguo', 'zhongjguo', 'zhongkguo', 'zhonglguo', 'zhongmguo', 'zhongnguo', 'zhongoguo', 'zhongpguo', 'zhongqguo', 'zhongrguo', 'zhongsguo', 'zhongtguo', 'zhonguguo', 'zhongvguo', 'zhongwguo', 'zhongxguo', 'zhongyguo', 'zhongzguo', 'zhonggauo', 'zhonggbuo', 'zhonggcuo', 'zhonggduo', 'zhonggeuo', 'zhonggfuo', 'zhonggguo', 'zhongghuo', 'zhonggiuo', 'zhonggjuo', 'zhonggkuo', 'zhonggluo', 'zhonggmuo', 'zhonggnuo', 'zhonggouo', 'zhonggpuo', 'zhonggquo', 'zhonggruo', 'zhonggsuo', 'zhonggtuo', 'zhongguuo', 'zhonggvuo', 'zhonggwuo', 'zhonggxuo', 'zhonggyuo', 'zhonggzuo', 'zhongguao', 'zhonggubo', 'zhongguco', 'zhonggudo', 'zhonggueo', 'zhonggufo', 'zhonggugo', 'zhongguho', 'zhongguio', 'zhonggujo', 'zhongguko', 'zhonggulo', 'zhonggumo', 'zhongguno', 'zhongguoo', 'zhonggupo', 'zhongguqo', 'zhongguro', 'zhongguso', 'zhongguto', 'zhongguuo', 'zhongguvo', 'zhongguwo', 'zhongguxo', 'zhongguyo', 'zhongguzo', 'zhongguoa', 'zhongguob', 'zhongguoc', 'zhongguod', 'zhongguoe', 'zhongguof', 'zhongguog', 'zhongguoh', 'zhongguoi', 'zhongguoj', 'zhongguok', 'zhongguol', 'zhongguom', 'zhongguon', 'zhongguoo', 'zhongguop', 'zhongguoq', 'zhongguor', 'zhongguos', 'zhongguot', 'zhongguou', 'zhongguov', 'zhongguow', 'zhongguox', 'zhongguoy', 'zhongguoz']\n"
     ]
    }
   ],
   "source": [
    "print(get_inserts('zhongguo'))"
   ]
  },
  {
   "cell_type": "code",
   "execution_count": 187,
   "metadata": {},
   "outputs": [
    {
     "data": {
      "text/plain": [
       "['pian', 'ping']"
      ]
     },
     "execution_count": 187,
     "metadata": {},
     "output_type": "execute_result"
    }
   ],
   "source": [
    "known(get_inserts('pin'))"
   ]
  },
  {
   "cell_type": "code",
   "execution_count": 194,
   "metadata": {},
   "outputs": [
    {
     "data": {
      "text/plain": [
       "'ping'"
      ]
     },
     "execution_count": 194,
     "metadata": {},
     "output_type": "execute_result"
    }
   ],
   "source": [
    "correct_pinyin('piny')"
   ]
  },
  {
   "cell_type": "code",
   "execution_count": 199,
   "metadata": {},
   "outputs": [
    {
     "data": {
      "text/plain": [
       "'zhong'"
      ]
     },
     "execution_count": 199,
     "metadata": {},
     "output_type": "execute_result"
    }
   ],
   "source": [
    "correct_pinyin('zhogn')"
   ]
  },
  {
   "cell_type": "code",
   "execution_count": 201,
   "metadata": {},
   "outputs": [
    {
     "data": {
      "text/plain": [
       "'ying'"
      ]
     },
     "execution_count": 201,
     "metadata": {},
     "output_type": "execute_result"
    }
   ],
   "source": [
    "correct_pinyin(\"yinn\")"
   ]
  },
  {
   "cell_type": "markdown",
   "metadata": {},
   "source": [
    "**写一个函数，能够改正一个序列**"
   ]
  },
  {
   "cell_type": "code",
   "execution_count": 203,
   "metadata": {},
   "outputs": [],
   "source": [
    "def correct_sequence_pinyin(text_pinyin):\n",
    "    return ' '.join(map(correct_pinyin, text_pinyin.split()))"
   ]
  },
  {
   "cell_type": "code",
   "execution_count": 204,
   "metadata": {},
   "outputs": [
    {
     "data": {
      "text/plain": [
       "'wo xian shang qing hua da xue'"
      ]
     },
     "execution_count": 204,
     "metadata": {},
     "output_type": "execute_result"
    }
   ],
   "source": [
    "correct_sequence_pinyin(\"wo xiagn shnag qinng hau da xue\")"
   ]
  },
  {
   "cell_type": "markdown",
   "metadata": {},
   "source": [
    "**思考题：\"woxiagnshnagqinnghaudaxue\" --》 \"wo xiagn shnag qinng hau da xue\"**"
   ]
  },
  {
   "cell_type": "markdown",
   "metadata": {},
   "source": [
    "使用1-gram，2-gram建立语料库，然后，找到最大概率切分方式：\n",
    "\n",
    "w oxiagnshnagqinnghaudaxue\n",
    "\n",
    "wo xiagnshnagqinnghaudaxue\n",
    "\n",
    "wox iagnshnagqinnghaudaxue\n",
    "\n",
    "...\n",
    "\n",
    "wo xiagn shnagqinnghaudaxue\n",
    "\n",
    "**get_max_split_probability**"
   ]
  },
  {
   "cell_type": "code",
   "execution_count": null,
   "metadata": {},
   "outputs": [],
   "source": []
  }
 ],
 "metadata": {
  "kernelspec": {
   "display_name": "Python 3",
   "language": "python",
   "name": "python3"
  },
  "language_info": {
   "codemirror_mode": {
    "name": "ipython",
    "version": 3
   },
   "file_extension": ".py",
   "mimetype": "text/x-python",
   "name": "python",
   "nbconvert_exporter": "python",
   "pygments_lexer": "ipython3",
   "version": "3.7.3"
  }
 },
 "nbformat": 4,
 "nbformat_minor": 2
}
